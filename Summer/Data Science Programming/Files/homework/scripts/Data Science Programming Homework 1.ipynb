{
 "cells": [
  {
   "cell_type": "markdown",
   "id": "0c0f4e3b",
   "metadata": {},
   "source": [
    "Define inputs, import libraries"
   ]
  },
  {
   "cell_type": "code",
   "execution_count": 5,
   "id": "3e8efdfc",
   "metadata": {},
   "outputs": [],
   "source": [
    "import numpy as np\n",
    "import pandas as pd\n",
    "import re\n",
    "import random"
   ]
  },
  {
   "cell_type": "markdown",
   "id": "b7299588",
   "metadata": {},
   "source": [
    "User input"
   ]
  },
  {
   "cell_type": "code",
   "execution_count": 3,
   "id": "c4f7749a",
   "metadata": {},
   "outputs": [
    {
     "name": "stdout",
     "output_type": "stream",
     "text": [
      "Press 1 for Rock, 2 for Paper, 3 for Scissor. Press q if you want to quit 1\n"
     ]
    }
   ],
   "source": [
    "user=input(\"Press 1 for Rock, 2 for Paper, 3 for Scissor. Press q if you want to quit \")"
   ]
  },
  {
   "cell_type": "markdown",
   "id": "06bcbd6f",
   "metadata": {},
   "source": [
    "Processing functions"
   ]
  },
  {
   "cell_type": "code",
   "execution_count": 169,
   "id": "960f7fd9",
   "metadata": {},
   "outputs": [],
   "source": [
    "def game(cpu,user):\n",
    "    if cpu==user:\n",
    "        return 0\n",
    "    else:\n",
    "        if abs(cpu-user)==1:\n",
    "            if cpu>user:\n",
    "                return 1\n",
    "            else:\n",
    "                return -1\n",
    "        elif abs(cpu-user)==2:\n",
    "            if cpu<user:\n",
    "                return 1\n",
    "            else:\n",
    "                return -1\n",
    "        else:\n",
    "            return null"
   ]
  },
  {
   "cell_type": "code",
   "execution_count": 170,
   "id": "e0eb8628",
   "metadata": {},
   "outputs": [
    {
     "name": "stdout",
     "output_type": "stream",
     "text": [
      "Press 1 for Rock, 2 for Paper, 3 for Scissor. Press q if you want to quit 1\n",
      "Incorrect input\n",
      "cpu was 1\n"
     ]
    }
   ],
   "source": [
    "cpu=random.randrange(1, 4)\n",
    "user=input(\"Press 1 for Rock, 2 for Paper, 3 for Scissor. Press q if you want to quit \")\n",
    "user=int(user)\n",
    "game(cpu,user)\n",
    "if game==1:\n",
    "    print('CPU is the winner')\n",
    "elif game==-1:\n",
    "    print('User is the winner')\n",
    "elif game==0:\n",
    "    print('It is a tie')\n",
    "else:\n",
    "    print('Incorrect input')\n",
    "print(\"cpu was\", cpu)"
   ]
  },
  {
   "cell_type": "code",
   "execution_count": null,
   "id": "30fb0335",
   "metadata": {},
   "outputs": [],
   "source": []
  }
 ],
 "metadata": {
  "kernelspec": {
   "display_name": "Python 3 (ipykernel)",
   "language": "python",
   "name": "python3"
  },
  "language_info": {
   "codemirror_mode": {
    "name": "ipython",
    "version": 3
   },
   "file_extension": ".py",
   "mimetype": "text/x-python",
   "name": "python",
   "nbconvert_exporter": "python",
   "pygments_lexer": "ipython3",
   "version": "3.9.12"
  }
 },
 "nbformat": 4,
 "nbformat_minor": 5
}
