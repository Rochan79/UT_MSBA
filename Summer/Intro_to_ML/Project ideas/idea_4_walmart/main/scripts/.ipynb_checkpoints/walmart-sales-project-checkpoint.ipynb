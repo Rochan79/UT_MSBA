{
 "cells": [
  {
   "cell_type": "markdown",
   "id": "dc5e75b6",
   "metadata": {
    "execution": {
     "iopub.execute_input": "2021-10-27T07:57:47.498896Z",
     "iopub.status.busy": "2021-10-27T07:57:47.498500Z",
     "iopub.status.idle": "2021-10-27T07:57:47.505922Z",
     "shell.execute_reply": "2021-10-27T07:57:47.504729Z",
     "shell.execute_reply.started": "2021-10-27T07:57:47.498860Z"
    },
    "papermill": {
     "duration": 0.027499,
     "end_time": "2021-10-27T08:01:25.938197",
     "exception": false,
     "start_time": "2021-10-27T08:01:25.910698",
     "status": "completed"
    },
    "tags": []
   },
   "source": [
    " # **RETAIL ANALYSIS WITH WALMART DATA**\n",
    "     \n",
    "   ######                    **PYHTON PROJECT BY - RUTU PATEL**\n",
    " \n",
    "---"
   ]
  },
  {
   "cell_type": "markdown",
   "id": "01e781c4",
   "metadata": {
    "papermill": {
     "duration": 0.026295,
     "end_time": "2021-10-27T08:01:25.990401",
     "exception": false,
     "start_time": "2021-10-27T08:01:25.964106",
     "status": "completed"
    },
    "tags": []
   },
   "source": [
    "### **Summary & Objective :**\n",
    "\n",
    "Historical sales data for 45 Walmart stores located in different regions are available. There are certain events and holidays which impact sales on each day. The business is facing a challenge due to unforeseen demands and runs out of stock some times, due to inappropriate machine learning algorithm. Walmart would like to predict the sales and demand accurately. An ideal ML algorithm will predict demand accurately and ingest factors like economic conditions including CPI, Unemployment Index, etc. The objective is to determine the factors affecting the sales and to analyze the impact of markdowns around holidays on the sales.\n",
    "\n",
    "---"
   ]
  },
  {
   "cell_type": "markdown",
   "id": "e93ad2fc",
   "metadata": {
    "papermill": {
     "duration": 0.024689,
     "end_time": "2021-10-27T08:01:26.040584",
     "exception": false,
     "start_time": "2021-10-27T08:01:26.015895",
     "status": "completed"
    },
    "tags": []
   },
   "source": [
    "### **Data Understanding :**\n",
    "\n",
    "This is the historical data that covers sales from 2010-02-05 to 2012-11-01, in which you will find the following fields:\n",
    "\n",
    "- Store - the store number\n",
    "\n",
    "- Date - the week of sales\n",
    "\n",
    "- Weekly_Sales -  sales for the given store\n",
    "\n",
    "- Holiday_Flag - whether the week is a special holiday week 1 – Holiday week 0 – Non-holiday week\n",
    "\n",
    "- Temperature - Temperature on the day of sale\n",
    "\n",
    "- Fuel_Price - Cost of fuel in the region\n",
    "\n",
    "- CPI – Prevailing consumer price index\n",
    "\n",
    "- Unemployment - Prevailing unemployment rate\n",
    "\n",
    "---"
   ]
  },
  {
   "cell_type": "markdown",
   "id": "dfeaedfa",
   "metadata": {
    "papermill": {
     "duration": 0.02483,
     "end_time": "2021-10-27T08:01:26.090434",
     "exception": false,
     "start_time": "2021-10-27T08:01:26.065604",
     "status": "completed"
    },
    "tags": []
   },
   "source": [
    " ### **Data Preparation :**\n",
    " \n",
    " "
   ]
  },
  {
   "cell_type": "markdown",
   "id": "e5b00d23",
   "metadata": {
    "papermill": {
     "duration": 0.026252,
     "end_time": "2021-10-27T08:01:26.141662",
     "exception": false,
     "start_time": "2021-10-27T08:01:26.115410",
     "status": "completed"
    },
    "tags": []
   },
   "source": [
    "##### **Loading required libraries :**"
   ]
  },
  {
   "cell_type": "code",
   "execution_count": 1,
   "id": "2014ee1f",
   "metadata": {
    "execution": {
     "iopub.execute_input": "2021-10-27T08:01:26.201424Z",
     "iopub.status.busy": "2021-10-27T08:01:26.195784Z",
     "iopub.status.idle": "2021-10-27T08:01:27.217156Z",
     "shell.execute_reply": "2021-10-27T08:01:27.216175Z",
     "shell.execute_reply.started": "2021-10-27T07:31:21.512554Z"
    },
    "papermill": {
     "duration": 1.050116,
     "end_time": "2021-10-27T08:01:27.217373",
     "exception": false,
     "start_time": "2021-10-27T08:01:26.167257",
     "status": "completed"
    },
    "tags": []
   },
   "outputs": [],
   "source": [
    "import numpy as np\n",
    "import pandas as pd\n",
    "import matplotlib.pyplot as plt\n",
    "%matplotlib inline\n",
    "from matplotlib import dates\n",
    "from datetime import datetime\n",
    "import sklearn\n",
    "import seaborn as sns"
   ]
  },
  {
   "cell_type": "markdown",
   "id": "9afb1132",
   "metadata": {
    "papermill": {
     "duration": 0.024998,
     "end_time": "2021-10-27T08:01:27.267801",
     "exception": false,
     "start_time": "2021-10-27T08:01:27.242803",
     "status": "completed"
    },
    "tags": []
   },
   "source": [
    "##### **Importing the dataset :**"
   ]
  },
  {
   "cell_type": "code",
   "execution_count": 2,
   "id": "12aab56b",
   "metadata": {
    "execution": {
     "iopub.execute_input": "2021-10-27T08:01:27.381734Z",
     "iopub.status.busy": "2021-10-27T08:01:27.379840Z",
     "iopub.status.idle": "2021-10-27T08:01:27.429020Z",
     "shell.execute_reply": "2021-10-27T08:01:27.429468Z",
     "shell.execute_reply.started": "2021-10-27T07:33:29.734089Z"
    },
    "papermill": {
     "duration": 0.078016,
     "end_time": "2021-10-27T08:01:27.429638",
     "exception": false,
     "start_time": "2021-10-27T08:01:27.351622",
     "status": "completed"
    },
    "tags": []
   },
   "outputs": [
    {
     "data": {
      "text/html": [
       "<div>\n",
       "<style scoped>\n",
       "    .dataframe tbody tr th:only-of-type {\n",
       "        vertical-align: middle;\n",
       "    }\n",
       "\n",
       "    .dataframe tbody tr th {\n",
       "        vertical-align: top;\n",
       "    }\n",
       "\n",
       "    .dataframe thead th {\n",
       "        text-align: right;\n",
       "    }\n",
       "</style>\n",
       "<table border=\"1\" class=\"dataframe\">\n",
       "  <thead>\n",
       "    <tr style=\"text-align: right;\">\n",
       "      <th></th>\n",
       "      <th>Store</th>\n",
       "      <th>Date</th>\n",
       "      <th>Weekly_Sales</th>\n",
       "      <th>Holiday_Flag</th>\n",
       "      <th>Temperature</th>\n",
       "      <th>Fuel_Price</th>\n",
       "      <th>CPI</th>\n",
       "      <th>Unemployment</th>\n",
       "    </tr>\n",
       "  </thead>\n",
       "  <tbody>\n",
       "    <tr>\n",
       "      <th>0</th>\n",
       "      <td>1</td>\n",
       "      <td>05-02-2010</td>\n",
       "      <td>1643690.90</td>\n",
       "      <td>0</td>\n",
       "      <td>42.31</td>\n",
       "      <td>2.572</td>\n",
       "      <td>211.096358</td>\n",
       "      <td>8.106</td>\n",
       "    </tr>\n",
       "    <tr>\n",
       "      <th>1</th>\n",
       "      <td>1</td>\n",
       "      <td>12-02-2010</td>\n",
       "      <td>1641957.44</td>\n",
       "      <td>1</td>\n",
       "      <td>38.51</td>\n",
       "      <td>2.548</td>\n",
       "      <td>211.242170</td>\n",
       "      <td>8.106</td>\n",
       "    </tr>\n",
       "    <tr>\n",
       "      <th>2</th>\n",
       "      <td>1</td>\n",
       "      <td>19-02-2010</td>\n",
       "      <td>1611968.17</td>\n",
       "      <td>0</td>\n",
       "      <td>39.93</td>\n",
       "      <td>2.514</td>\n",
       "      <td>211.289143</td>\n",
       "      <td>8.106</td>\n",
       "    </tr>\n",
       "    <tr>\n",
       "      <th>3</th>\n",
       "      <td>1</td>\n",
       "      <td>26-02-2010</td>\n",
       "      <td>1409727.59</td>\n",
       "      <td>0</td>\n",
       "      <td>46.63</td>\n",
       "      <td>2.561</td>\n",
       "      <td>211.319643</td>\n",
       "      <td>8.106</td>\n",
       "    </tr>\n",
       "    <tr>\n",
       "      <th>4</th>\n",
       "      <td>1</td>\n",
       "      <td>05-03-2010</td>\n",
       "      <td>1554806.68</td>\n",
       "      <td>0</td>\n",
       "      <td>46.50</td>\n",
       "      <td>2.625</td>\n",
       "      <td>211.350143</td>\n",
       "      <td>8.106</td>\n",
       "    </tr>\n",
       "  </tbody>\n",
       "</table>\n",
       "</div>"
      ],
      "text/plain": [
       "   Store        Date  Weekly_Sales  Holiday_Flag  Temperature  Fuel_Price  \\\n",
       "0      1  05-02-2010    1643690.90             0        42.31       2.572   \n",
       "1      1  12-02-2010    1641957.44             1        38.51       2.548   \n",
       "2      1  19-02-2010    1611968.17             0        39.93       2.514   \n",
       "3      1  26-02-2010    1409727.59             0        46.63       2.561   \n",
       "4      1  05-03-2010    1554806.68             0        46.50       2.625   \n",
       "\n",
       "          CPI  Unemployment  \n",
       "0  211.096358         8.106  \n",
       "1  211.242170         8.106  \n",
       "2  211.289143         8.106  \n",
       "3  211.319643         8.106  \n",
       "4  211.350143         8.106  "
      ]
     },
     "execution_count": 2,
     "metadata": {},
     "output_type": "execute_result"
    }
   ],
   "source": [
    "walmart_data = pd.read_csv(\"C:/Users/Rochan Nehete/Desktop/Work/Classes/Summer/Intro_to_ML/Project ideas/idea_4_walmart/main/data/Walmart_Store_sales.csv\")\n",
    "walmart_data.head()"
   ]
  },
  {
   "cell_type": "markdown",
   "id": "8ce69edb",
   "metadata": {
    "papermill": {
     "duration": 0.025545,
     "end_time": "2021-10-27T08:01:27.481321",
     "exception": false,
     "start_time": "2021-10-27T08:01:27.455776",
     "status": "completed"
    },
    "tags": []
   },
   "source": [
    "##### **Viewing Data Information :**"
   ]
  },
  {
   "cell_type": "code",
   "execution_count": 3,
   "id": "f5995639",
   "metadata": {
    "execution": {
     "iopub.execute_input": "2021-10-27T08:01:27.536200Z",
     "iopub.status.busy": "2021-10-27T08:01:27.535557Z",
     "iopub.status.idle": "2021-10-27T08:01:27.563242Z",
     "shell.execute_reply": "2021-10-27T08:01:27.562779Z",
     "shell.execute_reply.started": "2021-10-27T07:34:31.085336Z"
    },
    "papermill": {
     "duration": 0.05644,
     "end_time": "2021-10-27T08:01:27.563403",
     "exception": false,
     "start_time": "2021-10-27T08:01:27.506963",
     "status": "completed"
    },
    "tags": []
   },
   "outputs": [
    {
     "name": "stdout",
     "output_type": "stream",
     "text": [
      "<class 'pandas.core.frame.DataFrame'>\n",
      "RangeIndex: 6435 entries, 0 to 6434\n",
      "Data columns (total 8 columns):\n",
      " #   Column        Non-Null Count  Dtype         \n",
      "---  ------        --------------  -----         \n",
      " 0   Store         6435 non-null   int64         \n",
      " 1   Date          6435 non-null   datetime64[ns]\n",
      " 2   Weekly_Sales  6435 non-null   float64       \n",
      " 3   Holiday_Flag  6435 non-null   int64         \n",
      " 4   Temperature   6435 non-null   float64       \n",
      " 5   Fuel_Price    6435 non-null   float64       \n",
      " 6   CPI           6435 non-null   float64       \n",
      " 7   Unemployment  6435 non-null   float64       \n",
      "dtypes: datetime64[ns](1), float64(5), int64(2)\n",
      "memory usage: 402.3 KB\n"
     ]
    },
    {
     "name": "stderr",
     "output_type": "stream",
     "text": [
      "C:\\Users\\Rochan Nehete\\anaconda3\\lib\\site-packages\\pandas\\core\\tools\\datetimes.py:1047: UserWarning: Parsing '19-02-2010' in DD/MM/YYYY format. Provide format or specify infer_datetime_format=True for consistent parsing.\n",
      "  cache_array = _maybe_cache(arg, format, cache, convert_listlike)\n",
      "C:\\Users\\Rochan Nehete\\anaconda3\\lib\\site-packages\\pandas\\core\\tools\\datetimes.py:1047: UserWarning: Parsing '26-02-2010' in DD/MM/YYYY format. Provide format or specify infer_datetime_format=True for consistent parsing.\n",
      "  cache_array = _maybe_cache(arg, format, cache, convert_listlike)\n",
      "C:\\Users\\Rochan Nehete\\anaconda3\\lib\\site-packages\\pandas\\core\\tools\\datetimes.py:1047: UserWarning: Parsing '19-03-2010' in DD/MM/YYYY format. Provide format or specify infer_datetime_format=True for consistent parsing.\n",
      "  cache_array = _maybe_cache(arg, format, cache, convert_listlike)\n",
      "C:\\Users\\Rochan Nehete\\anaconda3\\lib\\site-packages\\pandas\\core\\tools\\datetimes.py:1047: UserWarning: Parsing '26-03-2010' in DD/MM/YYYY format. Provide format or specify infer_datetime_format=True for consistent parsing.\n",
      "  cache_array = _maybe_cache(arg, format, cache, convert_listlike)\n",
      "C:\\Users\\Rochan Nehete\\anaconda3\\lib\\site-packages\\pandas\\core\\tools\\datetimes.py:1047: UserWarning: Parsing '16-04-2010' in DD/MM/YYYY format. Provide format or specify infer_datetime_format=True for consistent parsing.\n",
      "  cache_array = _maybe_cache(arg, format, cache, convert_listlike)\n",
      "C:\\Users\\Rochan Nehete\\anaconda3\\lib\\site-packages\\pandas\\core\\tools\\datetimes.py:1047: UserWarning: Parsing '23-04-2010' in DD/MM/YYYY format. Provide format or specify infer_datetime_format=True for consistent parsing.\n",
      "  cache_array = _maybe_cache(arg, format, cache, convert_listlike)\n",
      "C:\\Users\\Rochan Nehete\\anaconda3\\lib\\site-packages\\pandas\\core\\tools\\datetimes.py:1047: UserWarning: Parsing '30-04-2010' in DD/MM/YYYY format. Provide format or specify infer_datetime_format=True for consistent parsing.\n",
      "  cache_array = _maybe_cache(arg, format, cache, convert_listlike)\n",
      "C:\\Users\\Rochan Nehete\\anaconda3\\lib\\site-packages\\pandas\\core\\tools\\datetimes.py:1047: UserWarning: Parsing '14-05-2010' in DD/MM/YYYY format. Provide format or specify infer_datetime_format=True for consistent parsing.\n",
      "  cache_array = _maybe_cache(arg, format, cache, convert_listlike)\n",
      "C:\\Users\\Rochan Nehete\\anaconda3\\lib\\site-packages\\pandas\\core\\tools\\datetimes.py:1047: UserWarning: Parsing '21-05-2010' in DD/MM/YYYY format. Provide format or specify infer_datetime_format=True for consistent parsing.\n",
      "  cache_array = _maybe_cache(arg, format, cache, convert_listlike)\n",
      "C:\\Users\\Rochan Nehete\\anaconda3\\lib\\site-packages\\pandas\\core\\tools\\datetimes.py:1047: UserWarning: Parsing '28-05-2010' in DD/MM/YYYY format. Provide format or specify infer_datetime_format=True for consistent parsing.\n",
      "  cache_array = _maybe_cache(arg, format, cache, convert_listlike)\n",
      "C:\\Users\\Rochan Nehete\\anaconda3\\lib\\site-packages\\pandas\\core\\tools\\datetimes.py:1047: UserWarning: Parsing '18-06-2010' in DD/MM/YYYY format. Provide format or specify infer_datetime_format=True for consistent parsing.\n",
      "  cache_array = _maybe_cache(arg, format, cache, convert_listlike)\n",
      "C:\\Users\\Rochan Nehete\\anaconda3\\lib\\site-packages\\pandas\\core\\tools\\datetimes.py:1047: UserWarning: Parsing '25-06-2010' in DD/MM/YYYY format. Provide format or specify infer_datetime_format=True for consistent parsing.\n",
      "  cache_array = _maybe_cache(arg, format, cache, convert_listlike)\n",
      "C:\\Users\\Rochan Nehete\\anaconda3\\lib\\site-packages\\pandas\\core\\tools\\datetimes.py:1047: UserWarning: Parsing '16-07-2010' in DD/MM/YYYY format. Provide format or specify infer_datetime_format=True for consistent parsing.\n",
      "  cache_array = _maybe_cache(arg, format, cache, convert_listlike)\n",
      "C:\\Users\\Rochan Nehete\\anaconda3\\lib\\site-packages\\pandas\\core\\tools\\datetimes.py:1047: UserWarning: Parsing '23-07-2010' in DD/MM/YYYY format. Provide format or specify infer_datetime_format=True for consistent parsing.\n",
      "  cache_array = _maybe_cache(arg, format, cache, convert_listlike)\n",
      "C:\\Users\\Rochan Nehete\\anaconda3\\lib\\site-packages\\pandas\\core\\tools\\datetimes.py:1047: UserWarning: Parsing '30-07-2010' in DD/MM/YYYY format. Provide format or specify infer_datetime_format=True for consistent parsing.\n",
      "  cache_array = _maybe_cache(arg, format, cache, convert_listlike)\n",
      "C:\\Users\\Rochan Nehete\\anaconda3\\lib\\site-packages\\pandas\\core\\tools\\datetimes.py:1047: UserWarning: Parsing '13-08-2010' in DD/MM/YYYY format. Provide format or specify infer_datetime_format=True for consistent parsing.\n",
      "  cache_array = _maybe_cache(arg, format, cache, convert_listlike)\n",
      "C:\\Users\\Rochan Nehete\\anaconda3\\lib\\site-packages\\pandas\\core\\tools\\datetimes.py:1047: UserWarning: Parsing '20-08-2010' in DD/MM/YYYY format. Provide format or specify infer_datetime_format=True for consistent parsing.\n",
      "  cache_array = _maybe_cache(arg, format, cache, convert_listlike)\n",
      "C:\\Users\\Rochan Nehete\\anaconda3\\lib\\site-packages\\pandas\\core\\tools\\datetimes.py:1047: UserWarning: Parsing '27-08-2010' in DD/MM/YYYY format. Provide format or specify infer_datetime_format=True for consistent parsing.\n",
      "  cache_array = _maybe_cache(arg, format, cache, convert_listlike)\n",
      "C:\\Users\\Rochan Nehete\\anaconda3\\lib\\site-packages\\pandas\\core\\tools\\datetimes.py:1047: UserWarning: Parsing '17-09-2010' in DD/MM/YYYY format. Provide format or specify infer_datetime_format=True for consistent parsing.\n",
      "  cache_array = _maybe_cache(arg, format, cache, convert_listlike)\n",
      "C:\\Users\\Rochan Nehete\\anaconda3\\lib\\site-packages\\pandas\\core\\tools\\datetimes.py:1047: UserWarning: Parsing '24-09-2010' in DD/MM/YYYY format. Provide format or specify infer_datetime_format=True for consistent parsing.\n",
      "  cache_array = _maybe_cache(arg, format, cache, convert_listlike)\n",
      "C:\\Users\\Rochan Nehete\\anaconda3\\lib\\site-packages\\pandas\\core\\tools\\datetimes.py:1047: UserWarning: Parsing '15-10-2010' in DD/MM/YYYY format. Provide format or specify infer_datetime_format=True for consistent parsing.\n",
      "  cache_array = _maybe_cache(arg, format, cache, convert_listlike)\n",
      "C:\\Users\\Rochan Nehete\\anaconda3\\lib\\site-packages\\pandas\\core\\tools\\datetimes.py:1047: UserWarning: Parsing '22-10-2010' in DD/MM/YYYY format. Provide format or specify infer_datetime_format=True for consistent parsing.\n",
      "  cache_array = _maybe_cache(arg, format, cache, convert_listlike)\n",
      "C:\\Users\\Rochan Nehete\\anaconda3\\lib\\site-packages\\pandas\\core\\tools\\datetimes.py:1047: UserWarning: Parsing '29-10-2010' in DD/MM/YYYY format. Provide format or specify infer_datetime_format=True for consistent parsing.\n",
      "  cache_array = _maybe_cache(arg, format, cache, convert_listlike)\n",
      "C:\\Users\\Rochan Nehete\\anaconda3\\lib\\site-packages\\pandas\\core\\tools\\datetimes.py:1047: UserWarning: Parsing '19-11-2010' in DD/MM/YYYY format. Provide format or specify infer_datetime_format=True for consistent parsing.\n",
      "  cache_array = _maybe_cache(arg, format, cache, convert_listlike)\n",
      "C:\\Users\\Rochan Nehete\\anaconda3\\lib\\site-packages\\pandas\\core\\tools\\datetimes.py:1047: UserWarning: Parsing '26-11-2010' in DD/MM/YYYY format. Provide format or specify infer_datetime_format=True for consistent parsing.\n",
      "  cache_array = _maybe_cache(arg, format, cache, convert_listlike)\n",
      "C:\\Users\\Rochan Nehete\\anaconda3\\lib\\site-packages\\pandas\\core\\tools\\datetimes.py:1047: UserWarning: Parsing '17-12-2010' in DD/MM/YYYY format. Provide format or specify infer_datetime_format=True for consistent parsing.\n",
      "  cache_array = _maybe_cache(arg, format, cache, convert_listlike)\n",
      "C:\\Users\\Rochan Nehete\\anaconda3\\lib\\site-packages\\pandas\\core\\tools\\datetimes.py:1047: UserWarning: Parsing '24-12-2010' in DD/MM/YYYY format. Provide format or specify infer_datetime_format=True for consistent parsing.\n",
      "  cache_array = _maybe_cache(arg, format, cache, convert_listlike)\n",
      "C:\\Users\\Rochan Nehete\\anaconda3\\lib\\site-packages\\pandas\\core\\tools\\datetimes.py:1047: UserWarning: Parsing '31-12-2010' in DD/MM/YYYY format. Provide format or specify infer_datetime_format=True for consistent parsing.\n",
      "  cache_array = _maybe_cache(arg, format, cache, convert_listlike)\n",
      "C:\\Users\\Rochan Nehete\\anaconda3\\lib\\site-packages\\pandas\\core\\tools\\datetimes.py:1047: UserWarning: Parsing '14-01-2011' in DD/MM/YYYY format. Provide format or specify infer_datetime_format=True for consistent parsing.\n",
      "  cache_array = _maybe_cache(arg, format, cache, convert_listlike)\n",
      "C:\\Users\\Rochan Nehete\\anaconda3\\lib\\site-packages\\pandas\\core\\tools\\datetimes.py:1047: UserWarning: Parsing '21-01-2011' in DD/MM/YYYY format. Provide format or specify infer_datetime_format=True for consistent parsing.\n",
      "  cache_array = _maybe_cache(arg, format, cache, convert_listlike)\n",
      "C:\\Users\\Rochan Nehete\\anaconda3\\lib\\site-packages\\pandas\\core\\tools\\datetimes.py:1047: UserWarning: Parsing '28-01-2011' in DD/MM/YYYY format. Provide format or specify infer_datetime_format=True for consistent parsing.\n",
      "  cache_array = _maybe_cache(arg, format, cache, convert_listlike)\n",
      "C:\\Users\\Rochan Nehete\\anaconda3\\lib\\site-packages\\pandas\\core\\tools\\datetimes.py:1047: UserWarning: Parsing '18-02-2011' in DD/MM/YYYY format. Provide format or specify infer_datetime_format=True for consistent parsing.\n",
      "  cache_array = _maybe_cache(arg, format, cache, convert_listlike)\n",
      "C:\\Users\\Rochan Nehete\\anaconda3\\lib\\site-packages\\pandas\\core\\tools\\datetimes.py:1047: UserWarning: Parsing '25-02-2011' in DD/MM/YYYY format. Provide format or specify infer_datetime_format=True for consistent parsing.\n",
      "  cache_array = _maybe_cache(arg, format, cache, convert_listlike)\n",
      "C:\\Users\\Rochan Nehete\\anaconda3\\lib\\site-packages\\pandas\\core\\tools\\datetimes.py:1047: UserWarning: Parsing '18-03-2011' in DD/MM/YYYY format. Provide format or specify infer_datetime_format=True for consistent parsing.\n",
      "  cache_array = _maybe_cache(arg, format, cache, convert_listlike)\n",
      "C:\\Users\\Rochan Nehete\\anaconda3\\lib\\site-packages\\pandas\\core\\tools\\datetimes.py:1047: UserWarning: Parsing '25-03-2011' in DD/MM/YYYY format. Provide format or specify infer_datetime_format=True for consistent parsing.\n",
      "  cache_array = _maybe_cache(arg, format, cache, convert_listlike)\n",
      "C:\\Users\\Rochan Nehete\\anaconda3\\lib\\site-packages\\pandas\\core\\tools\\datetimes.py:1047: UserWarning: Parsing '15-04-2011' in DD/MM/YYYY format. Provide format or specify infer_datetime_format=True for consistent parsing.\n",
      "  cache_array = _maybe_cache(arg, format, cache, convert_listlike)\n",
      "C:\\Users\\Rochan Nehete\\anaconda3\\lib\\site-packages\\pandas\\core\\tools\\datetimes.py:1047: UserWarning: Parsing '22-04-2011' in DD/MM/YYYY format. Provide format or specify infer_datetime_format=True for consistent parsing.\n",
      "  cache_array = _maybe_cache(arg, format, cache, convert_listlike)\n",
      "C:\\Users\\Rochan Nehete\\anaconda3\\lib\\site-packages\\pandas\\core\\tools\\datetimes.py:1047: UserWarning: Parsing '29-04-2011' in DD/MM/YYYY format. Provide format or specify infer_datetime_format=True for consistent parsing.\n",
      "  cache_array = _maybe_cache(arg, format, cache, convert_listlike)\n",
      "C:\\Users\\Rochan Nehete\\anaconda3\\lib\\site-packages\\pandas\\core\\tools\\datetimes.py:1047: UserWarning: Parsing '13-05-2011' in DD/MM/YYYY format. Provide format or specify infer_datetime_format=True for consistent parsing.\n",
      "  cache_array = _maybe_cache(arg, format, cache, convert_listlike)\n",
      "C:\\Users\\Rochan Nehete\\anaconda3\\lib\\site-packages\\pandas\\core\\tools\\datetimes.py:1047: UserWarning: Parsing '20-05-2011' in DD/MM/YYYY format. Provide format or specify infer_datetime_format=True for consistent parsing.\n",
      "  cache_array = _maybe_cache(arg, format, cache, convert_listlike)\n",
      "C:\\Users\\Rochan Nehete\\anaconda3\\lib\\site-packages\\pandas\\core\\tools\\datetimes.py:1047: UserWarning: Parsing '27-05-2011' in DD/MM/YYYY format. Provide format or specify infer_datetime_format=True for consistent parsing.\n",
      "  cache_array = _maybe_cache(arg, format, cache, convert_listlike)\n",
      "C:\\Users\\Rochan Nehete\\anaconda3\\lib\\site-packages\\pandas\\core\\tools\\datetimes.py:1047: UserWarning: Parsing '17-06-2011' in DD/MM/YYYY format. Provide format or specify infer_datetime_format=True for consistent parsing.\n",
      "  cache_array = _maybe_cache(arg, format, cache, convert_listlike)\n",
      "C:\\Users\\Rochan Nehete\\anaconda3\\lib\\site-packages\\pandas\\core\\tools\\datetimes.py:1047: UserWarning: Parsing '24-06-2011' in DD/MM/YYYY format. Provide format or specify infer_datetime_format=True for consistent parsing.\n",
      "  cache_array = _maybe_cache(arg, format, cache, convert_listlike)\n",
      "C:\\Users\\Rochan Nehete\\anaconda3\\lib\\site-packages\\pandas\\core\\tools\\datetimes.py:1047: UserWarning: Parsing '15-07-2011' in DD/MM/YYYY format. Provide format or specify infer_datetime_format=True for consistent parsing.\n",
      "  cache_array = _maybe_cache(arg, format, cache, convert_listlike)\n",
      "C:\\Users\\Rochan Nehete\\anaconda3\\lib\\site-packages\\pandas\\core\\tools\\datetimes.py:1047: UserWarning: Parsing '22-07-2011' in DD/MM/YYYY format. Provide format or specify infer_datetime_format=True for consistent parsing.\n",
      "  cache_array = _maybe_cache(arg, format, cache, convert_listlike)\n",
      "C:\\Users\\Rochan Nehete\\anaconda3\\lib\\site-packages\\pandas\\core\\tools\\datetimes.py:1047: UserWarning: Parsing '29-07-2011' in DD/MM/YYYY format. Provide format or specify infer_datetime_format=True for consistent parsing.\n",
      "  cache_array = _maybe_cache(arg, format, cache, convert_listlike)\n",
      "C:\\Users\\Rochan Nehete\\anaconda3\\lib\\site-packages\\pandas\\core\\tools\\datetimes.py:1047: UserWarning: Parsing '19-08-2011' in DD/MM/YYYY format. Provide format or specify infer_datetime_format=True for consistent parsing.\n",
      "  cache_array = _maybe_cache(arg, format, cache, convert_listlike)\n",
      "C:\\Users\\Rochan Nehete\\anaconda3\\lib\\site-packages\\pandas\\core\\tools\\datetimes.py:1047: UserWarning: Parsing '26-08-2011' in DD/MM/YYYY format. Provide format or specify infer_datetime_format=True for consistent parsing.\n",
      "  cache_array = _maybe_cache(arg, format, cache, convert_listlike)\n",
      "C:\\Users\\Rochan Nehete\\anaconda3\\lib\\site-packages\\pandas\\core\\tools\\datetimes.py:1047: UserWarning: Parsing '16-09-2011' in DD/MM/YYYY format. Provide format or specify infer_datetime_format=True for consistent parsing.\n",
      "  cache_array = _maybe_cache(arg, format, cache, convert_listlike)\n",
      "C:\\Users\\Rochan Nehete\\anaconda3\\lib\\site-packages\\pandas\\core\\tools\\datetimes.py:1047: UserWarning: Parsing '23-09-2011' in DD/MM/YYYY format. Provide format or specify infer_datetime_format=True for consistent parsing.\n",
      "  cache_array = _maybe_cache(arg, format, cache, convert_listlike)\n",
      "C:\\Users\\Rochan Nehete\\anaconda3\\lib\\site-packages\\pandas\\core\\tools\\datetimes.py:1047: UserWarning: Parsing '30-09-2011' in DD/MM/YYYY format. Provide format or specify infer_datetime_format=True for consistent parsing.\n",
      "  cache_array = _maybe_cache(arg, format, cache, convert_listlike)\n",
      "C:\\Users\\Rochan Nehete\\anaconda3\\lib\\site-packages\\pandas\\core\\tools\\datetimes.py:1047: UserWarning: Parsing '14-10-2011' in DD/MM/YYYY format. Provide format or specify infer_datetime_format=True for consistent parsing.\n",
      "  cache_array = _maybe_cache(arg, format, cache, convert_listlike)\n",
      "C:\\Users\\Rochan Nehete\\anaconda3\\lib\\site-packages\\pandas\\core\\tools\\datetimes.py:1047: UserWarning: Parsing '21-10-2011' in DD/MM/YYYY format. Provide format or specify infer_datetime_format=True for consistent parsing.\n",
      "  cache_array = _maybe_cache(arg, format, cache, convert_listlike)\n",
      "C:\\Users\\Rochan Nehete\\anaconda3\\lib\\site-packages\\pandas\\core\\tools\\datetimes.py:1047: UserWarning: Parsing '28-10-2011' in DD/MM/YYYY format. Provide format or specify infer_datetime_format=True for consistent parsing.\n",
      "  cache_array = _maybe_cache(arg, format, cache, convert_listlike)\n",
      "C:\\Users\\Rochan Nehete\\anaconda3\\lib\\site-packages\\pandas\\core\\tools\\datetimes.py:1047: UserWarning: Parsing '18-11-2011' in DD/MM/YYYY format. Provide format or specify infer_datetime_format=True for consistent parsing.\n",
      "  cache_array = _maybe_cache(arg, format, cache, convert_listlike)\n",
      "C:\\Users\\Rochan Nehete\\anaconda3\\lib\\site-packages\\pandas\\core\\tools\\datetimes.py:1047: UserWarning: Parsing '25-11-2011' in DD/MM/YYYY format. Provide format or specify infer_datetime_format=True for consistent parsing.\n",
      "  cache_array = _maybe_cache(arg, format, cache, convert_listlike)\n",
      "C:\\Users\\Rochan Nehete\\anaconda3\\lib\\site-packages\\pandas\\core\\tools\\datetimes.py:1047: UserWarning: Parsing '16-12-2011' in DD/MM/YYYY format. Provide format or specify infer_datetime_format=True for consistent parsing.\n",
      "  cache_array = _maybe_cache(arg, format, cache, convert_listlike)\n",
      "C:\\Users\\Rochan Nehete\\anaconda3\\lib\\site-packages\\pandas\\core\\tools\\datetimes.py:1047: UserWarning: Parsing '23-12-2011' in DD/MM/YYYY format. Provide format or specify infer_datetime_format=True for consistent parsing.\n",
      "  cache_array = _maybe_cache(arg, format, cache, convert_listlike)\n",
      "C:\\Users\\Rochan Nehete\\anaconda3\\lib\\site-packages\\pandas\\core\\tools\\datetimes.py:1047: UserWarning: Parsing '30-12-2011' in DD/MM/YYYY format. Provide format or specify infer_datetime_format=True for consistent parsing.\n",
      "  cache_array = _maybe_cache(arg, format, cache, convert_listlike)\n",
      "C:\\Users\\Rochan Nehete\\anaconda3\\lib\\site-packages\\pandas\\core\\tools\\datetimes.py:1047: UserWarning: Parsing '13-01-2012' in DD/MM/YYYY format. Provide format or specify infer_datetime_format=True for consistent parsing.\n",
      "  cache_array = _maybe_cache(arg, format, cache, convert_listlike)\n",
      "C:\\Users\\Rochan Nehete\\anaconda3\\lib\\site-packages\\pandas\\core\\tools\\datetimes.py:1047: UserWarning: Parsing '20-01-2012' in DD/MM/YYYY format. Provide format or specify infer_datetime_format=True for consistent parsing.\n",
      "  cache_array = _maybe_cache(arg, format, cache, convert_listlike)\n",
      "C:\\Users\\Rochan Nehete\\anaconda3\\lib\\site-packages\\pandas\\core\\tools\\datetimes.py:1047: UserWarning: Parsing '27-01-2012' in DD/MM/YYYY format. Provide format or specify infer_datetime_format=True for consistent parsing.\n",
      "  cache_array = _maybe_cache(arg, format, cache, convert_listlike)\n",
      "C:\\Users\\Rochan Nehete\\anaconda3\\lib\\site-packages\\pandas\\core\\tools\\datetimes.py:1047: UserWarning: Parsing '17-02-2012' in DD/MM/YYYY format. Provide format or specify infer_datetime_format=True for consistent parsing.\n",
      "  cache_array = _maybe_cache(arg, format, cache, convert_listlike)\n",
      "C:\\Users\\Rochan Nehete\\anaconda3\\lib\\site-packages\\pandas\\core\\tools\\datetimes.py:1047: UserWarning: Parsing '24-02-2012' in DD/MM/YYYY format. Provide format or specify infer_datetime_format=True for consistent parsing.\n",
      "  cache_array = _maybe_cache(arg, format, cache, convert_listlike)\n",
      "C:\\Users\\Rochan Nehete\\anaconda3\\lib\\site-packages\\pandas\\core\\tools\\datetimes.py:1047: UserWarning: Parsing '16-03-2012' in DD/MM/YYYY format. Provide format or specify infer_datetime_format=True for consistent parsing.\n",
      "  cache_array = _maybe_cache(arg, format, cache, convert_listlike)\n",
      "C:\\Users\\Rochan Nehete\\anaconda3\\lib\\site-packages\\pandas\\core\\tools\\datetimes.py:1047: UserWarning: Parsing '23-03-2012' in DD/MM/YYYY format. Provide format or specify infer_datetime_format=True for consistent parsing.\n",
      "  cache_array = _maybe_cache(arg, format, cache, convert_listlike)\n",
      "C:\\Users\\Rochan Nehete\\anaconda3\\lib\\site-packages\\pandas\\core\\tools\\datetimes.py:1047: UserWarning: Parsing '30-03-2012' in DD/MM/YYYY format. Provide format or specify infer_datetime_format=True for consistent parsing.\n",
      "  cache_array = _maybe_cache(arg, format, cache, convert_listlike)\n",
      "C:\\Users\\Rochan Nehete\\anaconda3\\lib\\site-packages\\pandas\\core\\tools\\datetimes.py:1047: UserWarning: Parsing '13-04-2012' in DD/MM/YYYY format. Provide format or specify infer_datetime_format=True for consistent parsing.\n",
      "  cache_array = _maybe_cache(arg, format, cache, convert_listlike)\n",
      "C:\\Users\\Rochan Nehete\\anaconda3\\lib\\site-packages\\pandas\\core\\tools\\datetimes.py:1047: UserWarning: Parsing '20-04-2012' in DD/MM/YYYY format. Provide format or specify infer_datetime_format=True for consistent parsing.\n",
      "  cache_array = _maybe_cache(arg, format, cache, convert_listlike)\n",
      "C:\\Users\\Rochan Nehete\\anaconda3\\lib\\site-packages\\pandas\\core\\tools\\datetimes.py:1047: UserWarning: Parsing '27-04-2012' in DD/MM/YYYY format. Provide format or specify infer_datetime_format=True for consistent parsing.\n",
      "  cache_array = _maybe_cache(arg, format, cache, convert_listlike)\n",
      "C:\\Users\\Rochan Nehete\\anaconda3\\lib\\site-packages\\pandas\\core\\tools\\datetimes.py:1047: UserWarning: Parsing '18-05-2012' in DD/MM/YYYY format. Provide format or specify infer_datetime_format=True for consistent parsing.\n",
      "  cache_array = _maybe_cache(arg, format, cache, convert_listlike)\n",
      "C:\\Users\\Rochan Nehete\\anaconda3\\lib\\site-packages\\pandas\\core\\tools\\datetimes.py:1047: UserWarning: Parsing '25-05-2012' in DD/MM/YYYY format. Provide format or specify infer_datetime_format=True for consistent parsing.\n",
      "  cache_array = _maybe_cache(arg, format, cache, convert_listlike)\n",
      "C:\\Users\\Rochan Nehete\\anaconda3\\lib\\site-packages\\pandas\\core\\tools\\datetimes.py:1047: UserWarning: Parsing '15-06-2012' in DD/MM/YYYY format. Provide format or specify infer_datetime_format=True for consistent parsing.\n",
      "  cache_array = _maybe_cache(arg, format, cache, convert_listlike)\n",
      "C:\\Users\\Rochan Nehete\\anaconda3\\lib\\site-packages\\pandas\\core\\tools\\datetimes.py:1047: UserWarning: Parsing '22-06-2012' in DD/MM/YYYY format. Provide format or specify infer_datetime_format=True for consistent parsing.\n",
      "  cache_array = _maybe_cache(arg, format, cache, convert_listlike)\n",
      "C:\\Users\\Rochan Nehete\\anaconda3\\lib\\site-packages\\pandas\\core\\tools\\datetimes.py:1047: UserWarning: Parsing '29-06-2012' in DD/MM/YYYY format. Provide format or specify infer_datetime_format=True for consistent parsing.\n",
      "  cache_array = _maybe_cache(arg, format, cache, convert_listlike)\n",
      "C:\\Users\\Rochan Nehete\\anaconda3\\lib\\site-packages\\pandas\\core\\tools\\datetimes.py:1047: UserWarning: Parsing '13-07-2012' in DD/MM/YYYY format. Provide format or specify infer_datetime_format=True for consistent parsing.\n",
      "  cache_array = _maybe_cache(arg, format, cache, convert_listlike)\n",
      "C:\\Users\\Rochan Nehete\\anaconda3\\lib\\site-packages\\pandas\\core\\tools\\datetimes.py:1047: UserWarning: Parsing '20-07-2012' in DD/MM/YYYY format. Provide format or specify infer_datetime_format=True for consistent parsing.\n",
      "  cache_array = _maybe_cache(arg, format, cache, convert_listlike)\n",
      "C:\\Users\\Rochan Nehete\\anaconda3\\lib\\site-packages\\pandas\\core\\tools\\datetimes.py:1047: UserWarning: Parsing '27-07-2012' in DD/MM/YYYY format. Provide format or specify infer_datetime_format=True for consistent parsing.\n",
      "  cache_array = _maybe_cache(arg, format, cache, convert_listlike)\n",
      "C:\\Users\\Rochan Nehete\\anaconda3\\lib\\site-packages\\pandas\\core\\tools\\datetimes.py:1047: UserWarning: Parsing '17-08-2012' in DD/MM/YYYY format. Provide format or specify infer_datetime_format=True for consistent parsing.\n",
      "  cache_array = _maybe_cache(arg, format, cache, convert_listlike)\n",
      "C:\\Users\\Rochan Nehete\\anaconda3\\lib\\site-packages\\pandas\\core\\tools\\datetimes.py:1047: UserWarning: Parsing '24-08-2012' in DD/MM/YYYY format. Provide format or specify infer_datetime_format=True for consistent parsing.\n",
      "  cache_array = _maybe_cache(arg, format, cache, convert_listlike)\n",
      "C:\\Users\\Rochan Nehete\\anaconda3\\lib\\site-packages\\pandas\\core\\tools\\datetimes.py:1047: UserWarning: Parsing '31-08-2012' in DD/MM/YYYY format. Provide format or specify infer_datetime_format=True for consistent parsing.\n",
      "  cache_array = _maybe_cache(arg, format, cache, convert_listlike)\n",
      "C:\\Users\\Rochan Nehete\\anaconda3\\lib\\site-packages\\pandas\\core\\tools\\datetimes.py:1047: UserWarning: Parsing '14-09-2012' in DD/MM/YYYY format. Provide format or specify infer_datetime_format=True for consistent parsing.\n",
      "  cache_array = _maybe_cache(arg, format, cache, convert_listlike)\n",
      "C:\\Users\\Rochan Nehete\\anaconda3\\lib\\site-packages\\pandas\\core\\tools\\datetimes.py:1047: UserWarning: Parsing '21-09-2012' in DD/MM/YYYY format. Provide format or specify infer_datetime_format=True for consistent parsing.\n",
      "  cache_array = _maybe_cache(arg, format, cache, convert_listlike)\n",
      "C:\\Users\\Rochan Nehete\\anaconda3\\lib\\site-packages\\pandas\\core\\tools\\datetimes.py:1047: UserWarning: Parsing '28-09-2012' in DD/MM/YYYY format. Provide format or specify infer_datetime_format=True for consistent parsing.\n",
      "  cache_array = _maybe_cache(arg, format, cache, convert_listlike)\n",
      "C:\\Users\\Rochan Nehete\\anaconda3\\lib\\site-packages\\pandas\\core\\tools\\datetimes.py:1047: UserWarning: Parsing '19-10-2012' in DD/MM/YYYY format. Provide format or specify infer_datetime_format=True for consistent parsing.\n",
      "  cache_array = _maybe_cache(arg, format, cache, convert_listlike)\n",
      "C:\\Users\\Rochan Nehete\\anaconda3\\lib\\site-packages\\pandas\\core\\tools\\datetimes.py:1047: UserWarning: Parsing '26-10-2012' in DD/MM/YYYY format. Provide format or specify infer_datetime_format=True for consistent parsing.\n",
      "  cache_array = _maybe_cache(arg, format, cache, convert_listlike)\n"
     ]
    }
   ],
   "source": [
    "# Convert date to datetime format \n",
    "walmart_data['Date'] =  pd.to_datetime(walmart_data['Date'])\n",
    "walmart_data.info()"
   ]
  },
  {
   "cell_type": "markdown",
   "id": "9ef91604",
   "metadata": {
    "papermill": {
     "duration": 0.025962,
     "end_time": "2021-10-27T08:01:27.615799",
     "exception": false,
     "start_time": "2021-10-27T08:01:27.589837",
     "status": "completed"
    },
    "tags": []
   },
   "source": [
    "##### **Checking for missing values :**"
   ]
  },
  {
   "cell_type": "code",
   "execution_count": 4,
   "id": "f00c912e",
   "metadata": {
    "execution": {
     "iopub.execute_input": "2021-10-27T08:01:27.673433Z",
     "iopub.status.busy": "2021-10-27T08:01:27.672802Z",
     "iopub.status.idle": "2021-10-27T08:01:27.680561Z",
     "shell.execute_reply": "2021-10-27T08:01:27.681053Z",
     "shell.execute_reply.started": "2021-10-27T07:34:49.095083Z"
    },
    "papermill": {
     "duration": 0.039281,
     "end_time": "2021-10-27T08:01:27.681223",
     "exception": false,
     "start_time": "2021-10-27T08:01:27.641942",
     "status": "completed"
    },
    "tags": []
   },
   "outputs": [
    {
     "data": {
      "text/plain": [
       "Store           0\n",
       "Date            0\n",
       "Weekly_Sales    0\n",
       "Holiday_Flag    0\n",
       "Temperature     0\n",
       "Fuel_Price      0\n",
       "CPI             0\n",
       "Unemployment    0\n",
       "dtype: int64"
      ]
     },
     "execution_count": 4,
     "metadata": {},
     "output_type": "execute_result"
    }
   ],
   "source": [
    "walmart_data.isnull().sum()"
   ]
  },
  {
   "cell_type": "markdown",
   "id": "bce1bac3",
   "metadata": {
    "papermill": {
     "duration": 0.026105,
     "end_time": "2021-10-27T08:01:27.734197",
     "exception": false,
     "start_time": "2021-10-27T08:01:27.708092",
     "status": "completed"
    },
    "tags": []
   },
   "source": [
    "##### **Splitting date column into day, month and year :**"
   ]
  },
  {
   "cell_type": "code",
   "execution_count": 5,
   "id": "ce9d2222",
   "metadata": {
    "execution": {
     "iopub.execute_input": "2021-10-27T08:01:27.790336Z",
     "iopub.status.busy": "2021-10-27T08:01:27.789649Z",
     "iopub.status.idle": "2021-10-27T08:01:27.815844Z",
     "shell.execute_reply": "2021-10-27T08:01:27.816329Z",
     "shell.execute_reply.started": "2021-10-27T07:36:19.057201Z"
    },
    "papermill": {
     "duration": 0.055985,
     "end_time": "2021-10-27T08:01:27.816554",
     "exception": false,
     "start_time": "2021-10-27T08:01:27.760569",
     "status": "completed"
    },
    "tags": []
   },
   "outputs": [
    {
     "data": {
      "text/html": [
       "<div>\n",
       "<style scoped>\n",
       "    .dataframe tbody tr th:only-of-type {\n",
       "        vertical-align: middle;\n",
       "    }\n",
       "\n",
       "    .dataframe tbody tr th {\n",
       "        vertical-align: top;\n",
       "    }\n",
       "\n",
       "    .dataframe thead th {\n",
       "        text-align: right;\n",
       "    }\n",
       "</style>\n",
       "<table border=\"1\" class=\"dataframe\">\n",
       "  <thead>\n",
       "    <tr style=\"text-align: right;\">\n",
       "      <th></th>\n",
       "      <th>Store</th>\n",
       "      <th>Date</th>\n",
       "      <th>Weekly_Sales</th>\n",
       "      <th>Holiday_Flag</th>\n",
       "      <th>Temperature</th>\n",
       "      <th>Fuel_Price</th>\n",
       "      <th>CPI</th>\n",
       "      <th>Unemployment</th>\n",
       "      <th>Day</th>\n",
       "      <th>Month</th>\n",
       "      <th>Year</th>\n",
       "    </tr>\n",
       "  </thead>\n",
       "  <tbody>\n",
       "    <tr>\n",
       "      <th>0</th>\n",
       "      <td>1</td>\n",
       "      <td>2010-05-02</td>\n",
       "      <td>1643690.90</td>\n",
       "      <td>0</td>\n",
       "      <td>42.31</td>\n",
       "      <td>2.572</td>\n",
       "      <td>211.096358</td>\n",
       "      <td>8.106</td>\n",
       "      <td>2</td>\n",
       "      <td>5</td>\n",
       "      <td>2010</td>\n",
       "    </tr>\n",
       "    <tr>\n",
       "      <th>1</th>\n",
       "      <td>1</td>\n",
       "      <td>2010-12-02</td>\n",
       "      <td>1641957.44</td>\n",
       "      <td>1</td>\n",
       "      <td>38.51</td>\n",
       "      <td>2.548</td>\n",
       "      <td>211.242170</td>\n",
       "      <td>8.106</td>\n",
       "      <td>2</td>\n",
       "      <td>12</td>\n",
       "      <td>2010</td>\n",
       "    </tr>\n",
       "    <tr>\n",
       "      <th>2</th>\n",
       "      <td>1</td>\n",
       "      <td>2010-02-19</td>\n",
       "      <td>1611968.17</td>\n",
       "      <td>0</td>\n",
       "      <td>39.93</td>\n",
       "      <td>2.514</td>\n",
       "      <td>211.289143</td>\n",
       "      <td>8.106</td>\n",
       "      <td>19</td>\n",
       "      <td>2</td>\n",
       "      <td>2010</td>\n",
       "    </tr>\n",
       "    <tr>\n",
       "      <th>3</th>\n",
       "      <td>1</td>\n",
       "      <td>2010-02-26</td>\n",
       "      <td>1409727.59</td>\n",
       "      <td>0</td>\n",
       "      <td>46.63</td>\n",
       "      <td>2.561</td>\n",
       "      <td>211.319643</td>\n",
       "      <td>8.106</td>\n",
       "      <td>26</td>\n",
       "      <td>2</td>\n",
       "      <td>2010</td>\n",
       "    </tr>\n",
       "    <tr>\n",
       "      <th>4</th>\n",
       "      <td>1</td>\n",
       "      <td>2010-05-03</td>\n",
       "      <td>1554806.68</td>\n",
       "      <td>0</td>\n",
       "      <td>46.50</td>\n",
       "      <td>2.625</td>\n",
       "      <td>211.350143</td>\n",
       "      <td>8.106</td>\n",
       "      <td>3</td>\n",
       "      <td>5</td>\n",
       "      <td>2010</td>\n",
       "    </tr>\n",
       "    <tr>\n",
       "      <th>...</th>\n",
       "      <td>...</td>\n",
       "      <td>...</td>\n",
       "      <td>...</td>\n",
       "      <td>...</td>\n",
       "      <td>...</td>\n",
       "      <td>...</td>\n",
       "      <td>...</td>\n",
       "      <td>...</td>\n",
       "      <td>...</td>\n",
       "      <td>...</td>\n",
       "      <td>...</td>\n",
       "    </tr>\n",
       "    <tr>\n",
       "      <th>6430</th>\n",
       "      <td>45</td>\n",
       "      <td>2012-09-28</td>\n",
       "      <td>713173.95</td>\n",
       "      <td>0</td>\n",
       "      <td>64.88</td>\n",
       "      <td>3.997</td>\n",
       "      <td>192.013558</td>\n",
       "      <td>8.684</td>\n",
       "      <td>28</td>\n",
       "      <td>9</td>\n",
       "      <td>2012</td>\n",
       "    </tr>\n",
       "    <tr>\n",
       "      <th>6431</th>\n",
       "      <td>45</td>\n",
       "      <td>2012-05-10</td>\n",
       "      <td>733455.07</td>\n",
       "      <td>0</td>\n",
       "      <td>64.89</td>\n",
       "      <td>3.985</td>\n",
       "      <td>192.170412</td>\n",
       "      <td>8.667</td>\n",
       "      <td>10</td>\n",
       "      <td>5</td>\n",
       "      <td>2012</td>\n",
       "    </tr>\n",
       "    <tr>\n",
       "      <th>6432</th>\n",
       "      <td>45</td>\n",
       "      <td>2012-12-10</td>\n",
       "      <td>734464.36</td>\n",
       "      <td>0</td>\n",
       "      <td>54.47</td>\n",
       "      <td>4.000</td>\n",
       "      <td>192.327265</td>\n",
       "      <td>8.667</td>\n",
       "      <td>10</td>\n",
       "      <td>12</td>\n",
       "      <td>2012</td>\n",
       "    </tr>\n",
       "    <tr>\n",
       "      <th>6433</th>\n",
       "      <td>45</td>\n",
       "      <td>2012-10-19</td>\n",
       "      <td>718125.53</td>\n",
       "      <td>0</td>\n",
       "      <td>56.47</td>\n",
       "      <td>3.969</td>\n",
       "      <td>192.330854</td>\n",
       "      <td>8.667</td>\n",
       "      <td>19</td>\n",
       "      <td>10</td>\n",
       "      <td>2012</td>\n",
       "    </tr>\n",
       "    <tr>\n",
       "      <th>6434</th>\n",
       "      <td>45</td>\n",
       "      <td>2012-10-26</td>\n",
       "      <td>760281.43</td>\n",
       "      <td>0</td>\n",
       "      <td>58.85</td>\n",
       "      <td>3.882</td>\n",
       "      <td>192.308899</td>\n",
       "      <td>8.667</td>\n",
       "      <td>26</td>\n",
       "      <td>10</td>\n",
       "      <td>2012</td>\n",
       "    </tr>\n",
       "  </tbody>\n",
       "</table>\n",
       "<p>6435 rows × 11 columns</p>\n",
       "</div>"
      ],
      "text/plain": [
       "      Store       Date  Weekly_Sales  Holiday_Flag  Temperature  Fuel_Price  \\\n",
       "0         1 2010-05-02    1643690.90             0        42.31       2.572   \n",
       "1         1 2010-12-02    1641957.44             1        38.51       2.548   \n",
       "2         1 2010-02-19    1611968.17             0        39.93       2.514   \n",
       "3         1 2010-02-26    1409727.59             0        46.63       2.561   \n",
       "4         1 2010-05-03    1554806.68             0        46.50       2.625   \n",
       "...     ...        ...           ...           ...          ...         ...   \n",
       "6430     45 2012-09-28     713173.95             0        64.88       3.997   \n",
       "6431     45 2012-05-10     733455.07             0        64.89       3.985   \n",
       "6432     45 2012-12-10     734464.36             0        54.47       4.000   \n",
       "6433     45 2012-10-19     718125.53             0        56.47       3.969   \n",
       "6434     45 2012-10-26     760281.43             0        58.85       3.882   \n",
       "\n",
       "             CPI  Unemployment  Day  Month  Year  \n",
       "0     211.096358         8.106    2      5  2010  \n",
       "1     211.242170         8.106    2     12  2010  \n",
       "2     211.289143         8.106   19      2  2010  \n",
       "3     211.319643         8.106   26      2  2010  \n",
       "4     211.350143         8.106    3      5  2010  \n",
       "...          ...           ...  ...    ...   ...  \n",
       "6430  192.013558         8.684   28      9  2012  \n",
       "6431  192.170412         8.667   10      5  2012  \n",
       "6432  192.327265         8.667   10     12  2012  \n",
       "6433  192.330854         8.667   19     10  2012  \n",
       "6434  192.308899         8.667   26     10  2012  \n",
       "\n",
       "[6435 rows x 11 columns]"
      ]
     },
     "execution_count": 5,
     "metadata": {},
     "output_type": "execute_result"
    }
   ],
   "source": [
    "walmart_data[\"Day\"]= pd.DatetimeIndex(walmart_data['Date']).day\n",
    "walmart_data['Month'] = pd.DatetimeIndex(walmart_data['Date']).month\n",
    "walmart_data['Year'] = pd.DatetimeIndex(walmart_data['Date']).year\n",
    "walmart_data"
   ]
  },
  {
   "cell_type": "markdown",
   "id": "075e76f4",
   "metadata": {
    "execution": {
     "iopub.execute_input": "2021-10-27T07:36:35.592136Z",
     "iopub.status.busy": "2021-10-27T07:36:35.591697Z",
     "iopub.status.idle": "2021-10-27T07:36:35.598101Z",
     "shell.execute_reply": "2021-10-27T07:36:35.596951Z",
     "shell.execute_reply.started": "2021-10-27T07:36:35.592097Z"
    },
    "papermill": {
     "duration": 0.027692,
     "end_time": "2021-10-27T08:01:27.872913",
     "exception": false,
     "start_time": "2021-10-27T08:01:27.845221",
     "status": "completed"
    },
    "tags": []
   },
   "source": [
    "---"
   ]
  },
  {
   "cell_type": "markdown",
   "id": "55679f6e",
   "metadata": {
    "execution": {
     "iopub.execute_input": "2021-10-27T07:37:21.644556Z",
     "iopub.status.busy": "2021-10-27T07:37:21.644121Z",
     "iopub.status.idle": "2021-10-27T07:37:21.648463Z",
     "shell.execute_reply": "2021-10-27T07:37:21.647645Z",
     "shell.execute_reply.started": "2021-10-27T07:37:21.644524Z"
    },
    "papermill": {
     "duration": 0.027102,
     "end_time": "2021-10-27T08:01:27.927026",
     "exception": false,
     "start_time": "2021-10-27T08:01:27.899924",
     "status": "completed"
    },
    "tags": []
   },
   "source": [
    " ### **Analysis:**"
   ]
  },
  {
   "cell_type": "markdown",
   "id": "e4e09ccc",
   "metadata": {
    "papermill": {
     "duration": 0.026757,
     "end_time": "2021-10-27T08:01:27.980834",
     "exception": false,
     "start_time": "2021-10-27T08:01:27.954077",
     "status": "completed"
    },
    "tags": []
   },
   "source": [
    "**1 ) Which store has maximum sales ?**"
   ]
  },
  {
   "cell_type": "code",
   "execution_count": 6,
   "id": "0c29754e",
   "metadata": {
    "execution": {
     "iopub.execute_input": "2021-10-27T08:01:28.042056Z",
     "iopub.status.busy": "2021-10-27T08:01:28.041320Z",
     "iopub.status.idle": "2021-10-27T08:01:28.776371Z",
     "shell.execute_reply": "2021-10-27T08:01:28.775730Z",
     "shell.execute_reply.started": "2021-10-27T07:38:02.577194Z"
    },
    "papermill": {
     "duration": 0.768494,
     "end_time": "2021-10-27T08:01:28.776513",
     "exception": false,
     "start_time": "2021-10-27T08:01:28.008019",
     "status": "completed"
    },
    "tags": []
   },
   "outputs": [
    {
     "data": {
      "text/plain": [
       "<AxesSubplot:title={'center':'Total sales for each store'}, xlabel='Store', ylabel='Total Sales'>"
      ]
     },
     "execution_count": 6,
     "metadata": {},
     "output_type": "execute_result"
    },
    {
     "data": {
      "image/png": "[encoded data removed]",
      "text/plain": [
       "<Figure size 1080x504 with 1 Axes>"
      ]
     },
     "metadata": {
      "needs_background": "light"
     },
     "output_type": "display_data"
    }
   ],
   "source": [
    "total_sales= walmart_data.groupby('Store')['Weekly_Sales'].sum().sort_values() \n",
    "total_sales_array = np.array(total_sales)\n",
    "plt.figure(figsize=(15,7))\n",
    "plt.xticks(rotation=0)\n",
    "plt.ticklabel_format(useOffset=False, style='plain', axis='y')\n",
    "plt.title('Total sales for each store')\n",
    "plt.xlabel('Store')\n",
    "plt.ylabel('Total Sales')\n",
    "total_sales.plot(kind='bar')"
   ]
  },
  {
   "cell_type": "markdown",
   "id": "b64407bd",
   "metadata": {
    "papermill": {
     "duration": 0.029239,
     "end_time": "2021-10-27T08:01:28.834652",
     "exception": false,
     "start_time": "2021-10-27T08:01:28.805413",
     "status": "completed"
    },
    "tags": []
   },
   "source": [
    "**Clearly, from the above graph, it is visible that the store which has maximum sales is store number 20 and the store which has minimum sales is the store number 33.**\n",
    "\n",
    "---"
   ]
  },
  {
   "cell_type": "markdown",
   "id": "0ab33602",
   "metadata": {
    "execution": {
     "iopub.execute_input": "2021-10-27T07:39:44.173057Z",
     "iopub.status.busy": "2021-10-27T07:39:44.172688Z",
     "iopub.status.idle": "2021-10-27T07:39:44.181181Z",
     "shell.execute_reply": "2021-10-27T07:39:44.179784Z",
     "shell.execute_reply.started": "2021-10-27T07:39:44.173022Z"
    },
    "papermill": {
     "duration": 0.027748,
     "end_time": "2021-10-27T08:01:28.890529",
     "exception": false,
     "start_time": "2021-10-27T08:01:28.862781",
     "status": "completed"
    },
    "tags": []
   },
   "source": [
    "**2) Which store has maximum standard deviation? i.e. the sales vary a lot. Also, find out the coefficient of mean to standard deviation.**"
   ]
  },
  {
   "cell_type": "code",
   "execution_count": 7,
   "id": "f6e25973",
   "metadata": {
    "execution": {
     "iopub.execute_input": "2021-10-27T08:01:28.950164Z",
     "iopub.status.busy": "2021-10-27T08:01:28.949523Z",
     "iopub.status.idle": "2021-10-27T08:01:28.960451Z",
     "shell.execute_reply": "2021-10-27T08:01:28.961009Z",
     "shell.execute_reply.started": "2021-10-27T07:40:09.552320Z"
    },
    "papermill": {
     "duration": 0.042494,
     "end_time": "2021-10-27T08:01:28.961185",
     "exception": false,
     "start_time": "2021-10-27T08:01:28.918691",
     "status": "completed"
    },
    "tags": []
   },
   "outputs": [
    {
     "data": {
      "text/plain": [
       "(14, 317569.9494755081)"
      ]
     },
     "execution_count": 7,
     "metadata": {},
     "output_type": "execute_result"
    }
   ],
   "source": [
    "walmart_data_std = pd.DataFrame(walmart_data.groupby('Store')['Weekly_Sales'].std().sort_values(ascending=False))\n",
    "walmart_data_std.head(1).index[0] , walmart_data_std.head(1).Weekly_Sales[walmart_data_std.head(1).index[0]]"
   ]
  },
  {
   "cell_type": "markdown",
   "id": "9fe0e7aa",
   "metadata": {
    "papermill": {
     "duration": 0.028189,
     "end_time": "2021-10-27T08:01:29.017866",
     "exception": false,
     "start_time": "2021-10-27T08:01:28.989677",
     "status": "completed"
    },
    "tags": []
   },
   "source": [
    "**Thus, the store which has maximum standard deviation is store number 14.**"
   ]
  },
  {
   "cell_type": "code",
   "execution_count": 8,
   "id": "1efa3cb4",
   "metadata": {
    "execution": {
     "iopub.execute_input": "2021-10-27T08:01:29.077927Z",
     "iopub.status.busy": "2021-10-27T08:01:29.077128Z",
     "iopub.status.idle": "2021-10-27T08:01:29.389714Z",
     "shell.execute_reply": "2021-10-27T08:01:29.390131Z",
     "shell.execute_reply.started": "2021-10-27T07:40:44.624096Z"
    },
    "papermill": {
     "duration": 0.34427,
     "end_time": "2021-10-27T08:01:29.390337",
     "exception": false,
     "start_time": "2021-10-27T08:01:29.046067",
     "status": "completed"
    },
    "tags": []
   },
   "outputs": [
    {
     "name": "stderr",
     "output_type": "stream",
     "text": [
      "C:\\Users\\Rochan Nehete\\anaconda3\\lib\\site-packages\\seaborn\\distributions.py:2619: FutureWarning: `distplot` is a deprecated function and will be removed in a future version. Please adapt your code to use either `displot` (a figure-level function with similar flexibility) or `histplot` (an axes-level function for histograms).\n",
      "  warnings.warn(msg, FutureWarning)\n"
     ]
    },
    {
     "data": {
      "image/png": "[encoded data removed]",
      "text/plain": [
       "<Figure size 1080x504 with 1 Axes>"
      ]
     },
     "metadata": {
      "needs_background": "light"
     },
     "output_type": "display_data"
    }
   ],
   "source": [
    "# Extracting the sales data for store number 14 and plotting its distribution\n",
    "plt.figure(figsize=(15,7))\n",
    "sns.distplot(walmart_data[walmart_data['Store'] == walmart_data_std.head(1).index[0]]['Weekly_Sales'])\n",
    "plt.title('The Sales Distribution of Store No.'+ str(walmart_data_std.head(1).index[0]))\n",
    "import warnings\n",
    "warnings.filterwarnings('ignore')"
   ]
  },
  {
   "cell_type": "code",
   "execution_count": 9,
   "id": "0da89fea",
   "metadata": {
    "execution": {
     "iopub.execute_input": "2021-10-27T08:01:29.457097Z",
     "iopub.status.busy": "2021-10-27T08:01:29.456401Z",
     "iopub.status.idle": "2021-10-27T08:01:29.468891Z",
     "shell.execute_reply": "2021-10-27T08:01:29.469528Z",
     "shell.execute_reply.started": "2021-10-27T07:41:28.025267Z"
    },
    "papermill": {
     "duration": 0.049626,
     "end_time": "2021-10-27T08:01:29.469713",
     "exception": false,
     "start_time": "2021-10-27T08:01:29.420087",
     "status": "completed"
    },
    "tags": []
   },
   "outputs": [
    {
     "data": {
      "text/html": [
       "<div>\n",
       "<style scoped>\n",
       "    .dataframe tbody tr th:only-of-type {\n",
       "        vertical-align: middle;\n",
       "    }\n",
       "\n",
       "    .dataframe tbody tr th {\n",
       "        vertical-align: top;\n",
       "    }\n",
       "\n",
       "    .dataframe thead th {\n",
       "        text-align: right;\n",
       "    }\n",
       "</style>\n",
       "<table border=\"1\" class=\"dataframe\">\n",
       "  <thead>\n",
       "    <tr style=\"text-align: right;\">\n",
       "      <th></th>\n",
       "      <th>Coefficient of mean to standard deviation</th>\n",
       "    </tr>\n",
       "    <tr>\n",
       "      <th>Store</th>\n",
       "      <th></th>\n",
       "    </tr>\n",
       "  </thead>\n",
       "  <tbody>\n",
       "    <tr>\n",
       "      <th>35</th>\n",
       "      <td>0.229681</td>\n",
       "    </tr>\n",
       "    <tr>\n",
       "      <th>7</th>\n",
       "      <td>0.197305</td>\n",
       "    </tr>\n",
       "    <tr>\n",
       "      <th>15</th>\n",
       "      <td>0.193384</td>\n",
       "    </tr>\n",
       "    <tr>\n",
       "      <th>29</th>\n",
       "      <td>0.183742</td>\n",
       "    </tr>\n",
       "    <tr>\n",
       "      <th>23</th>\n",
       "      <td>0.179721</td>\n",
       "    </tr>\n",
       "    <tr>\n",
       "      <th>21</th>\n",
       "      <td>0.170292</td>\n",
       "    </tr>\n",
       "    <tr>\n",
       "      <th>45</th>\n",
       "      <td>0.165613</td>\n",
       "    </tr>\n",
       "  </tbody>\n",
       "</table>\n",
       "</div>"
      ],
      "text/plain": [
       "       Coefficient of mean to standard deviation\n",
       "Store                                           \n",
       "35                                      0.229681\n",
       "7                                       0.197305\n",
       "15                                      0.193384\n",
       "29                                      0.183742\n",
       "23                                      0.179721\n",
       "21                                      0.170292\n",
       "45                                      0.165613"
      ]
     },
     "execution_count": 9,
     "metadata": {},
     "output_type": "execute_result"
    }
   ],
   "source": [
    "#Calculating the coefficient of mean to standard deviation\n",
    "coef = pd.DataFrame(walmart_data.groupby('Store')['Weekly_Sales'].std() / walmart_data.groupby('Store')['Weekly_Sales'].mean())\n",
    "coef = coef.rename(columns={'Weekly_Sales':'Coefficient of mean to standard deviation'})\n",
    "coef_max = coef.sort_values(by='Coefficient of mean to standard deviation',ascending=False)\n",
    "coef_max.head(7)"
   ]
  },
  {
   "cell_type": "markdown",
   "id": "7e71b6a3",
   "metadata": {
    "papermill": {
     "duration": 0.030681,
     "end_time": "2021-10-27T08:01:29.531030",
     "exception": false,
     "start_time": "2021-10-27T08:01:29.500349",
     "status": "completed"
    },
    "tags": []
   },
   "source": [
    "**Thus, the store which has maximum coefficient of mean to standard deviation is store number 35.**"
   ]
  },
  {
   "cell_type": "code",
   "execution_count": 10,
   "id": "0c3b6548",
   "metadata": {
    "execution": {
     "iopub.execute_input": "2021-10-27T08:01:29.617278Z",
     "iopub.status.busy": "2021-10-27T08:01:29.616224Z",
     "iopub.status.idle": "2021-10-27T08:01:29.896276Z",
     "shell.execute_reply": "2021-10-27T08:01:29.897019Z",
     "shell.execute_reply.started": "2021-10-27T07:42:31.721226Z"
    },
    "papermill": {
     "duration": 0.32826,
     "end_time": "2021-10-27T08:01:29.897274",
     "exception": false,
     "start_time": "2021-10-27T08:01:29.569014",
     "status": "completed"
    },
    "tags": []
   },
   "outputs": [
    {
     "data": {
      "image/png": "[encoded data removed]",
      "text/plain": [
       "<Figure size 1080x504 with 1 Axes>"
      ]
     },
     "metadata": {
      "needs_background": "light"
     },
     "output_type": "display_data"
    }
   ],
   "source": [
    "# Distribution of store 35 has maximum coefficient of mean to standard deviation\n",
    "plt.figure(figsize=(15,7))\n",
    "sns.distplot(walmart_data[walmart_data['Store'] == coef_max.head(1).index[0]]['Weekly_Sales'])\n",
    "plt.title('The Sales Distribution of Store No.'+str(coef_max.head(1).index[0]))\n",
    "import warnings\n",
    "warnings.filterwarnings('ignore')"
   ]
  },
  {
   "cell_type": "markdown",
   "id": "1c447486",
   "metadata": {
    "execution": {
     "iopub.execute_input": "2021-10-27T07:42:45.122698Z",
     "iopub.status.busy": "2021-10-27T07:42:45.121351Z",
     "iopub.status.idle": "2021-10-27T07:42:45.129463Z",
     "shell.execute_reply": "2021-10-27T07:42:45.128179Z",
     "shell.execute_reply.started": "2021-10-27T07:42:45.122629Z"
    },
    "papermill": {
     "duration": 0.042623,
     "end_time": "2021-10-27T08:01:29.977422",
     "exception": false,
     "start_time": "2021-10-27T08:01:29.934799",
     "status": "completed"
    },
    "tags": []
   },
   "source": [
    "---"
   ]
  },
  {
   "cell_type": "markdown",
   "id": "8a67e886",
   "metadata": {
    "papermill": {
     "duration": 0.031061,
     "end_time": "2021-10-27T08:01:30.039754",
     "exception": false,
     "start_time": "2021-10-27T08:01:30.008693",
     "status": "completed"
    },
    "tags": []
   },
   "source": [
    "**3) Which store/s has good quarterly growth rate in Q3’2012 ?**"
   ]
  },
  {
   "cell_type": "code",
   "execution_count": 11,
   "id": "35eae2c9",
   "metadata": {
    "execution": {
     "iopub.execute_input": "2021-10-27T08:01:30.110770Z",
     "iopub.status.busy": "2021-10-27T08:01:30.109642Z",
     "iopub.status.idle": "2021-10-27T08:01:30.832311Z",
     "shell.execute_reply": "2021-10-27T08:01:30.832899Z",
     "shell.execute_reply.started": "2021-10-27T07:43:32.902784Z"
    },
    "papermill": {
     "duration": 0.762487,
     "end_time": "2021-10-27T08:01:30.833090",
     "exception": false,
     "start_time": "2021-10-27T08:01:30.070603",
     "status": "completed"
    },
    "tags": []
   },
   "outputs": [
    {
     "data": {
      "text/plain": [
       "<matplotlib.legend.Legend at 0x23db0b3b5e0>"
      ]
     },
     "execution_count": 11,
     "metadata": {},
     "output_type": "execute_result"
    },
    {
     "data": {
      "image/png": "[encoded data removed]",
      "text/plain": [
       "<Figure size 1080x504 with 1 Axes>"
      ]
     },
     "metadata": {
      "needs_background": "light"
     },
     "output_type": "display_data"
    }
   ],
   "source": [
    "# Sales for second and third quarter in 2012\n",
    "quarter_2_sales = walmart_data[(walmart_data['Date'] >= '2012-04-01') & (walmart_data['Date'] <= '2012-06-30')].groupby('Store')['Weekly_Sales'].sum()\n",
    "quarter_3_sales= walmart_data[(walmart_data['Date'] >= '2012-07-01') & (walmart_data['Date'] <= '2012-09-30')].groupby('Store')['Weekly_Sales'].sum()\n",
    "\n",
    "# Plotting the difference between sales for second and third quarterly\n",
    "plt.figure(figsize=(15,7))\n",
    "quarter_2_sales.plot(ax=quarter_3_sales.plot(kind ='bar'),kind='bar',color='g',alpha=0.2,legend=True)\n",
    "plt.legend([\"Q3' 2012\", \"Q2' 2012\"])"
   ]
  },
  {
   "cell_type": "markdown",
   "id": "3778173c",
   "metadata": {
    "papermill": {
     "duration": 0.031885,
     "end_time": "2021-10-27T08:01:30.896947",
     "exception": false,
     "start_time": "2021-10-27T08:01:30.865062",
     "status": "completed"
    },
    "tags": []
   },
   "source": [
    "**Clearly, from the above graph, it is evident that the store which has good quarterly sales in Q3’2012 is store no. 4.**"
   ]
  },
  {
   "cell_type": "code",
   "execution_count": 12,
   "id": "ad05a499",
   "metadata": {
    "execution": {
     "iopub.execute_input": "2021-10-27T08:01:30.965397Z",
     "iopub.status.busy": "2021-10-27T08:01:30.964400Z",
     "iopub.status.idle": "2021-10-27T08:01:30.981471Z",
     "shell.execute_reply": "2021-10-27T08:01:30.982121Z",
     "shell.execute_reply.started": "2021-10-27T07:44:08.655325Z"
    },
    "papermill": {
     "duration": 0.053429,
     "end_time": "2021-10-27T08:01:30.982309",
     "exception": false,
     "start_time": "2021-10-27T08:01:30.928880",
     "status": "completed"
    },
    "tags": []
   },
   "outputs": [
    {
     "data": {
      "text/plain": [
       "Store\n",
       "16   -2.789294\n",
       "7    -3.824738\n",
       "35   -4.663086\n",
       "26   -6.057624\n",
       "39   -6.396875\n",
       "Name: Weekly_Sales, dtype: float64"
      ]
     },
     "execution_count": 12,
     "metadata": {},
     "output_type": "execute_result"
    }
   ],
   "source": [
    "#Calculating Growth rate in Q3'2012\n",
    "quarter_2_sales= walmart_data[(walmart_data['Date'] >= '2012-04-01') & (walmart_data['Date'] <= '2012-06-30')].groupby('Store')['Weekly_Sales'].sum()\n",
    "quarter_3_sales= walmart_data[(walmart_data['Date'] >= '2012-07-01') & (walmart_data['Date'] <= '2012-09-30')].groupby('Store')['Weekly_Sales'].sum()\n",
    "quarterly_growth_rate = ((quarter_3_sales - quarter_2_sales )/quarter_2_sales)*100\n",
    "quarterly_growth_rate.sort_values(ascending=False).head()\n"
   ]
  },
  {
   "cell_type": "code",
   "execution_count": 13,
   "id": "7f911342",
   "metadata": {
    "execution": {
     "iopub.execute_input": "2021-10-27T08:01:31.068603Z",
     "iopub.status.busy": "2021-10-27T08:01:31.067579Z",
     "iopub.status.idle": "2021-10-27T08:01:31.586198Z",
     "shell.execute_reply": "2021-10-27T08:01:31.585673Z",
     "shell.execute_reply.started": "2021-10-27T07:44:19.356454Z"
    },
    "papermill": {
     "duration": 0.571509,
     "end_time": "2021-10-27T08:01:31.586362",
     "exception": false,
     "start_time": "2021-10-27T08:01:31.014853",
     "status": "completed"
    },
    "tags": []
   },
   "outputs": [
    {
     "data": {
      "text/plain": [
       "<AxesSubplot:xlabel='Store'>"
      ]
     },
     "execution_count": 13,
     "metadata": {},
     "output_type": "execute_result"
    },
    {
     "data": {
      "image/png": "[encoded data removed]",
      "text/plain": [
       "<Figure size 1080x504 with 1 Axes>"
      ]
     },
     "metadata": {
      "needs_background": "light"
     },
     "output_type": "display_data"
    }
   ],
   "source": [
    "plt.figure(figsize=(15,7))\n",
    "quarterly_growth_rate.sort_values(ascending=False).plot(kind='bar')"
   ]
  },
  {
   "cell_type": "markdown",
   "id": "cb61b2b2",
   "metadata": {
    "execution": {
     "iopub.execute_input": "2021-10-27T07:44:35.630165Z",
     "iopub.status.busy": "2021-10-27T07:44:35.629007Z",
     "iopub.status.idle": "2021-10-27T07:44:35.636921Z",
     "shell.execute_reply": "2021-10-27T07:44:35.635537Z",
     "shell.execute_reply.started": "2021-10-27T07:44:35.630110Z"
    },
    "papermill": {
     "duration": 0.034139,
     "end_time": "2021-10-27T08:01:31.655029",
     "exception": false,
     "start_time": "2021-10-27T08:01:31.620890",
     "status": "completed"
    },
    "tags": []
   },
   "source": [
    "**Here, there is no store which has performed better in the 3rd quarter as compared to the 2nd quarter.**\n",
    "\n",
    "---"
   ]
  },
  {
   "cell_type": "markdown",
   "id": "af8b75ff",
   "metadata": {
    "papermill": {
     "duration": 0.03394,
     "end_time": "2021-10-27T08:01:31.723070",
     "exception": false,
     "start_time": "2021-10-27T08:01:31.689130",
     "status": "completed"
    },
    "tags": []
   },
   "source": [
    "**4) Some holidays have a negative impact on sales. Find out holidays which have higher sales than the mean sales in non-holiday season for all stores together.**\n",
    "\n",
    "**Holiday Events:**\n",
    "\n",
    "- Super Bowl: 12-Feb-10, 11-Feb-11, 10-Feb-12, 8-Feb-13\n",
    "\n",
    "- Labour Day: 10-Sep-10, 9-Sep-11, 7-Sep-12, 6-Sep-13\n",
    "\n",
    "- Thanksgiving: 26-Nov-10, 25-Nov-11, 23-Nov-12, 29-Nov-13\n",
    "\n",
    "- Christmas: 31-Dec-10, 30-Dec-11, 28-Dec-12, 27-Dec-13\n"
   ]
  },
  {
   "cell_type": "code",
   "execution_count": 14,
   "id": "bfb4e856",
   "metadata": {
    "execution": {
     "iopub.execute_input": "2021-10-27T08:01:31.796386Z",
     "iopub.status.busy": "2021-10-27T08:01:31.795734Z",
     "iopub.status.idle": "2021-10-27T08:01:31.798270Z",
     "shell.execute_reply": "2021-10-27T08:01:31.797686Z",
     "shell.execute_reply.started": "2021-10-27T07:47:24.350978Z"
    },
    "papermill": {
     "duration": 0.0416,
     "end_time": "2021-10-27T08:01:31.798453",
     "exception": false,
     "start_time": "2021-10-27T08:01:31.756853",
     "status": "completed"
    },
    "tags": []
   },
   "outputs": [],
   "source": [
    "#Defining holiday dates\n",
    "Super_Bowl =['12-2-2010', '11-2-2011', '10-2-2012']\n",
    "Labour_Day =  ['10-9-2010', '9-9-2011', '7-9-2012']\n",
    "Thanksgiving =  ['26-11-2010', '25-11-2011', '23-11-2012']\n",
    "Christmas = ['31-12-2010', '30-12-2011', '28-12-2012']"
   ]
  },
  {
   "cell_type": "code",
   "execution_count": 15,
   "id": "301363b3",
   "metadata": {
    "execution": {
     "iopub.execute_input": "2021-10-27T08:01:31.874591Z",
     "iopub.status.busy": "2021-10-27T08:01:31.873956Z",
     "iopub.status.idle": "2021-10-27T08:01:31.882557Z",
     "shell.execute_reply": "2021-10-27T08:01:31.883021Z",
     "shell.execute_reply.started": "2021-10-27T07:47:39.119380Z"
    },
    "papermill": {
     "duration": 0.051166,
     "end_time": "2021-10-27T08:01:31.883201",
     "exception": false,
     "start_time": "2021-10-27T08:01:31.832035",
     "status": "completed"
    },
    "tags": []
   },
   "outputs": [
    {
     "data": {
      "text/plain": [
       "(1079127.9877037033, 1042427.2939259257, 1471273.427777778, 960833.1115555551)"
      ]
     },
     "execution_count": 15,
     "metadata": {},
     "output_type": "execute_result"
    }
   ],
   "source": [
    "#Calculating mean sales on holidays : \n",
    "Super_Bowl_Sales = (pd.DataFrame(walmart_data.loc[walmart_data.Date.isin(Super_Bowl)]))['Weekly_Sales'].mean()\n",
    "Labour_Day_Sales = (pd.DataFrame(walmart_data.loc[walmart_data.Date.isin(Labour_Day)]))['Weekly_Sales'].mean()\n",
    "Thanksgiving_Sales = (pd.DataFrame(walmart_data.loc[walmart_data.Date.isin(Thanksgiving)]))['Weekly_Sales'].mean()\n",
    "Christmas_Sales = (pd.DataFrame(walmart_data.loc[walmart_data.Date.isin(Christmas)]))['Weekly_Sales'].mean()\n",
    "Super_Bowl_Sales,Labour_Day_Sales,Thanksgiving_Sales,Christmas_Sales"
   ]
  },
  {
   "cell_type": "code",
   "execution_count": 16,
   "id": "921042c2",
   "metadata": {
    "execution": {
     "iopub.execute_input": "2021-10-27T08:01:31.955507Z",
     "iopub.status.busy": "2021-10-27T08:01:31.954909Z",
     "iopub.status.idle": "2021-10-27T08:01:31.960729Z",
     "shell.execute_reply": "2021-10-27T08:01:31.961169Z",
     "shell.execute_reply.started": "2021-10-27T07:47:50.162720Z"
    },
    "papermill": {
     "duration": 0.043615,
     "end_time": "2021-10-27T08:01:31.961353",
     "exception": false,
     "start_time": "2021-10-27T08:01:31.917738",
     "status": "completed"
    },
    "tags": []
   },
   "outputs": [
    {
     "data": {
      "text/plain": [
       "1041256.3802088564"
      ]
     },
     "execution_count": 16,
     "metadata": {},
     "output_type": "execute_result"
    }
   ],
   "source": [
    "#Calculating mean sales on non-holidays :\n",
    "Non_Holiday_Sales = walmart_data[walmart_data['Holiday_Flag'] == 0 ]['Weekly_Sales'].mean()\n",
    "Non_Holiday_Sales"
   ]
  },
  {
   "cell_type": "code",
   "execution_count": 17,
   "id": "7f4760f2",
   "metadata": {
    "execution": {
     "iopub.execute_input": "2021-10-27T08:01:32.035114Z",
     "iopub.status.busy": "2021-10-27T08:01:32.034425Z",
     "iopub.status.idle": "2021-10-27T08:01:32.037004Z",
     "shell.execute_reply": "2021-10-27T08:01:32.037533Z",
     "shell.execute_reply.started": "2021-10-27T07:48:07.065960Z"
    },
    "papermill": {
     "duration": 0.0424,
     "end_time": "2021-10-27T08:01:32.037705",
     "exception": false,
     "start_time": "2021-10-27T08:01:31.995305",
     "status": "completed"
    },
    "tags": []
   },
   "outputs": [
    {
     "data": {
      "text/plain": [
       "{'Super_Bowl_Sales': 1079127.9877037033,\n",
       " 'Labour_Day_Sales': 1042427.2939259257,\n",
       " 'Thanksgiving_Sales': 1471273.427777778,\n",
       " 'Christmas_Sales': 960833.1115555551,\n",
       " 'Non_Holiday_Sales': 1041256.3802088564}"
      ]
     },
     "execution_count": 17,
     "metadata": {},
     "output_type": "execute_result"
    }
   ],
   "source": [
    "Mean_Sales = {'Super_Bowl_Sales' : Super_Bowl_Sales,\n",
    "              'Labour_Day_Sales': Labour_Day_Sales,\n",
    "              'Thanksgiving_Sales':Thanksgiving_Sales,\n",
    "              'Christmas_Sales': Christmas_Sales,\n",
    "              'Non_Holiday_Sales': Non_Holiday_Sales}\n",
    "Mean_Sales "
   ]
  },
  {
   "cell_type": "markdown",
   "id": "1bc063c6",
   "metadata": {
    "papermill": {
     "duration": 0.034994,
     "end_time": "2021-10-27T08:01:32.108253",
     "exception": false,
     "start_time": "2021-10-27T08:01:32.073259",
     "status": "completed"
    },
    "tags": []
   },
   "source": [
    "**Clearly, Thanksgiving has higher sales than the mean sales on non-holidays.**\n",
    "\n",
    "---"
   ]
  },
  {
   "cell_type": "markdown",
   "id": "46329448",
   "metadata": {
    "papermill": {
     "duration": 0.033937,
     "end_time": "2021-10-27T08:01:32.177044",
     "exception": false,
     "start_time": "2021-10-27T08:01:32.143107",
     "status": "completed"
    },
    "tags": []
   },
   "source": [
    "**5) Provide a monthly and semester view of sales in units and give insights.**"
   ]
  },
  {
   "cell_type": "code",
   "execution_count": 18,
   "id": "7323bb7c",
   "metadata": {
    "execution": {
     "iopub.execute_input": "2021-10-27T08:01:32.253742Z",
     "iopub.status.busy": "2021-10-27T08:01:32.253063Z",
     "iopub.status.idle": "2021-10-27T08:01:32.770330Z",
     "shell.execute_reply": "2021-10-27T08:01:32.769659Z",
     "shell.execute_reply.started": "2021-10-27T07:49:34.264968Z"
    },
    "papermill": {
     "duration": 0.559098,
     "end_time": "2021-10-27T08:01:32.770482",
     "exception": false,
     "start_time": "2021-10-27T08:01:32.211384",
     "status": "completed"
    },
    "tags": []
   },
   "outputs": [
    {
     "data": {
      "image/png": "[encoded data removed]",
      "text/plain": [
       "<Figure size 1080x504 with 1 Axes>"
      ]
     },
     "metadata": {
      "needs_background": "light"
     },
     "output_type": "display_data"
    },
    {
     "data": {
      "image/png": "[encoded data removed]",
      "text/plain": [
       "<Figure size 1080x504 with 1 Axes>"
      ]
     },
     "metadata": {
      "needs_background": "light"
     },
     "output_type": "display_data"
    },
    {
     "data": {
      "image/png": "[encoded data removed]",
      "text/plain": [
       "<Figure size 1080x504 with 1 Axes>"
      ]
     },
     "metadata": {
      "needs_background": "light"
     },
     "output_type": "display_data"
    }
   ],
   "source": [
    "#Year-wise Monthly Sales\n",
    "\n",
    "plt.figure(figsize=(15,7))\n",
    "plt.scatter(walmart_data[walmart_data.Year==2010][\"Month\"],walmart_data[walmart_data.Year==2010][\"Weekly_Sales\"])\n",
    "plt.xlabel(\"Months\")\n",
    "plt.ylabel(\"Weekly Sales\")\n",
    "plt.title(\"Monthly view of sales in 2010\")\n",
    "plt.show()\n",
    "\n",
    "plt.figure(figsize=(15,7))\n",
    "plt.scatter(walmart_data[walmart_data.Year==2011][\"Month\"],walmart_data[walmart_data.Year==2011][\"Weekly_Sales\"])\n",
    "plt.xlabel(\"Months\")\n",
    "plt.ylabel(\"Weekly Sales\")\n",
    "plt.title(\"Monthly view of sales in 2011\")\n",
    "plt.show()\n",
    "\n",
    "plt.figure(figsize=(15,7))\n",
    "plt.scatter(walmart_data[walmart_data.Year==2012][\"Month\"],walmart_data[walmart_data.Year==2012][\"Weekly_Sales\"])\n",
    "plt.xlabel(\"Months\")\n",
    "plt.ylabel(\"Weekly Sales\")\n",
    "plt.title(\"Monthly view of sales in 2012\")\n",
    "plt.show()"
   ]
  },
  {
   "cell_type": "code",
   "execution_count": 19,
   "id": "1f404730",
   "metadata": {
    "execution": {
     "iopub.execute_input": "2021-10-27T08:01:32.872525Z",
     "iopub.status.busy": "2021-10-27T08:01:32.871874Z",
     "iopub.status.idle": "2021-10-27T08:01:44.185449Z",
     "shell.execute_reply": "2021-10-27T08:01:44.185930Z",
     "shell.execute_reply.started": "2021-10-27T07:50:11.849915Z"
    },
    "papermill": {
     "duration": 11.376096,
     "end_time": "2021-10-27T08:01:44.186104",
     "exception": false,
     "start_time": "2021-10-27T08:01:32.810008",
     "status": "completed"
    },
    "tags": []
   },
   "outputs": [
    {
     "data": {
      "image/png": "[encoded data removed]",
      "text/plain": [
       "<Figure size 1080x504 with 1 Axes>"
      ]
     },
     "metadata": {
      "needs_background": "light"
     },
     "output_type": "display_data"
    }
   ],
   "source": [
    "#Overall Monthly Sales\n",
    "plt.figure(figsize=(15,7))\n",
    "plt.bar(walmart_data[\"Month\"],walmart_data[\"Weekly_Sales\"])\n",
    "plt.xlabel(\"Months\")\n",
    "plt.ylabel(\"Weekly Sales\")\n",
    "plt.title(\"Monthly view of sales\")\n",
    "plt.show()"
   ]
  },
  {
   "cell_type": "code",
   "execution_count": 20,
   "id": "d8e6164b",
   "metadata": {
    "execution": {
     "iopub.execute_input": "2021-10-27T08:01:44.273773Z",
     "iopub.status.busy": "2021-10-27T08:01:44.273055Z",
     "iopub.status.idle": "2021-10-27T08:01:44.448878Z",
     "shell.execute_reply": "2021-10-27T08:01:44.449322Z",
     "shell.execute_reply.started": "2021-10-27T07:50:27.263526Z"
    },
    "papermill": {
     "duration": 0.224708,
     "end_time": "2021-10-27T08:01:44.449550",
     "exception": false,
     "start_time": "2021-10-27T08:01:44.224842",
     "status": "completed"
    },
    "tags": []
   },
   "outputs": [
    {
     "data": {
      "text/plain": [
       "<Figure size 1080x504 with 0 Axes>"
      ]
     },
     "metadata": {},
     "output_type": "display_data"
    },
    {
     "data": {
      "image/png": "[encoded data removed]",
      "text/plain": [
       "<Figure size 432x288 with 1 Axes>"
      ]
     },
     "metadata": {
      "needs_background": "light"
     },
     "output_type": "display_data"
    }
   ],
   "source": [
    "#Yearly Sales\n",
    "plt.figure(figsize=(15,7))\n",
    "walmart_data.groupby(\"Year\")[[\"Weekly_Sales\"]].sum().plot(kind='bar',legend=False)\n",
    "plt.xlabel(\"Years\")\n",
    "plt.ylabel(\"Weekly Sales\")\n",
    "plt.title(\"Yearly view of sales\")\n",
    "plt.show()"
   ]
  },
  {
   "cell_type": "markdown",
   "id": "a0700513",
   "metadata": {
    "papermill": {
     "duration": 0.039684,
     "end_time": "2021-10-27T08:01:44.528995",
     "exception": false,
     "start_time": "2021-10-27T08:01:44.489311",
     "status": "completed"
    },
    "tags": []
   },
   "source": [
    "**Here, overall monthly sales are higher in the month of December while the yearly sales in the year 2011 are the highest.**\n",
    "\n",
    "---"
   ]
  },
  {
   "cell_type": "markdown",
   "id": "83a093f7",
   "metadata": {
    "papermill": {
     "duration": 0.042544,
     "end_time": "2021-10-27T08:01:44.614058",
     "exception": false,
     "start_time": "2021-10-27T08:01:44.571514",
     "status": "completed"
    },
    "tags": []
   },
   "source": [
    "**For Store 1 – Build prediction models to forecast demand : \n",
    "Linear Regression – Utilize variables like date and restructure dates as 1 for 5 Feb 2010 (starting from the earliest date in order). \n",
    "Hypothesize if CPI, unemployment, and fuel price have any impact on sales. \n",
    "Change dates into days by creating new variable. \n",
    "Select the model which gives best accuracy.**"
   ]
  },
  {
   "cell_type": "code",
   "execution_count": 21,
   "id": "5157a218",
   "metadata": {
    "execution": {
     "iopub.execute_input": "2021-10-27T08:01:44.699146Z",
     "iopub.status.busy": "2021-10-27T08:01:44.698175Z",
     "iopub.status.idle": "2021-10-27T08:01:45.190405Z",
     "shell.execute_reply": "2021-10-27T08:01:45.190860Z",
     "shell.execute_reply.started": "2021-10-27T07:51:57.043937Z"
    },
    "papermill": {
     "duration": 0.53643,
     "end_time": "2021-10-27T08:01:45.191025",
     "exception": false,
     "start_time": "2021-10-27T08:01:44.654595",
     "status": "completed"
    },
    "tags": []
   },
   "outputs": [
    {
     "data": {
      "image/png": "[encoded data removed]",
      "text/plain": [
       "<Figure size 1152x1152 with 4 Axes>"
      ]
     },
     "metadata": {
      "needs_background": "light"
     },
     "output_type": "display_data"
    }
   ],
   "source": [
    "#Detecting outliers :\n",
    "fig, axis = plt.subplots(4,figsize=(16,16))\n",
    "X = walmart_data[['Temperature','Fuel_Price','CPI','Unemployment']]\n",
    "for i,column in enumerate(X):\n",
    "    sns.boxplot(walmart_data[column],ax=axis[i])\n",
    "    \n",
    "import warnings\n",
    "warnings.filterwarnings('ignore')"
   ]
  },
  {
   "cell_type": "code",
   "execution_count": 22,
   "id": "c7016ddc",
   "metadata": {
    "execution": {
     "iopub.execute_input": "2021-10-27T08:01:45.273551Z",
     "iopub.status.busy": "2021-10-27T08:01:45.272604Z",
     "iopub.status.idle": "2021-10-27T08:01:45.293836Z",
     "shell.execute_reply": "2021-10-27T08:01:45.294378Z",
     "shell.execute_reply.started": "2021-10-27T07:52:15.915817Z"
    },
    "papermill": {
     "duration": 0.064116,
     "end_time": "2021-10-27T08:01:45.294547",
     "exception": false,
     "start_time": "2021-10-27T08:01:45.230431",
     "status": "completed"
    },
    "tags": []
   },
   "outputs": [
    {
     "data": {
      "text/html": [
       "<div>\n",
       "<style scoped>\n",
       "    .dataframe tbody tr th:only-of-type {\n",
       "        vertical-align: middle;\n",
       "    }\n",
       "\n",
       "    .dataframe tbody tr th {\n",
       "        vertical-align: top;\n",
       "    }\n",
       "\n",
       "    .dataframe thead th {\n",
       "        text-align: right;\n",
       "    }\n",
       "</style>\n",
       "<table border=\"1\" class=\"dataframe\">\n",
       "  <thead>\n",
       "    <tr style=\"text-align: right;\">\n",
       "      <th></th>\n",
       "      <th>Store</th>\n",
       "      <th>Date</th>\n",
       "      <th>Weekly_Sales</th>\n",
       "      <th>Holiday_Flag</th>\n",
       "      <th>Temperature</th>\n",
       "      <th>Fuel_Price</th>\n",
       "      <th>CPI</th>\n",
       "      <th>Unemployment</th>\n",
       "      <th>Day</th>\n",
       "      <th>Month</th>\n",
       "      <th>Year</th>\n",
       "    </tr>\n",
       "  </thead>\n",
       "  <tbody>\n",
       "    <tr>\n",
       "      <th>0</th>\n",
       "      <td>1</td>\n",
       "      <td>2010-05-02</td>\n",
       "      <td>1643690.90</td>\n",
       "      <td>0</td>\n",
       "      <td>42.31</td>\n",
       "      <td>2.572</td>\n",
       "      <td>211.096358</td>\n",
       "      <td>8.106</td>\n",
       "      <td>2</td>\n",
       "      <td>5</td>\n",
       "      <td>2010</td>\n",
       "    </tr>\n",
       "    <tr>\n",
       "      <th>1</th>\n",
       "      <td>1</td>\n",
       "      <td>2010-12-02</td>\n",
       "      <td>1641957.44</td>\n",
       "      <td>1</td>\n",
       "      <td>38.51</td>\n",
       "      <td>2.548</td>\n",
       "      <td>211.242170</td>\n",
       "      <td>8.106</td>\n",
       "      <td>2</td>\n",
       "      <td>12</td>\n",
       "      <td>2010</td>\n",
       "    </tr>\n",
       "    <tr>\n",
       "      <th>2</th>\n",
       "      <td>1</td>\n",
       "      <td>2010-02-19</td>\n",
       "      <td>1611968.17</td>\n",
       "      <td>0</td>\n",
       "      <td>39.93</td>\n",
       "      <td>2.514</td>\n",
       "      <td>211.289143</td>\n",
       "      <td>8.106</td>\n",
       "      <td>19</td>\n",
       "      <td>2</td>\n",
       "      <td>2010</td>\n",
       "    </tr>\n",
       "    <tr>\n",
       "      <th>3</th>\n",
       "      <td>1</td>\n",
       "      <td>2010-02-26</td>\n",
       "      <td>1409727.59</td>\n",
       "      <td>0</td>\n",
       "      <td>46.63</td>\n",
       "      <td>2.561</td>\n",
       "      <td>211.319643</td>\n",
       "      <td>8.106</td>\n",
       "      <td>26</td>\n",
       "      <td>2</td>\n",
       "      <td>2010</td>\n",
       "    </tr>\n",
       "    <tr>\n",
       "      <th>4</th>\n",
       "      <td>1</td>\n",
       "      <td>2010-05-03</td>\n",
       "      <td>1554806.68</td>\n",
       "      <td>0</td>\n",
       "      <td>46.50</td>\n",
       "      <td>2.625</td>\n",
       "      <td>211.350143</td>\n",
       "      <td>8.106</td>\n",
       "      <td>3</td>\n",
       "      <td>5</td>\n",
       "      <td>2010</td>\n",
       "    </tr>\n",
       "    <tr>\n",
       "      <th>...</th>\n",
       "      <td>...</td>\n",
       "      <td>...</td>\n",
       "      <td>...</td>\n",
       "      <td>...</td>\n",
       "      <td>...</td>\n",
       "      <td>...</td>\n",
       "      <td>...</td>\n",
       "      <td>...</td>\n",
       "      <td>...</td>\n",
       "      <td>...</td>\n",
       "      <td>...</td>\n",
       "    </tr>\n",
       "    <tr>\n",
       "      <th>6430</th>\n",
       "      <td>45</td>\n",
       "      <td>2012-09-28</td>\n",
       "      <td>713173.95</td>\n",
       "      <td>0</td>\n",
       "      <td>64.88</td>\n",
       "      <td>3.997</td>\n",
       "      <td>192.013558</td>\n",
       "      <td>8.684</td>\n",
       "      <td>28</td>\n",
       "      <td>9</td>\n",
       "      <td>2012</td>\n",
       "    </tr>\n",
       "    <tr>\n",
       "      <th>6431</th>\n",
       "      <td>45</td>\n",
       "      <td>2012-05-10</td>\n",
       "      <td>733455.07</td>\n",
       "      <td>0</td>\n",
       "      <td>64.89</td>\n",
       "      <td>3.985</td>\n",
       "      <td>192.170412</td>\n",
       "      <td>8.667</td>\n",
       "      <td>10</td>\n",
       "      <td>5</td>\n",
       "      <td>2012</td>\n",
       "    </tr>\n",
       "    <tr>\n",
       "      <th>6432</th>\n",
       "      <td>45</td>\n",
       "      <td>2012-12-10</td>\n",
       "      <td>734464.36</td>\n",
       "      <td>0</td>\n",
       "      <td>54.47</td>\n",
       "      <td>4.000</td>\n",
       "      <td>192.327265</td>\n",
       "      <td>8.667</td>\n",
       "      <td>10</td>\n",
       "      <td>12</td>\n",
       "      <td>2012</td>\n",
       "    </tr>\n",
       "    <tr>\n",
       "      <th>6433</th>\n",
       "      <td>45</td>\n",
       "      <td>2012-10-19</td>\n",
       "      <td>718125.53</td>\n",
       "      <td>0</td>\n",
       "      <td>56.47</td>\n",
       "      <td>3.969</td>\n",
       "      <td>192.330854</td>\n",
       "      <td>8.667</td>\n",
       "      <td>19</td>\n",
       "      <td>10</td>\n",
       "      <td>2012</td>\n",
       "    </tr>\n",
       "    <tr>\n",
       "      <th>6434</th>\n",
       "      <td>45</td>\n",
       "      <td>2012-10-26</td>\n",
       "      <td>760281.43</td>\n",
       "      <td>0</td>\n",
       "      <td>58.85</td>\n",
       "      <td>3.882</td>\n",
       "      <td>192.308899</td>\n",
       "      <td>8.667</td>\n",
       "      <td>26</td>\n",
       "      <td>10</td>\n",
       "      <td>2012</td>\n",
       "    </tr>\n",
       "  </tbody>\n",
       "</table>\n",
       "<p>5658 rows × 11 columns</p>\n",
       "</div>"
      ],
      "text/plain": [
       "      Store       Date  Weekly_Sales  Holiday_Flag  Temperature  Fuel_Price  \\\n",
       "0         1 2010-05-02    1643690.90             0        42.31       2.572   \n",
       "1         1 2010-12-02    1641957.44             1        38.51       2.548   \n",
       "2         1 2010-02-19    1611968.17             0        39.93       2.514   \n",
       "3         1 2010-02-26    1409727.59             0        46.63       2.561   \n",
       "4         1 2010-05-03    1554806.68             0        46.50       2.625   \n",
       "...     ...        ...           ...           ...          ...         ...   \n",
       "6430     45 2012-09-28     713173.95             0        64.88       3.997   \n",
       "6431     45 2012-05-10     733455.07             0        64.89       3.985   \n",
       "6432     45 2012-12-10     734464.36             0        54.47       4.000   \n",
       "6433     45 2012-10-19     718125.53             0        56.47       3.969   \n",
       "6434     45 2012-10-26     760281.43             0        58.85       3.882   \n",
       "\n",
       "             CPI  Unemployment  Day  Month  Year  \n",
       "0     211.096358         8.106    2      5  2010  \n",
       "1     211.242170         8.106    2     12  2010  \n",
       "2     211.289143         8.106   19      2  2010  \n",
       "3     211.319643         8.106   26      2  2010  \n",
       "4     211.350143         8.106    3      5  2010  \n",
       "...          ...           ...  ...    ...   ...  \n",
       "6430  192.013558         8.684   28      9  2012  \n",
       "6431  192.170412         8.667   10      5  2012  \n",
       "6432  192.327265         8.667   10     12  2012  \n",
       "6433  192.330854         8.667   19     10  2012  \n",
       "6434  192.308899         8.667   26     10  2012  \n",
       "\n",
       "[5658 rows x 11 columns]"
      ]
     },
     "execution_count": 22,
     "metadata": {},
     "output_type": "execute_result"
    }
   ],
   "source": [
    "# Dropping outliers     \n",
    "walmart_data_clean = walmart_data[(walmart_data['Unemployment']<10) & (walmart_data['Unemployment']>4.5) & (walmart_data['Temperature']>10)]\n",
    "walmart_data_clean"
   ]
  },
  {
   "cell_type": "code",
   "execution_count": 23,
   "id": "3c35fb13",
   "metadata": {
    "execution": {
     "iopub.execute_input": "2021-10-27T08:01:45.378274Z",
     "iopub.status.busy": "2021-10-27T08:01:45.377336Z",
     "iopub.status.idle": "2021-10-27T08:01:45.862630Z",
     "shell.execute_reply": "2021-10-27T08:01:45.862121Z",
     "shell.execute_reply.started": "2021-10-27T07:52:31.318677Z"
    },
    "papermill": {
     "duration": 0.528324,
     "end_time": "2021-10-27T08:01:45.862794",
     "exception": false,
     "start_time": "2021-10-27T08:01:45.334470",
     "status": "completed"
    },
    "tags": []
   },
   "outputs": [
    {
     "data": {
      "image/png": "[encoded data removed]",
      "text/plain": [
       "<Figure size 1152x1152 with 4 Axes>"
      ]
     },
     "metadata": {
      "needs_background": "light"
     },
     "output_type": "display_data"
    }
   ],
   "source": [
    "#Checking data for outliers\n",
    "fig, axis = plt.subplots(4,figsize=(16,16))\n",
    "X = walmart_data_clean[['Temperature','Fuel_Price','CPI','Unemployment']]\n",
    "for i,column in enumerate(X):\n",
    "    sns.boxplot(walmart_data_clean[column], ax=axis[i])\n",
    "\n",
    "import warnings\n",
    "warnings.filterwarnings('ignore')\n",
    "    "
   ]
  },
  {
   "cell_type": "code",
   "execution_count": 24,
   "id": "00c7550d",
   "metadata": {
    "execution": {
     "iopub.execute_input": "2021-10-27T08:01:45.949506Z",
     "iopub.status.busy": "2021-10-27T08:01:45.948867Z",
     "iopub.status.idle": "2021-10-27T08:01:46.104197Z",
     "shell.execute_reply": "2021-10-27T08:01:46.103597Z",
     "shell.execute_reply.started": "2021-10-27T07:52:50.549325Z"
    },
    "papermill": {
     "duration": 0.20001,
     "end_time": "2021-10-27T08:01:46.104420",
     "exception": false,
     "start_time": "2021-10-27T08:01:45.904410",
     "status": "completed"
    },
    "tags": []
   },
   "outputs": [],
   "source": [
    "# Linear Regression :\n",
    "from sklearn.model_selection import train_test_split\n",
    "from sklearn import metrics\n",
    "from sklearn.linear_model import LinearRegression\n",
    "X = walmart_data_clean[['Store','Fuel_Price','CPI','Unemployment','Day','Month','Year']]\n",
    "Y = walmart_data_clean['Weekly_Sales']\n",
    "X_train, X_test, Y_train, Y_test = train_test_split(X,Y,test_size=0.2)"
   ]
  },
  {
   "cell_type": "code",
   "execution_count": 25,
   "id": "b539324c",
   "metadata": {
    "execution": {
     "iopub.execute_input": "2021-10-27T08:01:46.196985Z",
     "iopub.status.busy": "2021-10-27T08:01:46.195480Z",
     "iopub.status.idle": "2021-10-27T08:01:46.459213Z",
     "shell.execute_reply": "2021-10-27T08:01:46.459695Z",
     "shell.execute_reply.started": "2021-10-27T07:52:59.639500Z"
    },
    "papermill": {
     "duration": 0.314107,
     "end_time": "2021-10-27T08:01:46.459866",
     "exception": false,
     "start_time": "2021-10-27T08:01:46.145759",
     "status": "completed"
    },
    "tags": []
   },
   "outputs": [
    {
     "name": "stdout",
     "output_type": "stream",
     "text": [
      "Linear Regression:\n",
      "\n",
      "Accuracy: 13.927388936546759\n",
      "Mean Absolute Error: 459395.4879316832\n",
      "Mean Squared Error: 302921657729.9133\n",
      "Root Mean Squared Error: 550383.1917218342\n"
     ]
    },
    {
     "data": {
      "image/png": "[encoded data removed]",
      "text/plain": [
       "<Figure size 432x288 with 1 Axes>"
      ]
     },
     "metadata": {
      "needs_background": "light"
     },
     "output_type": "display_data"
    }
   ],
   "source": [
    "print('Linear Regression:')\n",
    "print()\n",
    "reg = LinearRegression()\n",
    "reg.fit(X_train, Y_train)\n",
    "Y_pred = reg.predict(X_test)\n",
    "print('Accuracy:',reg.score(X_train, Y_train)*100)\n",
    "print('Mean Absolute Error:', metrics.mean_absolute_error(Y_test, Y_pred))\n",
    "print('Mean Squared Error:', metrics.mean_squared_error(Y_test, Y_pred))\n",
    "print('Root Mean Squared Error:', np.sqrt(metrics.mean_squared_error(Y_test, Y_pred)))\n",
    "sns.scatterplot(Y_pred, Y_test)\n",
    "\n",
    "import warnings\n",
    "warnings.filterwarnings('ignore')"
   ]
  },
  {
   "cell_type": "code",
   "execution_count": 25,
   "id": "abf81a3a",
   "metadata": {
    "execution": {
     "iopub.execute_input": "2021-10-27T08:01:46.547786Z",
     "iopub.status.busy": "2021-10-27T08:01:46.547145Z",
     "iopub.status.idle": "2021-10-27T08:01:48.776826Z",
     "shell.execute_reply": "2021-10-27T08:01:48.775863Z",
     "shell.execute_reply.started": "2021-10-27T07:54:21.954066Z"
    },
    "papermill": {
     "duration": 2.27442,
     "end_time": "2021-10-27T08:01:48.776971",
     "exception": false,
     "start_time": "2021-10-27T08:01:46.502551",
     "status": "completed"
    },
    "tags": []
   },
   "outputs": [
    {
     "name": "stdout",
     "output_type": "stream",
     "text": [
      "Random Forest Regressor:\n",
      "\n",
      "Accuracy: 94.83156430678213\n",
      "Mean Absolute Error: 66522.64447243817\n",
      "Mean Squared Error: 17653493370.405884\n",
      "Root Mean Squared Error: 132866.44937833585\n"
     ]
    },
    {
     "data": {
      "image/png": "[encoded data removed]",
      "text/plain": [
       "<Figure size 432x288 with 1 Axes>"
      ]
     },
     "metadata": {
      "needs_background": "light"
     },
     "output_type": "display_data"
    }
   ],
   "source": [
    "# Random Forest Regressor\n",
    "from sklearn.ensemble import RandomForestRegressor\n",
    "print('Random Forest Regressor:')\n",
    "print()\n",
    "rfr = RandomForestRegressor()        \n",
    "rfr.fit(X_train,Y_train)\n",
    "Y_pred = rfr.predict(X_test)\n",
    "print('Accuracy:',rfr.score(X_test, Y_test)*100)\n",
    "print('Mean Absolute Error:', metrics.mean_absolute_error(Y_test, Y_pred))\n",
    "print('Mean Squared Error:', metrics.mean_squared_error(Y_test, Y_pred))\n",
    "print('Root Mean Squared Error:', np.sqrt(metrics.mean_squared_error(Y_test, Y_pred)))\n",
    "sns.scatterplot(Y_pred, Y_test)\n",
    "\n",
    "\n",
    "import warnings\n",
    "warnings.filterwarnings('ignore')"
   ]
  },
  {
   "cell_type": "markdown",
   "id": "305955e6",
   "metadata": {
    "papermill": {
     "duration": 0.043917,
     "end_time": "2021-10-27T08:01:48.865594",
     "exception": false,
     "start_time": "2021-10-27T08:01:48.821677",
     "status": "completed"
    },
    "tags": []
   },
   "source": [
    "**Here, Linear Regression is not an appropriate model to use which is clear from it's low accuracy. However, Random Forest Regression gives accuracy of over 95% , so, it is the best model to forecast demand.**"
   ]
  }
 ],
 "metadata": {
  "kernelspec": {
   "display_name": "Python 3 (ipykernel)",
   "language": "python",
   "name": "python3"
  },
  "language_info": {
   "codemirror_mode": {
    "name": "ipython",
    "version": 3
   },
   "file_extension": ".py",
   "mimetype": "text/x-python",
   "name": "python",
   "nbconvert_exporter": "python",
   "pygments_lexer": "ipython3",
   "version": "3.9.12"
  },
  "papermill": {
   "default_parameters": {},
   "duration": 32.373697,
   "end_time": "2021-10-27T08:01:49.921266",
   "environment_variables": {},
   "exception": null,
   "input_path": "__notebook__.ipynb",
   "output_path": "__notebook__.ipynb",
   "parameters": {},
   "start_time": "2021-10-27T08:01:17.547569",
   "version": "2.3.3"
  }
 },
 "nbformat": 4,
 "nbformat_minor": 5
}
