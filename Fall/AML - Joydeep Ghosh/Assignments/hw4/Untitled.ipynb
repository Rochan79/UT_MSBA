{
 "cells": [
  {
   "cell_type": "code",
   "execution_count": 1,
   "id": "971efe77",
   "metadata": {},
   "outputs": [],
   "source": [
    "import numpy as np\n",
    "import pandas as pd"
   ]
  },
  {
   "cell_type": "code",
   "execution_count": 5,
   "id": "d1866368",
   "metadata": {},
   "outputs": [],
   "source": [
    "def isPalin(str, st, end): \n",
    "    while (st < end):\n",
    " \n",
    "        if (str[st] != str[end]):\n",
    "            return False\n",
    "        st += 1\n",
    "        end--1\n",
    " \n",
    "    return True\n",
    " \n",
    " \n",
    "def findMinInsert(str):\n",
    "    n = len(str)\n",
    "    for i in range(n-1, -1, -1):\n",
    "         if (isPalin(str, 0, i)):\n",
    "            return (n - i - 1)\n",
    " \n",
    " \n"
   ]
  },
  {
   "cell_type": "code",
   "execution_count": 17,
   "id": "b3aa4b41",
   "metadata": {},
   "outputs": [],
   "source": [
    "def isPalindrome(s):\n",
    "    return s == s[::-1]"
   ]
  },
  {
   "cell_type": "code",
   "execution_count": 18,
   "id": "cba29bc0",
   "metadata": {},
   "outputs": [
    {
     "data": {
      "text/plain": [
       "True"
      ]
     },
     "execution_count": 18,
     "metadata": {},
     "output_type": "execute_result"
    }
   ],
   "source": [
    "def mininsert(str):\n",
    "    if isPalindrome(str) == True:\n",
    "        return 0\n",
    "    else:\n",
    "        n = len(str)\n",
    "        \n",
    "        for i in range(n-1, -1, -1):\n",
    "         if (isPalindrome(str)):\n",
    "            return (n - i - 1) \n",
    "\n"
   ]
  },
  {
   "cell_type": "code",
   "execution_count": null,
   "id": "a09a43a4",
   "metadata": {},
   "outputs": [],
   "source": []
  }
 ],
 "metadata": {
  "kernelspec": {
   "display_name": "Python 3 (ipykernel)",
   "language": "python",
   "name": "python3"
  },
  "language_info": {
   "codemirror_mode": {
    "name": "ipython",
    "version": 3
   },
   "file_extension": ".py",
   "mimetype": "text/x-python",
   "name": "python",
   "nbconvert_exporter": "python",
   "pygments_lexer": "ipython3",
   "version": "3.9.12"
  }
 },
 "nbformat": 4,
 "nbformat_minor": 5
}
