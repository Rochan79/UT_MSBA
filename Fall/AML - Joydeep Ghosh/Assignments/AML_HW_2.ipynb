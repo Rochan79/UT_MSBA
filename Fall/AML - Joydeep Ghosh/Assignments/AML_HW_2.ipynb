{
 "cells": [
  {
   "cell_type": "markdown",
   "metadata": {
    "id": "qhqVSofWCeHl"
   },
   "source": [
    "<b> MIS 382N: ADVANCED MACHINE LEARNING<b>\n",
    "\n",
    "Assignment 2\n",
    "\n",
    "Total points: 70\n",
    "\n",
    "Due: Friday, September 23 to be submitted via Canvas by 11:59 pm"
   ]
  },
  {
   "cell_type": "markdown",
   "metadata": {
    "id": "_oWED2hlDCVs"
   },
   "source": [
    "Your homework should be written in a python notebook. If you prefer, you can work in groups of two. **Please note that only one student per team needs to submit the assignment on Canvas but make sure to include both students' names and UT EIDs.**\n",
    "\n",
    "For any question that requires a handwritten solution, you may upload scanned images of your solution in the notebook or attach them to the assignment . You may write your solution using markdown as well.\n",
    "\n",
    "Please make sure your code runs and the graphs and figures are displayed in your notebook before submitting. (%matplotlib inline)"
   ]
  },
  {
   "cell_type": "markdown",
   "metadata": {
    "id": "BElYjEVrDW_C"
   },
   "source": [
    "# Question 1: Bias and Variance (10 pts)\n",
    "\n",
    "(a). (4 pts) Describe the difference between model bias and the bias of a point estimator. \n",
    "\n",
    "(b) (6 pts). How can you use a learning curve to determine whether a model is overfitting  (for a given sample size)? Discuss this with respect to the observed train and validation error curves. How does your answer change if the model you are trying to determine if the model is underfitting?"
   ]
  },
  {
   "cell_type": "markdown",
   "metadata": {},
   "source": [
    "Ans (a) :\n",
    "*Model Bias:* \n",
    "Model bias tells us how well a model fits the training set. It tells us how much assumption our model is making on the given training data. The more simpler the assumption of the model is, the greater is the bias of the model\n",
    "\n",
    "\n",
    "*Bias of a point estimator:*\n",
    "Point estimator is the averaged value of a random sample obtained from a population. It may be different from the mean of entire population. Therefore bias of a point estimator is the difference between expected value of the estimator and value of parameter which is being estimated \n",
    "\n",
    "Ans (b):\n",
    "A learning curve is a plot of the training and validation sets with RMSE against the number of epochs or size of training data. It basically indicates the model's learning performance with experience or time. \n",
    "To determine overfitting of a model, we would look to determine how well the training performance is as compared to the test performance. If the training error is decreasing over the number of epochs and the test error keeps on increasing, it is a strong indicator that the model is overfitting.  \n",
    "\n",
    "We can get the indication of underfitting simply from the learning curve of training performance. If the training curve is flat and the error is very high, we can infer that the model is not learning that well on the training data. Additionally, if the training loss continues to decrease till the end of the training data, it means that the model was capable of achieving a lower error but could not attain it"
   ]
  },
  {
   "cell_type": "markdown",
   "metadata": {
    "id": "IMNlqrSOV8Fk"
   },
   "source": [
    "# Answer : "
   ]
  },
  {
   "cell_type": "markdown",
   "metadata": {
    "id": "lVDuxuanERhK"
   },
   "source": [
    "# Question 2: Bias-Variance Exploration (20 pts)\n",
    "We want to build a model that can predict y for unknown inputs x.\n",
    "\n",
    "(a) (10 pts) Fit polynomial models of degrees 2, 4, 7 to the training data. Print out the mean squared error (on both train and test sets) for all the models. Plot the data (y_train vs x_train and y_test vs x_test), the fitted models (predictions on x_all by different models vs x_all), and the predictions on the test set (predictions on x_test by different models vs x_test). All the plots must be in the same figure and be clearly labeled. Tips: you can use np.vander(np.squeeze(x_train), deg+1) to generate the deg-degree polynomial vector of x_train. For example, np.vander(np.squeeze(x_train), 3) gives you the second-degree polynomial of x_train.\n",
    "\n",
    "(b) (5 pts) Which model gives the best performance? Explain in terms of the bias-variance tradeoff.\n",
    "\n",
    "(c) (5 pts) Analyse how the training data size affects the bias and the variance of the models. For this, run the analysis in (a) using 20, 40, 60, 80 and all 100 data points. Make a single plot of the  𝑙𝑜𝑔(𝑀𝑆𝐸)  for both the training and the test data vs the size of the training set for each of the polynomials. State the trends you see as you change the size of the training data on each of the models and explain why you see them. You can use the following codes to load the dataset and complete the analysis:"
   ]
  },
  {
   "cell_type": "code",
   "execution_count": 14,
   "metadata": {
    "id": "OKrawy-6Ezkl"
   },
   "outputs": [],
   "source": [
    "from sklearn import linear_model as lm\n",
    "from sklearn.linear_model import LinearRegression\n",
    "from sklearn.metrics import mean_squared_error, mean_absolute_error\n",
    "import matplotlib.pyplot as plt\n",
    "import numpy as np\n",
    "from sklearn.preprocessing import PolynomialFeatures\n",
    "%matplotlib inline"
   ]
  },
  {
   "cell_type": "code",
   "execution_count": null,
   "metadata": {
    "colab": {
     "base_uri": "https://localhost:8080/",
     "height": 74,
     "resources": {
      "http://localhost:8080/nbextensions/google.colab/files.js": {
       "data": "Ly8gQ29weXJpZ2h0IDIwMTcgR29vZ2xlIExMQwovLwovLyBMaWNlbnNlZCB1bmRlciB0aGUgQXBhY2hlIExpY2Vuc2UsIFZlcnNpb24gMi4wICh0aGUgIkxpY2Vuc2UiKTsKLy8geW91IG1heSBub3QgdXNlIHRoaXMgZmlsZSBleGNlcHQgaW4gY29tcGxpYW5jZSB3aXRoIHRoZSBMaWNlbnNlLgovLyBZb3UgbWF5IG9idGFpbiBhIGNvcHkgb2YgdGhlIExpY2Vuc2UgYXQKLy8KLy8gICAgICBodHRwOi8vd3d3LmFwYWNoZS5vcmcvbGljZW5zZXMvTElDRU5TRS0yLjAKLy8KLy8gVW5sZXNzIHJlcXVpcmVkIGJ5IGFwcGxpY2FibGUgbGF3IG9yIGFncmVlZCB0byBpbiB3cml0aW5nLCBzb2Z0d2FyZQovLyBkaXN0cmlidXRlZCB1bmRlciB0aGUgTGljZW5zZSBpcyBkaXN0cmlidXRlZCBvbiBhbiAiQVMgSVMiIEJBU0lTLAovLyBXSVRIT1VUIFdBUlJBTlRJRVMgT1IgQ09ORElUSU9OUyBPRiBBTlkgS0lORCwgZWl0aGVyIGV4cHJlc3Mgb3IgaW1wbGllZC4KLy8gU2VlIHRoZSBMaWNlbnNlIGZvciB0aGUgc3BlY2lmaWMgbGFuZ3VhZ2UgZ292ZXJuaW5nIHBlcm1pc3Npb25zIGFuZAovLyBsaW1pdGF0aW9ucyB1bmRlciB0aGUgTGljZW5zZS4KCi8qKgogKiBAZmlsZW92ZXJ2aWV3IEhlbHBlcnMgZm9yIGdvb2dsZS5jb2xhYiBQeXRob24gbW9kdWxlLgogKi8KKGZ1bmN0aW9uKHNjb3BlKSB7CmZ1bmN0aW9uIHNwYW4odGV4dCwgc3R5bGVBdHRyaWJ1dGVzID0ge30pIHsKICBjb25zdCBlbGVtZW50ID0gZG9jdW1lbnQuY3JlYXRlRWxlbWVudCgnc3BhbicpOwogIGVsZW1lbnQudGV4dENvbnRlbnQgPSB0ZXh0OwogIGZvciAoY29uc3Qga2V5IG9mIE9iamVjdC5rZXlzKHN0eWxlQXR0cmlidXRlcykpIHsKICAgIGVsZW1lbnQuc3R5bGVba2V5XSA9IHN0eWxlQXR0cmlidXRlc1trZXldOwogIH0KICByZXR1cm4gZWxlbWVudDsKfQoKLy8gTWF4IG51bWJlciBvZiBieXRlcyB3aGljaCB3aWxsIGJlIHVwbG9hZGVkIGF0IGEgdGltZS4KY29uc3QgTUFYX1BBWUxPQURfU0laRSA9IDEwMCAqIDEwMjQ7CgpmdW5jdGlvbiBfdXBsb2FkRmlsZXMoaW5wdXRJZCwgb3V0cHV0SWQpIHsKICBjb25zdCBzdGVwcyA9IHVwbG9hZEZpbGVzU3RlcChpbnB1dElkLCBvdXRwdXRJZCk7CiAgY29uc3Qgb3V0cHV0RWxlbWVudCA9IGRvY3VtZW50LmdldEVsZW1lbnRCeUlkKG91dHB1dElkKTsKICAvLyBDYWNoZSBzdGVwcyBvbiB0aGUgb3V0cHV0RWxlbWVudCB0byBtYWtlIGl0IGF2YWlsYWJsZSBmb3IgdGhlIG5leHQgY2FsbAogIC8vIHRvIHVwbG9hZEZpbGVzQ29udGludWUgZnJvbSBQeXRob24uCiAgb3V0cHV0RWxlbWVudC5zdGVwcyA9IHN0ZXBzOwoKICByZXR1cm4gX3VwbG9hZEZpbGVzQ29udGludWUob3V0cHV0SWQpOwp9CgovLyBUaGlzIGlzIHJvdWdobHkgYW4gYXN5bmMgZ2VuZXJhdG9yIChub3Qgc3VwcG9ydGVkIGluIHRoZSBicm93c2VyIHlldCksCi8vIHdoZXJlIHRoZXJlIGFyZSBtdWx0aXBsZSBhc3luY2hyb25vdXMgc3RlcHMgYW5kIHRoZSBQeXRob24gc2lkZSBpcyBnb2luZwovLyB0byBwb2xsIGZvciBjb21wbGV0aW9uIG9mIGVhY2ggc3RlcC4KLy8gVGhpcyB1c2VzIGEgUHJvbWlzZSB0byBibG9jayB0aGUgcHl0aG9uIHNpZGUgb24gY29tcGxldGlvbiBvZiBlYWNoIHN0ZXAsCi8vIHRoZW4gcGFzc2VzIHRoZSByZXN1bHQgb2YgdGhlIHByZXZpb3VzIHN0ZXAgYXMgdGhlIGlucHV0IHRvIHRoZSBuZXh0IHN0ZXAuCmZ1bmN0aW9uIF91cGxvYWRGaWxlc0NvbnRpbnVlKG91dHB1dElkKSB7CiAgY29uc3Qgb3V0cHV0RWxlbWVudCA9IGRvY3VtZW50LmdldEVsZW1lbnRCeUlkKG91dHB1dElkKTsKICBjb25zdCBzdGVwcyA9IG91dHB1dEVsZW1lbnQuc3RlcHM7CgogIGNvbnN0IG5leHQgPSBzdGVwcy5uZXh0KG91dHB1dEVsZW1lbnQubGFzdFByb21pc2VWYWx1ZSk7CiAgcmV0dXJuIFByb21pc2UucmVzb2x2ZShuZXh0LnZhbHVlLnByb21pc2UpLnRoZW4oKHZhbHVlKSA9PiB7CiAgICAvLyBDYWNoZSB0aGUgbGFzdCBwcm9taXNlIHZhbHVlIHRvIG1ha2UgaXQgYXZhaWxhYmxlIHRvIHRoZSBuZXh0CiAgICAvLyBzdGVwIG9mIHRoZSBnZW5lcmF0b3IuCiAgICBvdXRwdXRFbGVtZW50Lmxhc3RQcm9taXNlVmFsdWUgPSB2YWx1ZTsKICAgIHJldHVybiBuZXh0LnZhbHVlLnJlc3BvbnNlOwogIH0pOwp9CgovKioKICogR2VuZXJhdG9yIGZ1bmN0aW9uIHdoaWNoIGlzIGNhbGxlZCBiZXR3ZWVuIGVhY2ggYXN5bmMgc3RlcCBvZiB0aGUgdXBsb2FkCiAqIHByb2Nlc3MuCiAqIEBwYXJhbSB7c3RyaW5nfSBpbnB1dElkIEVsZW1lbnQgSUQgb2YgdGhlIGlucHV0IGZpbGUgcGlja2VyIGVsZW1lbnQuCiAqIEBwYXJhbSB7c3RyaW5nfSBvdXRwdXRJZCBFbGVtZW50IElEIG9mIHRoZSBvdXRwdXQgZGlzcGxheS4KICogQHJldHVybiB7IUl0ZXJhYmxlPCFPYmplY3Q+fSBJdGVyYWJsZSBvZiBuZXh0IHN0ZXBzLgogKi8KZnVuY3Rpb24qIHVwbG9hZEZpbGVzU3RlcChpbnB1dElkLCBvdXRwdXRJZCkgewogIGNvbnN0IGlucHV0RWxlbWVudCA9IGRvY3VtZW50LmdldEVsZW1lbnRCeUlkKGlucHV0SWQpOwogIGlucHV0RWxlbWVudC5kaXNhYmxlZCA9IGZhbHNlOwoKICBjb25zdCBvdXRwdXRFbGVtZW50ID0gZG9jdW1lbnQuZ2V0RWxlbWVudEJ5SWQob3V0cHV0SWQpOwogIG91dHB1dEVsZW1lbnQuaW5uZXJIVE1MID0gJyc7CgogIGNvbnN0IHBpY2tlZFByb21pc2UgPSBuZXcgUHJvbWlzZSgocmVzb2x2ZSkgPT4gewogICAgaW5wdXRFbGVtZW50LmFkZEV2ZW50TGlzdGVuZXIoJ2NoYW5nZScsIChlKSA9PiB7CiAgICAgIHJlc29sdmUoZS50YXJnZXQuZmlsZXMpOwogICAgfSk7CiAgfSk7CgogIGNvbnN0IGNhbmNlbCA9IGRvY3VtZW50LmNyZWF0ZUVsZW1lbnQoJ2J1dHRvbicpOwogIGlucHV0RWxlbWVudC5wYXJlbnRFbGVtZW50LmFwcGVuZENoaWxkKGNhbmNlbCk7CiAgY2FuY2VsLnRleHRDb250ZW50ID0gJ0NhbmNlbCB1cGxvYWQnOwogIGNvbnN0IGNhbmNlbFByb21pc2UgPSBuZXcgUHJvbWlzZSgocmVzb2x2ZSkgPT4gewogICAgY2FuY2VsLm9uY2xpY2sgPSAoKSA9PiB7CiAgICAgIHJlc29sdmUobnVsbCk7CiAgICB9OwogIH0pOwoKICAvLyBXYWl0IGZvciB0aGUgdXNlciB0byBwaWNrIHRoZSBmaWxlcy4KICBjb25zdCBmaWxlcyA9IHlpZWxkIHsKICAgIHByb21pc2U6IFByb21pc2UucmFjZShbcGlja2VkUHJvbWlzZSwgY2FuY2VsUHJvbWlzZV0pLAogICAgcmVzcG9uc2U6IHsKICAgICAgYWN0aW9uOiAnc3RhcnRpbmcnLAogICAgfQogIH07CgogIGNhbmNlbC5yZW1vdmUoKTsKCiAgLy8gRGlzYWJsZSB0aGUgaW5wdXQgZWxlbWVudCBzaW5jZSBmdXJ0aGVyIHBpY2tzIGFyZSBub3QgYWxsb3dlZC4KICBpbnB1dEVsZW1lbnQuZGlzYWJsZWQgPSB0cnVlOwoKICBpZiAoIWZpbGVzKSB7CiAgICByZXR1cm4gewogICAgICByZXNwb25zZTogewogICAgICAgIGFjdGlvbjogJ2NvbXBsZXRlJywKICAgICAgfQogICAgfTsKICB9CgogIGZvciAoY29uc3QgZmlsZSBvZiBmaWxlcykgewogICAgY29uc3QgbGkgPSBkb2N1bWVudC5jcmVhdGVFbGVtZW50KCdsaScpOwogICAgbGkuYXBwZW5kKHNwYW4oZmlsZS5uYW1lLCB7Zm9udFdlaWdodDogJ2JvbGQnfSkpOwogICAgbGkuYXBwZW5kKHNwYW4oCiAgICAgICAgYCgke2ZpbGUudHlwZSB8fCAnbi9hJ30pIC0gJHtmaWxlLnNpemV9IGJ5dGVzLCBgICsKICAgICAgICBgbGFzdCBtb2RpZmllZDogJHsKICAgICAgICAgICAgZmlsZS5sYXN0TW9kaWZpZWREYXRlID8gZmlsZS5sYXN0TW9kaWZpZWREYXRlLnRvTG9jYWxlRGF0ZVN0cmluZygpIDoKICAgICAgICAgICAgICAgICAgICAgICAgICAgICAgICAgICAgJ24vYSd9IC0gYCkpOwogICAgY29uc3QgcGVyY2VudCA9IHNwYW4oJzAlIGRvbmUnKTsKICAgIGxpLmFwcGVuZENoaWxkKHBlcmNlbnQpOwoKICAgIG91dHB1dEVsZW1lbnQuYXBwZW5kQ2hpbGQobGkpOwoKICAgIGNvbnN0IGZpbGVEYXRhUHJvbWlzZSA9IG5ldyBQcm9taXNlKChyZXNvbHZlKSA9PiB7CiAgICAgIGNvbnN0IHJlYWRlciA9IG5ldyBGaWxlUmVhZGVyKCk7CiAgICAgIHJlYWRlci5vbmxvYWQgPSAoZSkgPT4gewogICAgICAgIHJlc29sdmUoZS50YXJnZXQucmVzdWx0KTsKICAgICAgfTsKICAgICAgcmVhZGVyLnJlYWRBc0FycmF5QnVmZmVyKGZpbGUpOwogICAgfSk7CiAgICAvLyBXYWl0IGZvciB0aGUgZGF0YSB0byBiZSByZWFkeS4KICAgIGxldCBmaWxlRGF0YSA9IHlpZWxkIHsKICAgICAgcHJvbWlzZTogZmlsZURhdGFQcm9taXNlLAogICAgICByZXNwb25zZTogewogICAgICAgIGFjdGlvbjogJ2NvbnRpbnVlJywKICAgICAgfQogICAgfTsKCiAgICAvLyBVc2UgYSBjaHVua2VkIHNlbmRpbmcgdG8gYXZvaWQgbWVzc2FnZSBzaXplIGxpbWl0cy4gU2VlIGIvNjIxMTU2NjAuCiAgICBsZXQgcG9zaXRpb24gPSAwOwogICAgZG8gewogICAgICBjb25zdCBsZW5ndGggPSBNYXRoLm1pbihmaWxlRGF0YS5ieXRlTGVuZ3RoIC0gcG9zaXRpb24sIE1BWF9QQVlMT0FEX1NJWkUpOwogICAgICBjb25zdCBjaHVuayA9IG5ldyBVaW50OEFycmF5KGZpbGVEYXRhLCBwb3NpdGlvbiwgbGVuZ3RoKTsKICAgICAgcG9zaXRpb24gKz0gbGVuZ3RoOwoKICAgICAgY29uc3QgYmFzZTY0ID0gYnRvYShTdHJpbmcuZnJvbUNoYXJDb2RlLmFwcGx5KG51bGwsIGNodW5rKSk7CiAgICAgIHlpZWxkIHsKICAgICAgICByZXNwb25zZTogewogICAgICAgICAgYWN0aW9uOiAnYXBwZW5kJywKICAgICAgICAgIGZpbGU6IGZpbGUubmFtZSwKICAgICAgICAgIGRhdGE6IGJhc2U2NCwKICAgICAgICB9LAogICAgICB9OwoKICAgICAgbGV0IHBlcmNlbnREb25lID0gZmlsZURhdGEuYnl0ZUxlbmd0aCA9PT0gMCA/CiAgICAgICAgICAxMDAgOgogICAgICAgICAgTWF0aC5yb3VuZCgocG9zaXRpb24gLyBmaWxlRGF0YS5ieXRlTGVuZ3RoKSAqIDEwMCk7CiAgICAgIHBlcmNlbnQudGV4dENvbnRlbnQgPSBgJHtwZXJjZW50RG9uZX0lIGRvbmVgOwoKICAgIH0gd2hpbGUgKHBvc2l0aW9uIDwgZmlsZURhdGEuYnl0ZUxlbmd0aCk7CiAgfQoKICAvLyBBbGwgZG9uZS4KICB5aWVsZCB7CiAgICByZXNwb25zZTogewogICAgICBhY3Rpb246ICdjb21wbGV0ZScsCiAgICB9CiAgfTsKfQoKc2NvcGUuZ29vZ2xlID0gc2NvcGUuZ29vZ2xlIHx8IHt9OwpzY29wZS5nb29nbGUuY29sYWIgPSBzY29wZS5nb29nbGUuY29sYWIgfHwge307CnNjb3BlLmdvb2dsZS5jb2xhYi5fZmlsZXMgPSB7CiAgX3VwbG9hZEZpbGVzLAogIF91cGxvYWRGaWxlc0NvbnRpbnVlLAp9Owp9KShzZWxmKTsK",
       "headers": [
        [
         "content-type",
         "application/javascript"
        ]
       ],
       "ok": true,
       "status": 200,
       "status_text": ""
      }
     }
    },
    "id": "sIFlFONCE5jy",
    "outputId": "60b989d9-5e1e-4a0b-edb9-a9e55bb8ae15"
   },
   "outputs": [
    {
     "data": {
      "text/html": [
       "\n",
       "     <input type=\"file\" id=\"files-a57395a8-7e86-4a05-bc8b-7802d925e6f0\" name=\"files[]\" multiple disabled\n",
       "        style=\"border:none\" />\n",
       "     <output id=\"result-a57395a8-7e86-4a05-bc8b-7802d925e6f0\">\n",
       "      Upload widget is only available when the cell has been executed in the\n",
       "      current browser session. Please rerun this cell to enable.\n",
       "      </output>\n",
       "      <script src=\"/nbextensions/google.colab/files.js\"></script> "
      ],
      "text/plain": [
       "<IPython.core.display.HTML object>"
      ]
     },
     "metadata": {},
     "output_type": "display_data"
    },
    {
     "name": "stdout",
     "output_type": "stream",
     "text": [
      "Saving data.npy to data.npy\n"
     ]
    }
   ],
   "source": [
    "# Only use this code block if you are using Google Colab.\n",
    "# If you are using Jupyter Notebook, please ignore this code block. You can directly upload the file to your Jupyter Notebook file systems.\n",
    "#from google.colab import files\n",
    "\n",
    "## It will prompt you to select a local file. Click on “Choose Files” then select and upload the file. \n",
    "## Wait for the file to be 100% uploaded. You should see the name of the file once Colab has uploaded it.\n",
    "#uploaded = files.upload()"
   ]
  },
  {
   "cell_type": "code",
   "execution_count": 15,
   "metadata": {
    "id": "0FdlBb0XFr4y"
   },
   "outputs": [],
   "source": [
    "data_load = np.load('./data.npy', allow_pickle = True)"
   ]
  },
  {
   "cell_type": "code",
   "execution_count": 36,
   "metadata": {
    "id": "zZjU0ctRFqlJ"
   },
   "outputs": [],
   "source": [
    "x_train = data_load.item().get(\"Xtrain\")\n",
    "y_train = data_load.item().get(\"Ytrain\")\n",
    "x_test = data_load.item().get(\"Xtest\")\n",
    "y_test =data_load.item().get(\"Ytest\")\n",
    "x_all = np.linspace(-5,5,101).reshape(-1,1)\n",
    "\n",
    "lrp = LinearRegression()"
   ]
  },
  {
   "cell_type": "code",
   "execution_count": 37,
   "metadata": {},
   "outputs": [
    {
     "name": "stdout",
     "output_type": "stream",
     "text": [
      "320.06408346977855\n"
     ]
    }
   ],
   "source": [
    "poly_2 = PolynomialFeatures(degree=2)\n",
    "x_train_poly2 = poly_2.fit_transform(x_train.reshape(-1,1))\n",
    "x_test_poly2 = poly_2.transform(x_test.reshape(-1,1))\n",
    "lrp.fit(x_train_poly2, y_train)\n",
    "y_pred = lrp.predict(x_test_poly2)\n",
    "print(mean_squared_error(y_test, y_pred))"
   ]
  },
  {
   "cell_type": "code",
   "execution_count": 38,
   "metadata": {},
   "outputs": [
    {
     "name": "stdout",
     "output_type": "stream",
     "text": [
      "31.292082886606693\n"
     ]
    }
   ],
   "source": [
    "poly_4 = PolynomialFeatures(degree=4)\n",
    "x_train_poly4 = poly_4.fit_transform(x_train.reshape(-1,1))\n",
    "x_test_poly4 = poly_4.transform(x_test.reshape(-1,1))\n",
    "lrp.fit(x_train_poly4, y_train)\n",
    "y_pred = lrp.predict(x_test_poly4)\n",
    "print(mean_squared_error(y_test, y_pred))"
   ]
  },
  {
   "cell_type": "code",
   "execution_count": 39,
   "metadata": {},
   "outputs": [
    {
     "name": "stdout",
     "output_type": "stream",
     "text": [
      "33.41069407769065\n"
     ]
    }
   ],
   "source": [
    "poly_7 = PolynomialFeatures(degree=7)\n",
    "x_train_poly7 = poly_7.fit_transform(x_train.reshape(-1,1))\n",
    "x_test_poly7 = poly_7.transform(x_test.reshape(-1,1))\n",
    "lrp.fit(x_train_poly7, y_train)\n",
    "y_pred = lrp.predict(x_test_poly7)\n",
    "print(mean_squared_error(y_test, y_pred))"
   ]
  },
  {
   "cell_type": "code",
   "execution_count": 138,
   "metadata": {},
   "outputs": [
    {
     "ename": "ValueError",
     "evalue": "Found input variables with inconsistent numbers of samples: [30, 100]",
     "output_type": "error",
     "traceback": [
      "\u001b[1;31m---------------------------------------------------------------------------\u001b[0m",
      "\u001b[1;31mValueError\u001b[0m                                Traceback (most recent call last)",
      "Input \u001b[1;32mIn [138]\u001b[0m, in \u001b[0;36m<cell line: 6>\u001b[1;34m()\u001b[0m\n\u001b[0;32m      4\u001b[0m lrp\u001b[38;5;241m.\u001b[39mfit(x_train_poly2, y_train)\n\u001b[0;32m      5\u001b[0m y_pred \u001b[38;5;241m=\u001b[39m lrp\u001b[38;5;241m.\u001b[39mpredict(x_test_poly2)\n\u001b[1;32m----> 6\u001b[0m \u001b[38;5;28mprint\u001b[39m(\u001b[43mmean_squared_error\u001b[49m\u001b[43m(\u001b[49m\u001b[43my_test\u001b[49m\u001b[43m,\u001b[49m\u001b[43m \u001b[49m\u001b[43my_pred\u001b[49m\u001b[43m)\u001b[49m)\n\u001b[0;32m      7\u001b[0m X_all_poly2 \u001b[38;5;241m=\u001b[39m poly_2\u001b[38;5;241m.\u001b[39mtransform(x_all)\n\u001b[0;32m      8\u001b[0m y_all \u001b[38;5;241m=\u001b[39m lrp\u001b[38;5;241m.\u001b[39mpredict(X_all_poly2)\n",
      "File \u001b[1;32m~\\anaconda3\\lib\\site-packages\\sklearn\\metrics\\_regression.py:442\u001b[0m, in \u001b[0;36mmean_squared_error\u001b[1;34m(y_true, y_pred, sample_weight, multioutput, squared)\u001b[0m\n\u001b[0;32m    382\u001b[0m \u001b[38;5;28;01mdef\u001b[39;00m \u001b[38;5;21mmean_squared_error\u001b[39m(\n\u001b[0;32m    383\u001b[0m     y_true, y_pred, \u001b[38;5;241m*\u001b[39m, sample_weight\u001b[38;5;241m=\u001b[39m\u001b[38;5;28;01mNone\u001b[39;00m, multioutput\u001b[38;5;241m=\u001b[39m\u001b[38;5;124m\"\u001b[39m\u001b[38;5;124muniform_average\u001b[39m\u001b[38;5;124m\"\u001b[39m, squared\u001b[38;5;241m=\u001b[39m\u001b[38;5;28;01mTrue\u001b[39;00m\n\u001b[0;32m    384\u001b[0m ):\n\u001b[0;32m    385\u001b[0m     \u001b[38;5;124;03m\"\"\"Mean squared error regression loss.\u001b[39;00m\n\u001b[0;32m    386\u001b[0m \n\u001b[0;32m    387\u001b[0m \u001b[38;5;124;03m    Read more in the :ref:`User Guide <mean_squared_error>`.\u001b[39;00m\n\u001b[1;32m   (...)\u001b[0m\n\u001b[0;32m    440\u001b[0m \u001b[38;5;124;03m    0.825...\u001b[39;00m\n\u001b[0;32m    441\u001b[0m \u001b[38;5;124;03m    \"\"\"\u001b[39;00m\n\u001b[1;32m--> 442\u001b[0m     y_type, y_true, y_pred, multioutput \u001b[38;5;241m=\u001b[39m \u001b[43m_check_reg_targets\u001b[49m\u001b[43m(\u001b[49m\n\u001b[0;32m    443\u001b[0m \u001b[43m        \u001b[49m\u001b[43my_true\u001b[49m\u001b[43m,\u001b[49m\u001b[43m \u001b[49m\u001b[43my_pred\u001b[49m\u001b[43m,\u001b[49m\u001b[43m \u001b[49m\u001b[43mmultioutput\u001b[49m\n\u001b[0;32m    444\u001b[0m \u001b[43m    \u001b[49m\u001b[43m)\u001b[49m\n\u001b[0;32m    445\u001b[0m     check_consistent_length(y_true, y_pred, sample_weight)\n\u001b[0;32m    446\u001b[0m     output_errors \u001b[38;5;241m=\u001b[39m np\u001b[38;5;241m.\u001b[39maverage((y_true \u001b[38;5;241m-\u001b[39m y_pred) \u001b[38;5;241m*\u001b[39m\u001b[38;5;241m*\u001b[39m \u001b[38;5;241m2\u001b[39m, axis\u001b[38;5;241m=\u001b[39m\u001b[38;5;241m0\u001b[39m, weights\u001b[38;5;241m=\u001b[39msample_weight)\n",
      "File \u001b[1;32m~\\anaconda3\\lib\\site-packages\\sklearn\\metrics\\_regression.py:100\u001b[0m, in \u001b[0;36m_check_reg_targets\u001b[1;34m(y_true, y_pred, multioutput, dtype)\u001b[0m\n\u001b[0;32m     66\u001b[0m \u001b[38;5;28;01mdef\u001b[39;00m \u001b[38;5;21m_check_reg_targets\u001b[39m(y_true, y_pred, multioutput, dtype\u001b[38;5;241m=\u001b[39m\u001b[38;5;124m\"\u001b[39m\u001b[38;5;124mnumeric\u001b[39m\u001b[38;5;124m\"\u001b[39m):\n\u001b[0;32m     67\u001b[0m     \u001b[38;5;124;03m\"\"\"Check that y_true and y_pred belong to the same regression task.\u001b[39;00m\n\u001b[0;32m     68\u001b[0m \n\u001b[0;32m     69\u001b[0m \u001b[38;5;124;03m    Parameters\u001b[39;00m\n\u001b[1;32m   (...)\u001b[0m\n\u001b[0;32m     98\u001b[0m \u001b[38;5;124;03m        correct keyword.\u001b[39;00m\n\u001b[0;32m     99\u001b[0m \u001b[38;5;124;03m    \"\"\"\u001b[39;00m\n\u001b[1;32m--> 100\u001b[0m     \u001b[43mcheck_consistent_length\u001b[49m\u001b[43m(\u001b[49m\u001b[43my_true\u001b[49m\u001b[43m,\u001b[49m\u001b[43m \u001b[49m\u001b[43my_pred\u001b[49m\u001b[43m)\u001b[49m\n\u001b[0;32m    101\u001b[0m     y_true \u001b[38;5;241m=\u001b[39m check_array(y_true, ensure_2d\u001b[38;5;241m=\u001b[39m\u001b[38;5;28;01mFalse\u001b[39;00m, dtype\u001b[38;5;241m=\u001b[39mdtype)\n\u001b[0;32m    102\u001b[0m     y_pred \u001b[38;5;241m=\u001b[39m check_array(y_pred, ensure_2d\u001b[38;5;241m=\u001b[39m\u001b[38;5;28;01mFalse\u001b[39;00m, dtype\u001b[38;5;241m=\u001b[39mdtype)\n",
      "File \u001b[1;32m~\\anaconda3\\lib\\site-packages\\sklearn\\utils\\validation.py:387\u001b[0m, in \u001b[0;36mcheck_consistent_length\u001b[1;34m(*arrays)\u001b[0m\n\u001b[0;32m    385\u001b[0m uniques \u001b[38;5;241m=\u001b[39m np\u001b[38;5;241m.\u001b[39munique(lengths)\n\u001b[0;32m    386\u001b[0m \u001b[38;5;28;01mif\u001b[39;00m \u001b[38;5;28mlen\u001b[39m(uniques) \u001b[38;5;241m>\u001b[39m \u001b[38;5;241m1\u001b[39m:\n\u001b[1;32m--> 387\u001b[0m     \u001b[38;5;28;01mraise\u001b[39;00m \u001b[38;5;167;01mValueError\u001b[39;00m(\n\u001b[0;32m    388\u001b[0m         \u001b[38;5;124m\"\u001b[39m\u001b[38;5;124mFound input variables with inconsistent numbers of samples: \u001b[39m\u001b[38;5;132;01m%r\u001b[39;00m\u001b[38;5;124m\"\u001b[39m\n\u001b[0;32m    389\u001b[0m         \u001b[38;5;241m%\u001b[39m [\u001b[38;5;28mint\u001b[39m(l) \u001b[38;5;28;01mfor\u001b[39;00m l \u001b[38;5;129;01min\u001b[39;00m lengths]\n\u001b[0;32m    390\u001b[0m     )\n",
      "\u001b[1;31mValueError\u001b[0m: Found input variables with inconsistent numbers of samples: [30, 100]"
     ]
    }
   ],
   "source": [
    "poly_2 = PolynomialFeatures(degree=2)\n",
    "x_train_poly2 = np.vander(np.squeeze(x_train), 2+1)\n",
    "x_test_poly2 = np.vander(np.squeeze(x_train), 2+1)\n",
    "lrp.fit(x_train_poly2, y_train)\n",
    "y_pred = lrp.predict(x_test_poly2)\n",
    "print(mean_squared_error(y_test, y_pred))\n",
    "X_all_poly2 = poly_2.transform(x_all)\n",
    "y_all = lrp.predict(X_all_poly2)\n",
    "plt.plot(x_all, y_all, \"r-\", linewidth=2, label=\"Predictions\")\n",
    "plt.plot(x_train, y_train, \"b.\",label='Training points')\n",
    "plt.plot(x_test, y_test, \"g.\",label='Testing points')\n",
    "plt.xlabel(\"X\")\n",
    "plt.ylabel(\"y\")\n",
    "plt.legend()\n",
    "plt.show()"
   ]
  },
  {
   "cell_type": "code",
   "execution_count": 41,
   "metadata": {},
   "outputs": [
    {
     "name": "stdout",
     "output_type": "stream",
     "text": [
      "31.292082886606693\n"
     ]
    },
    {
     "data": {
      "image/png": "[encoded data removed]",
      "text/plain": [
       "<Figure size 432x288 with 1 Axes>"
      ]
     },
     "metadata": {
      "needs_background": "light"
     },
     "output_type": "display_data"
    }
   ],
   "source": [
    "poly_4 = PolynomialFeatures(degree=4)\n",
    "x_train_poly4 = poly_4.fit_transform(x_train.reshape(-1,1))\n",
    "x_test_poly4 = poly_4.transform(x_test.reshape(-1,1))\n",
    "lrp.fit(x_train_poly4, y_train)\n",
    "\n",
    "y_pred = lrp.predict(x_test_poly4)\n",
    "print(mean_squared_error(y_test, y_pred))\n",
    "X_all_poly4 = poly_4.transform(x_all)\n",
    "y_all = lrp.predict(X_all_poly4)\n",
    "plt.plot(x_all, y_all, \"r-\", linewidth=2, label=\"Predictions\")\n",
    "plt.plot(x_train, y_train, \"b.\",label='Training points')\n",
    "plt.plot(x_test, y_test, \"g.\",label='Testing points')\n",
    "plt.xlabel(\"X\")\n",
    "plt.ylabel(\"y\")\n",
    "plt.legend()\n",
    "plt.show()"
   ]
  },
  {
   "cell_type": "code",
   "execution_count": 42,
   "metadata": {},
   "outputs": [
    {
     "name": "stdout",
     "output_type": "stream",
     "text": [
      "33.41069407769065\n"
     ]
    },
    {
     "data": {
      "image/png": "[encoded data removed]",
      "text/plain": [
       "<Figure size 432x288 with 1 Axes>"
      ]
     },
     "metadata": {
      "needs_background": "light"
     },
     "output_type": "display_data"
    }
   ],
   "source": [
    "poly_7 = PolynomialFeatures(degree=7)\n",
    "x_train_poly7 = poly_7.fit_transform(x_train.reshape(-1,1))\n",
    "x_test_poly7 = poly_7.transform(x_test.reshape(-1,1))\n",
    "lrp.fit(x_train_poly7, y_train)\n",
    "y_pred = lrp.predict(x_test_poly7)\n",
    "print(mean_squared_error(y_test, y_pred))\n",
    "X_all_poly7 = poly_7.transform(x_all)\n",
    "y_all = lrp.predict(X_all_poly7)\n",
    "plt.plot(x_all, y_all, \"r-\", linewidth=2, label=\"Predictions\")\n",
    "plt.plot(x_train, y_train, \"b.\",label='Training points')\n",
    "plt.plot(x_test, y_test, \"g.\",label='Testing points')\n",
    "plt.xlabel(\"X\")\n",
    "plt.ylabel(\"y\")\n",
    "plt.legend()\n",
    "plt.show()"
   ]
  },
  {
   "cell_type": "code",
   "execution_count": 47,
   "metadata": {},
   "outputs": [
    {
     "data": {
      "text/plain": [
       "array([[ 1.00000000e+00, -3.50387597e+00,  1.22771468e+01,\n",
       "        -4.30175997e+01,  1.50728334e+02],\n",
       "       [ 1.00000000e+00, -3.41085271e-01,  1.16339162e-01,\n",
       "        -3.96815747e-02,  1.35348007e-02],\n",
       "       [ 1.00000000e+00,  1.70542636e+00,  2.90847906e+00,\n",
       "         4.96019684e+00,  8.45925043e+00],\n",
       "       [ 1.00000000e+00,  2.44961240e+00,  6.00060093e+00,\n",
       "         1.46991465e+01,  3.60072115e+01],\n",
       "       [ 1.00000000e+00,  2.01550388e+00,  4.06225587e+00,\n",
       "         8.18749246e+00,  1.65019228e+01],\n",
       "       [ 1.00000000e+00, -2.13953488e+00,  4.57760952e+00,\n",
       "        -9.79395525e+00,  2.09545089e+01],\n",
       "       [ 1.00000000e+00, -1.27131783e+00,  1.61624902e+00,\n",
       "        -2.05476620e+00,  2.61226091e+00],\n",
       "       [ 1.00000000e+00, -1.95348837e+00,  3.81611682e+00,\n",
       "        -7.45473983e+00,  1.45627476e+01],\n",
       "       [ 1.00000000e+00, -9.30232558e-02,  8.65332612e-03,\n",
       "        -8.04960570e-04,  7.48800530e-05],\n",
       "       [ 1.00000000e+00, -2.38759690e+00,  5.70061895e+00,\n",
       "        -1.36107801e+01,  3.24970564e+01],\n",
       "       [ 1.00000000e+00,  5.27131783e-01,  2.77867917e-01,\n",
       "         1.46473010e-01,  7.72105791e-02],\n",
       "       [ 1.00000000e+00, -3.56589147e+00,  1.27155820e+01,\n",
       "        -4.53423854e+01,  1.61686026e+02],\n",
       "       [ 1.00000000e+00, -2.63565891e+00,  6.94669791e+00,\n",
       "        -1.83091263e+01,  4.82566119e+01],\n",
       "       [ 1.00000000e+00,  2.51162791e+00,  6.30827474e+00,\n",
       "         1.58440389e+01,  3.97943302e+01],\n",
       "       [ 1.00000000e+00, -3.37984496e+00,  1.14233520e+01,\n",
       "        -3.86091586e+01,  1.30492970e+02],\n",
       "       [ 1.00000000e+00, -1.02325581e+00,  1.04705246e+00,\n",
       "        -1.07140252e+00,  1.09631886e+00],\n",
       "       [ 1.00000000e+00,  3.75193798e+00,  1.40770386e+01,\n",
       "         5.28161760e+01,  1.98163017e+02],\n",
       "       [ 1.00000000e+00,  1.58139535e+00,  2.50081125e+00,\n",
       "         3.95477128e+00,  6.25405690e+00],\n",
       "       [ 1.00000000e+00, -3.87596899e+00,  1.50231356e+01,\n",
       "        -5.82292079e+01,  2.25694604e+02],\n",
       "       [ 1.00000000e+00,  1.76744186e+00,  3.12385073e+00,\n",
       "         5.52122455e+00,  9.75844338e+00],\n",
       "       [ 1.00000000e+00, -7.75193798e-01,  6.00925425e-01,\n",
       "        -4.65833663e-01,  3.61111367e-01],\n",
       "       [ 1.00000000e+00,  1.95348837e+00,  3.81611682e+00,\n",
       "         7.45473983e+00,  1.45627476e+01],\n",
       "       [ 1.00000000e+00, -2.51162791e+00,  6.30827474e+00,\n",
       "        -1.58440389e+01,  3.97943302e+01],\n",
       "       [ 1.00000000e+00, -8.37209302e-01,  7.00919416e-01,\n",
       "        -5.86816255e-01,  4.91288028e-01],\n",
       "       [ 1.00000000e+00, -8.99224806e-01,  8.08605252e-01,\n",
       "        -7.27117901e-01,  6.53842454e-01],\n",
       "       [ 1.00000000e+00, -1.51937984e+00,  2.30851511e+00,\n",
       "        -3.50751133e+00,  5.32924203e+00],\n",
       "       [ 1.00000000e+00,  3.50387597e+00,  1.22771468e+01,\n",
       "         4.30175997e+01,  1.50728334e+02],\n",
       "       [ 1.00000000e+00,  2.17054264e-01,  4.71125533e-02,\n",
       "         1.02259806e-02,  2.21959268e-03],\n",
       "       [ 1.00000000e+00,  9.30232558e-02,  8.65332612e-03,\n",
       "         8.04960570e-04,  7.48800530e-05],\n",
       "       [ 1.00000000e+00, -3.00775194e+00,  9.04657172e+00,\n",
       "        -2.72098436e+01,  8.18404599e+01],\n",
       "       [ 1.00000000e+00, -1.55038760e-01,  2.40370170e-02,\n",
       "        -3.72666930e-03,  5.77778187e-04],\n",
       "       [ 1.00000000e+00,  3.44186047e+00,  1.18464035e+01,\n",
       "         4.07736677e+01,  1.40337275e+02],\n",
       "       [ 1.00000000e+00, -3.19379845e+00,  1.02003485e+01,\n",
       "        -3.25778573e+01,  1.04047110e+02],\n",
       "       [ 1.00000000e+00,  7.13178295e-01,  5.08623280e-01,\n",
       "         3.62739083e-01,  2.58697641e-01],\n",
       "       [ 1.00000000e+00,  8.37209302e-01,  7.00919416e-01,\n",
       "         5.86816255e-01,  4.91288028e-01],\n",
       "       [ 1.00000000e+00, -1.20930233e+00,  1.46241211e+00,\n",
       "        -1.76849837e+00,  2.13864919e+00],\n",
       "       [ 1.00000000e+00, -3.06976744e+00,  9.42347215e+00,\n",
       "        -2.89278680e+01,  8.88018273e+01],\n",
       "       [ 1.00000000e+00,  1.64341085e+00,  2.70079923e+00,\n",
       "         4.43852277e+00,  7.29431649e+00],\n",
       "       [ 1.00000000e+00,  3.19379845e+00,  1.02003485e+01,\n",
       "         3.25778573e+01,  1.04047110e+02],\n",
       "       [ 1.00000000e+00,  1.89147287e+00,  3.57766961e+00,\n",
       "         6.76706500e+00,  1.27997198e+01],\n",
       "       [ 1.00000000e+00, -3.81395349e+00,  1.45462412e+01,\n",
       "        -5.54786874e+01,  2.11593133e+02],\n",
       "       [ 1.00000000e+00, -1.33333333e+00,  1.77777778e+00,\n",
       "        -2.37037037e+00,  3.16049383e+00],\n",
       "       [ 1.00000000e+00, -3.62790698e+00,  1.31617090e+01,\n",
       "        -4.77494560e+01,  1.73230585e+02],\n",
       "       [ 1.00000000e+00,  1.20930233e+00,  1.46241211e+00,\n",
       "         1.76849837e+00,  2.13864919e+00],\n",
       "       [ 1.00000000e+00, -6.51162791e-01,  4.24012980e-01,\n",
       "        -2.76101475e-01,  1.79787007e-01],\n",
       "       [ 1.00000000e+00,  2.13953488e+00,  4.57760952e+00,\n",
       "         9.79395525e+00,  2.09545089e+01],\n",
       "       [ 1.00000000e+00,  1.82945736e+00,  3.34691425e+00,\n",
       "         6.12303692e+00,  1.12018350e+01],\n",
       "       [ 1.00000000e+00,  3.00775194e+00,  9.04657172e+00,\n",
       "         2.72098436e+01,  8.18404599e+01],\n",
       "       [ 1.00000000e+00, -2.17054264e-01,  4.71125533e-02,\n",
       "        -1.02259806e-02,  2.21959268e-03],\n",
       "       [ 1.00000000e+00,  2.69767442e+00,  7.27744727e+00,\n",
       "         1.96321833e+01,  5.29612388e+01],\n",
       "       [ 1.00000000e+00,  4.03100775e-01,  1.62490235e-01,\n",
       "         6.54999397e-02,  2.64030765e-02],\n",
       "       [ 1.00000000e+00, -2.32558140e+00,  5.40832883e+00,\n",
       "        -1.25775089e+01,  2.92500207e+01],\n",
       "       [ 1.00000000e+00, -2.88372093e+00,  8.31584640e+00,\n",
       "        -2.39805803e+01,  6.91533014e+01],\n",
       "       [ 1.00000000e+00,  2.63565891e+00,  6.94669791e+00,\n",
       "         1.83091263e+01,  4.82566119e+01],\n",
       "       [ 1.00000000e+00, -3.31782946e+00,  1.10079923e+01,\n",
       "        -3.65226411e+01,  1.21175895e+02],\n",
       "       [ 1.00000000e+00,  3.68992248e+00,  1.36155279e+01,\n",
       "         5.02402425e+01,  1.85382600e+02],\n",
       "       [ 1.00000000e+00,  2.82170543e+00,  7.96202151e+00,\n",
       "         2.24664793e+01,  6.33937866e+01],\n",
       "       [ 1.00000000e+00, -1.45736434e+00,  2.12391082e+00,\n",
       "        -3.09531190e+00,  4.51099718e+00],\n",
       "       [ 1.00000000e+00,  1.33333333e+00,  1.77777778e+00,\n",
       "         2.37037037e+00,  3.16049383e+00],\n",
       "       [ 1.00000000e+00, -2.79069767e-01,  7.78799351e-02,\n",
       "        -2.17339354e-02,  6.06528429e-03],\n",
       "       [ 1.00000000e+00, -3.93798450e+00,  1.55077219e+01,\n",
       "        -6.10691684e+01,  2.40489438e+02],\n",
       "       [ 1.00000000e+00, -5.27131783e-01,  2.77867917e-01,\n",
       "        -1.46473010e-01,  7.72105791e-02],\n",
       "       [ 1.00000000e+00,  2.07751938e+00,  4.31608677e+00,\n",
       "         8.96675392e+00,  1.86286050e+01],\n",
       "       [ 1.00000000e+00,  2.94573643e+00,  8.67736314e+00,\n",
       "         2.55612248e+01,  7.52966311e+01],\n",
       "       [ 1.00000000e+00, -1.39534884e+00,  1.94699838e+00,\n",
       "        -2.71674192e+00,  3.79080268e+00],\n",
       "       [ 1.00000000e+00, -3.75193798e+00,  1.40770386e+01,\n",
       "        -5.28161760e+01,  1.98163017e+02],\n",
       "       [ 1.00000000e+00, -2.94573643e+00,  8.67736314e+00,\n",
       "        -2.55612248e+01,  7.52966311e+01],\n",
       "       [ 1.00000000e+00, -1.64341085e+00,  2.70079923e+00,\n",
       "        -4.43852277e+00,  7.29431649e+00],\n",
       "       [ 1.00000000e+00, -3.68992248e+00,  1.36155279e+01,\n",
       "        -5.02402425e+01,  1.85382600e+02],\n",
       "       [ 1.00000000e+00, -7.13178295e-01,  5.08623280e-01,\n",
       "        -3.62739083e-01,  2.58697641e-01],\n",
       "       [ 1.00000000e+00,  3.31782946e+00,  1.10079923e+01,\n",
       "         3.65226411e+01,  1.21175895e+02],\n",
       "       [ 1.00000000e+00,  2.26356589e+00,  5.12373055e+00,\n",
       "         1.15979017e+01,  2.62526147e+01],\n",
       "       [ 1.00000000e+00, -4.00000000e+00,  1.60000000e+01,\n",
       "        -6.40000000e+01,  2.56000000e+02],\n",
       "       [ 1.00000000e+00, -1.89147287e+00,  3.57766961e+00,\n",
       "        -6.76706500e+00,  1.27997198e+01],\n",
       "       [ 1.00000000e+00, -2.26356589e+00,  5.12373055e+00,\n",
       "        -1.15979017e+01,  2.62526147e+01],\n",
       "       [ 1.00000000e+00, -5.89147287e-01,  3.47094526e-01,\n",
       "        -2.04489798e-01,  1.20474610e-01],\n",
       "       [ 1.00000000e+00,  6.51162791e-01,  4.24012980e-01,\n",
       "         2.76101475e-01,  1.79787007e-01],\n",
       "       [ 1.00000000e+00, -1.82945736e+00,  3.34691425e+00,\n",
       "        -6.12303692e+00,  1.12018350e+01],\n",
       "       [ 1.00000000e+00, -2.57364341e+00,  6.62364041e+00,\n",
       "        -1.70468885e+01,  4.38726122e+01],\n",
       "       [ 1.00000000e+00,  5.89147287e-01,  3.47094526e-01,\n",
       "         2.04489798e-01,  1.20474610e-01],\n",
       "       [ 1.00000000e+00, -2.07751938e+00,  4.31608677e+00,\n",
       "        -8.96675392e+00,  1.86286050e+01],\n",
       "       [ 1.00000000e+00,  1.27131783e+00,  1.61624902e+00,\n",
       "         2.05476620e+00,  2.61226091e+00],\n",
       "       [ 1.00000000e+00, -4.65116279e-01,  2.16333153e-01,\n",
       "        -1.00620071e-01,  4.68000331e-02],\n",
       "       [ 1.00000000e+00,  2.20155039e+00,  4.84682411e+00,\n",
       "         1.06705275e+01,  2.34917039e+01],\n",
       "       [ 1.00000000e+00,  2.88372093e+00,  8.31584640e+00,\n",
       "         2.39805803e+01,  6.91533014e+01],\n",
       "       [ 1.00000000e+00, -2.01550388e+00,  4.06225587e+00,\n",
       "        -8.18749246e+00,  1.65019228e+01],\n",
       "       [ 1.00000000e+00,  2.75968992e+00,  7.61588847e+00,\n",
       "         2.10174907e+01,  5.80017572e+01],\n",
       "       [ 1.00000000e+00, -3.13178295e+00,  9.80806442e+00,\n",
       "        -3.07167289e+01,  9.61981277e+01],\n",
       "       [ 1.00000000e+00,  1.51937984e+00,  2.30851511e+00,\n",
       "         3.50751133e+00,  5.32924203e+00],\n",
       "       [ 1.00000000e+00, -2.82170543e+00,  7.96202151e+00,\n",
       "        -2.24664793e+01,  6.33937866e+01],\n",
       "       [ 1.00000000e+00, -2.20155039e+00,  4.84682411e+00,\n",
       "        -1.06705275e+01,  2.34917039e+01],\n",
       "       [ 1.00000000e+00, -9.61240310e-01,  9.23982934e-01,\n",
       "        -8.88169642e-01,  8.53744462e-01],\n",
       "       [ 1.00000000e+00,  2.57364341e+00,  6.62364041e+00,\n",
       "         1.70468885e+01,  4.38726122e+01],\n",
       "       [ 1.00000000e+00,  1.08527132e+00,  1.17781383e+00,\n",
       "         1.27824757e+00,  1.38724543e+00],\n",
       "       [ 1.00000000e+00,  3.87596899e+00,  1.50231356e+01,\n",
       "         5.82292079e+01,  2.25694604e+02],\n",
       "       [ 1.00000000e+00,  4.00000000e+00,  1.60000000e+01,\n",
       "         6.40000000e+01,  2.56000000e+02],\n",
       "       [ 1.00000000e+00,  8.99224806e-01,  8.08605252e-01,\n",
       "         7.27117901e-01,  6.53842454e-01],\n",
       "       [ 1.00000000e+00,  2.79069767e-01,  7.78799351e-02,\n",
       "         2.17339354e-02,  6.06528429e-03],\n",
       "       [ 1.00000000e+00,  9.61240310e-01,  9.23982934e-01,\n",
       "         8.88169642e-01,  8.53744462e-01],\n",
       "       [ 1.00000000e+00, -2.75968992e+00,  7.61588847e+00,\n",
       "        -2.10174907e+01,  5.80017572e+01]])"
      ]
     },
     "execution_count": 47,
     "metadata": {},
     "output_type": "execute_result"
    }
   ],
   "source": [
    "poly_4.fit_transform(x_train.reshape(-1,1))"
   ]
  },
  {
   "cell_type": "code",
   "execution_count": 12,
   "metadata": {
    "id": "fK6exY2EEznE"
   },
   "outputs": [],
   "source": [
    "def plot_curves(x_train, y_train, x_test, y_test):\n",
    "    # Fit polynomial models of degrees 2, 4, 7 to the training data. \n",
    "    # Print out the mean squared error (on both train and test sets) for all the models. \n",
    "    # Plot the data (y_train vs x_train and y_test vs x_test), the fitted models (predictions on x_all by different models vs x_all), and the predictions on the test set (predictions on x_test by different models vs x_test). \n",
    "    # YOUR CODE COMES HERE\n",
    "    print(\"IMPLEMENT ME!\")\n",
    "    \n",
    "    return [0, 0, 0], [0, 0, 0]"
   ]
  },
  {
   "cell_type": "code",
   "execution_count": null,
   "metadata": {
    "colab": {
     "base_uri": "https://localhost:8080/"
    },
    "id": "jpIPMv85EzpD",
    "outputId": "35c3f97b-52f0-442d-eb83-48f25d494a45"
   },
   "outputs": [
    {
     "name": "stdout",
     "output_type": "stream",
     "text": [
      "IMPLEMENT ME!\n"
     ]
    }
   ],
   "source": [
    "# Fit the different polynomials to the training data and make the plots \n",
    "train_rmses_100, test_rmses_100 = plot_curves(x_train, y_train, x_test, y_test)"
   ]
  },
  {
   "cell_type": "code",
   "execution_count": null,
   "metadata": {
    "id": "f_stUunKFB6j"
   },
   "outputs": [],
   "source": [
    "# Study the effects of the training data size on the bias and variance\n",
    "print(\"20% data\")\n",
    "train_rmses_20, test_rmses_20 = plot_curves(x_train[40:60], y_train[40:60], x_test, y_test)\n",
    "print(\"40% data\")\n",
    "train_rmses_40, test_rmses_40 = plot_curves(x_train[30:70], y_train[30:70], x_test, y_test)\n",
    "print(\"60% data\")\n",
    "train_rmses_60, test_rmses_60 = plot_curves(x_train[20:80], y_train[20:80], x_test, y_test)\n",
    "print(\"80% data\")\n",
    "train_rmses_80, test_rmses_80 = plot_curves(x_train[10:90], y_train[10:90], x_test, y_test)\n",
    "print(\"100% data\")\n",
    "train_rmses_100, test_rmses_100 = plot_curves(x_train, y_train, x_test, y_test)"
   ]
  },
  {
   "cell_type": "markdown",
   "metadata": {
    "id": "S2406vnVGMZE"
   },
   "source": [
    "# Answer : "
   ]
  },
  {
   "cell_type": "markdown",
   "metadata": {
    "id": "8osSuMrKNkbV"
   },
   "source": [
    "# Question 3: Stochastic Gradient Descent Improvements (10 pts)\n",
    "\n",
    "1. (5 pts) Read this [blog](https://medium.com/optimization-algorithms-for-deep-neural-networks/gradient-descent-with-momentum-dce805cd8de8) on medium and describe in your own words how momentum leads to a faster convergence of the loss function. \n",
    "\n",
    "2. (5 pts) Read this [blog](https://sweta-nit.medium.com/batch-mini-batch-and-stochastic-gradient-descent-e9bc4cacd461) on medium and explain in your own words the advantages of Mini-batch Stochastic Gradient Descent. \n"
   ]
  },
  {
   "cell_type": "markdown",
   "metadata": {
    "id": "018FLL7nVvFe"
   },
   "source": [
    "# Answer : \n",
    "1.\n",
    "\n",
    "We use momentum to basically reduce the learning variation perpendicular to the direction of the local optima and accelerate the convergence in the direction of the local optima. \n",
    "In the diagram given in the article the optima is shown to be horizontally to the right of the initial position. If we have a higher learning rate, it causes more number of oscillations in the vertical direction, which is basically inefficient, as the number of iterations toi reach the optima increases.\n",
    "Hence by using exponentially weighted averages, we average out this oscillations in vertical direction towards zero, whereas the derivatives in the horizontal direction are added, thereby converging towards the local optima faster.\n",
    "\n",
    "In this method, we choose momentum hyperparameter along with regularization.\n",
    "In momentum we take the exponentially weighted averages of dW and db, instead of using dW and db independently for each epoch.\n",
    "\n",
    "VdW = β * VdW + (1 — β) * dW\n",
    "\n",
    "Vdb = β * Vdb + (1 — β) *db\n",
    "\n",
    "The momentum (beta) must be higher to smooth out the update because we give more weight to the past gradients. Typically this value is between 0.8 to 0.999, recommended to be kept as 0.9 by default"
   ]
  },
  {
   "cell_type": "markdown",
   "metadata": {},
   "source": [
    "Q3)2. \n",
    "\n",
    "Mini-batch Gradient Descent tries to make the best of both worlds - Batch Gradient Descent and the Stochastic Gradient Descent. In Batch Gradient Descent, the entire training dataset is used calculate the gradient to update the weight in each iteration. Whereas, the Stochastic Gradient Descent uses only one random data point from the training set in each iteration to calculate gradient and update weights. \n",
    "\n",
    "In the Mini-batch method, we only use a few data points in each iteration. For the next iteration, we use the next 'mini-batch' and so on, till we have used the entire training set. This is called one epoch, and we usually perform multiple such epochs with new batches each time, to get to the optimum value.\n",
    "\n",
    "The advantage of using a small batch instead of the entire set is the reduction in computation. If the training set is too large, the computation might be very slow, or even impossible. We could also rum out of memory. However, if the batch is smaller than the entire set by a factor of n, then the computation at each iteration will also reduce to factor of n. The memory requirements are also reduced since we are not passing our entire training set to calculate gradient.\n",
    "\n",
    "On the other hand, if the batch size is 1 (stochastic), we get a noisy path with a lot of noise. This is because in each iteration, we are only approximating the gradient with a single data point. Hence we will see a lot of fluctuations in the cost and a lower accuracy. Using a mini-batch instead will smoothen out the path and will have a better accuracy."
   ]
  },
  {
   "cell_type": "markdown",
   "metadata": {
    "id": "Au9dqqwEERjQ"
   },
   "source": [
    "# Question 4: Stochastic Gradient Descent (30 pts)\n",
    "\n",
    "1.(**10 pts**) Stochastic gradient descent derivation<br>\n",
    "\n",
    "Use stochastic gradient descent to derive the coefficent updates for the 4 coefficients $w_0, w_1, w_2, w_3$ in this model：\n",
    "\n",
    "$$ y = w_0 + w_1e^{-x_1} + w_2 x_1 + w_3x_1x_2 $$ \n",
    "\n",
    "\n",
    "2.(**20 pts**) Stochastic gradient descent coding <br>\n",
    "\n",
    "Code an SGD solution in Python for this non-linear model$$ y = w_0 + w_1e^{-x_1} + w_2x_1 + w_3x_1x_2 $$  The template of the solution class is given. The init function of the class takes as input the learning rate, regularization constant and number of epochs. The fit method must take as input X, y. The predict method takes an X value (optionally, an array of values). \n",
    "\n",
    "a) (**15 pts**) Use the expression derived in part 1 to predict the data given in 'SGD_samples.csv', for 15 epochs, using learning rates: [0, .0001, .001, .01, 0.1, 1, 10, 100] and regularization (ridge regression) constants: [0,10,100]. For the best 2 combinations of learning_rate and regularization for SGD, plot MSE and the $w$ parameters as a function of epoch (for 15 epochs) . \n",
    "\n",
    "b) (**5 pts**) Report the MSE of the two best combinations of learning rate and regularization constant."
   ]
  },
  {
   "cell_type": "code",
   "execution_count": null,
   "metadata": {
    "colab": {
     "base_uri": "https://localhost:8080/",
     "height": 39,
     "resources": {
      "http://localhost:8080/nbextensions/google.colab/files.js": {
       "data": "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",
       "headers": [
        [
         "content-type",
         "application/javascript"
        ]
       ],
       "ok": true,
       "status": 200,
       "status_text": ""
      }
     }
    },
    "id": "9hHHQcoWLY0f",
    "outputId": "42ab84dc-c410-4429-fdd5-900ff7e6e1f7"
   },
   "outputs": [
    {
     "data": {
      "text/html": [
       "\n",
       "     <input type=\"file\" id=\"files-331e88f3-7d1d-4c79-a8de-db6688bc5a87\" name=\"files[]\" multiple disabled\n",
       "        style=\"border:none\" />\n",
       "     <output id=\"result-331e88f3-7d1d-4c79-a8de-db6688bc5a87\">\n",
       "      Upload widget is only available when the cell has been executed in the\n",
       "      current browser session. Please rerun this cell to enable.\n",
       "      </output>\n",
       "      <script src=\"/nbextensions/google.colab/files.js\"></script> "
      ],
      "text/plain": [
       "<IPython.core.display.HTML object>"
      ]
     },
     "metadata": {},
     "output_type": "display_data"
    }
   ],
   "source": [
    "# Only use this code block if you are using Google Colab.\n",
    "# If you are using Jupyter Notebook, please ignore this code block. You can directly upload the file to your Jupyter Notebook file systems.\n",
    "#from google.colab import files\n",
    "\n",
    "## It will prompt you to select a local file. Click on “Choose Files” then select and upload the file. \n",
    "## Wait for the file to be 100% uploaded. You should see the name of the file once Colab has uploaded it.\n",
    "#uploaded = files.upload()"
   ]
  },
  {
   "cell_type": "code",
   "execution_count": 131,
   "metadata": {
    "id": "k6TbikpkLY20"
   },
   "outputs": [],
   "source": [
    "%matplotlib inline\n",
    "import random\n",
    "import numpy as np\n",
    "import matplotlib.pyplot as plt\n",
    "import pandas as pd\n",
    "\n",
    "class Regression:\n",
    "    \n",
    "    def __init__(self, learning_rate, regularization, n_epoch):\n",
    "        self.learning_rate = learning_rate\n",
    "        self.n_epoch = n_epoch\n",
    "        self.regularization = regularization\n",
    "        # initialize whichever variables you would need here\n",
    "        self.coef = np.zeros(4)\n",
    "        \n",
    "        \n",
    "    def sgd(self, gradient):\n",
    "        self.coef = self.coef - gradient*self.learning_rate\n",
    "        # = please put your codes here to update the self.coef using SGD\n",
    "        self.coef[1:] = self.coef[1:] - (self.regularization*self.coef[1:])*self.learning_rate\n",
    "\n",
    "        \n",
    "    def fit(self, X, y, update_rule='sgd', plot=False):\n",
    "        mse = []\n",
    "        coefs = []\n",
    "        X = self.get_features(X)\n",
    "        for epoch in range(self.n_epoch):\n",
    "            gradient = np.array([0.0]*self.coef.shape[0])\n",
    "            for i in range(X.shape[0]):\n",
    "                # Compute error\n",
    "                   #please put your codes here\n",
    "                # Compute gradients\n",
    "                    #please put your codes here\n",
    "                    hypothesis = self.linearPredict(X[i]) # Predicted Y\n",
    "                    error = hypothesis - y[i]\n",
    "                # Update weights\n",
    "                    gradient = error*X[i]\n",
    "                    self.sgd(gradient)\n",
    "            coefs.append(self.coef)\n",
    "            residuals = y - self.linearPredict(X)         \n",
    "            mse.append(np.mean(residuals**2))\n",
    "\n",
    "        self.lowest_mse = mse[-1]\n",
    "        if plot == True:\n",
    "            plt.figure()\n",
    "            plt.plot(range(self.n_epoch),mse)\n",
    "            plt.xlabel('epoch')\n",
    "            plt.ylabel('MSE')\n",
    "            plt.figure()\n",
    "            coefs = np.array(coefs)\n",
    "            plt.plot(range(self.n_epoch),coefs[:,0],label='w0')\n",
    "            plt.plot(range(self.n_epoch),coefs[:,1],label='w1')\n",
    "            plt.plot(range(self.n_epoch),coefs[:,2],label='w2')\n",
    "            plt.plot(range(self.n_epoch),coefs[:,3],label='w3')\n",
    "            plt.legend()\n",
    "            plt.xlabel('epoch')\n",
    "            plt.ylabel('parameter value')\n",
    "\n",
    "    def get_features(self, X):\n",
    "        '''\n",
    "        this output of this function can be used to compute the gradient in `fit`\n",
    "        '''\n",
    "        x = np.zeros((X.shape[0], 4))\n",
    "        x[:,0] = 1\n",
    "        x[:,1] = X[:,0]\n",
    "        x[:,2] = X[:,0]*X[:,1]\n",
    "        x[:,3] = np.exp(-X[:,0])\n",
    "        \n",
    "        return x\n",
    "        \n",
    "    def linearPredict(self, X):  \n",
    "        #compute the dot product of self.coef and X\n",
    "        return np.dot(X,self.coef) #this line is just a placeholder, please delete this line in your code        "
   ]
  },
  {
   "cell_type": "code",
   "execution_count": 132,
   "metadata": {
    "id": "nji0zmtkLY5B"
   },
   "outputs": [],
   "source": [
    "data = pd.read_csv('SGD_samples.csv')\n",
    "X = np.array([data['x1'].values, data['x2'].values]).T\n",
    "y = data['y'].values\n",
    "n_epochs = 15\n",
    "learning_rate = [0.0001, 0.001, 0.01, 0.1, 1, 10, 100]\n",
    "regularization = [0, 10, 100]"
   ]
  },
  {
   "cell_type": "markdown",
   "metadata": {
    "id": "DjX2M1MLERl3"
   },
   "source": [
    "# Answer :"
   ]
  },
  {
   "cell_type": "markdown",
   "metadata": {},
   "source": [
    "<h3>Part 1: derive the coefficent updates for the 4 coefficients</h3>\n",
    "Consider t as target and y as predicted output. The predicted output is given by:\n",
    "\n",
    "$$\n",
    "\\begin{equation}\n",
    "y = w_0 + w_1e^{-x_1}+ w_2x_1+w_3x_1x_2\\\\\n",
    "w^{t+1} = w^t - \\eta \\Delta E\\\\\n",
    "E = (t - y)^2\\\\\n",
    "\\triangledown E= 2(t-y)\\frac{\\partial y}{\\partial w}\\\\\n",
    "\\therefore w^{t+1} = w^t - \\eta (2(t-y)\\frac{\\partial y}{\\partial w})\\\\\n",
    "{w_0}'= w_0 - \\eta (2(t-y)(1))\\\\\n",
    "= w_0 - 2\\eta (t-y)\\\\\n",
    "{w_1}'= w_1 - \\eta (2(t-y)e^{-x_1})\\\\\n",
    "= w_1 - 2\\eta (t-y)e^{-x_1}\\\\\n",
    "{w_2}'= w_2 - \\eta (2(t-y)e^{-x_1})\\\\\n",
    "= w_2 - 2\\eta (t-y)x_1\\\\\n",
    "{w_3}'= w_3 - \\eta (2(t-y)x_1x_2)\\\\\n",
    "= w_3 - 2\\eta (t-y)x_1x_2\\\\\n",
    "\\end{equation}\n",
    "$$\n",
    "\n",
    "These are the coefficient updates for the 4 coefficients in the given model"
   ]
  },
  {
   "cell_type": "code",
   "execution_count": 133,
   "metadata": {
    "id": "Sd-QTw1X7x0n"
   },
   "outputs": [
    {
     "data": {
      "text/html": [
       "<div>\n",
       "<style scoped>\n",
       "    .dataframe tbody tr th:only-of-type {\n",
       "        vertical-align: middle;\n",
       "    }\n",
       "\n",
       "    .dataframe tbody tr th {\n",
       "        vertical-align: top;\n",
       "    }\n",
       "\n",
       "    .dataframe thead th {\n",
       "        text-align: right;\n",
       "    }\n",
       "</style>\n",
       "<table border=\"1\" class=\"dataframe\">\n",
       "  <thead>\n",
       "    <tr style=\"text-align: right;\">\n",
       "      <th></th>\n",
       "      <th>0.0001</th>\n",
       "      <th>0.0010</th>\n",
       "      <th>0.0100</th>\n",
       "      <th>0.1000</th>\n",
       "      <th>1.0000</th>\n",
       "      <th>10.0000</th>\n",
       "      <th>100.0000</th>\n",
       "    </tr>\n",
       "  </thead>\n",
       "  <tbody>\n",
       "    <tr>\n",
       "      <th>0</th>\n",
       "      <td>0.036821</td>\n",
       "      <td>0.030496</td>\n",
       "      <td>0.027391</td>\n",
       "      <td>0.030988</td>\n",
       "      <td>inf</td>\n",
       "      <td>NaN</td>\n",
       "      <td>NaN</td>\n",
       "    </tr>\n",
       "    <tr>\n",
       "      <th>10</th>\n",
       "      <td>0.040382</td>\n",
       "      <td>0.033707</td>\n",
       "      <td>0.033821</td>\n",
       "      <td>0.034648</td>\n",
       "      <td>NaN</td>\n",
       "      <td>NaN</td>\n",
       "      <td>NaN</td>\n",
       "    </tr>\n",
       "    <tr>\n",
       "      <th>100</th>\n",
       "      <td>0.040672</td>\n",
       "      <td>0.033795</td>\n",
       "      <td>0.033805</td>\n",
       "      <td>NaN</td>\n",
       "      <td>NaN</td>\n",
       "      <td>NaN</td>\n",
       "      <td>NaN</td>\n",
       "    </tr>\n",
       "  </tbody>\n",
       "</table>\n",
       "</div>"
      ],
      "text/plain": [
       "     0.0001    0.0010    0.0100    0.1000   1.0000   10.0000  100.0000\n",
       "0    0.036821  0.030496  0.027391  0.030988      inf      NaN      NaN\n",
       "10   0.040382  0.033707  0.033821  0.034648      NaN      NaN      NaN\n",
       "100  0.040672  0.033795  0.033805       NaN      NaN      NaN      NaN"
      ]
     },
     "execution_count": 133,
     "metadata": {},
     "output_type": "execute_result"
    }
   ],
   "source": [
    "mse = pd.DataFrame(columns=learning_rate, index=regularization)\n",
    "for alpha in learning_rate:\n",
    "    for lamda in regularization:\n",
    "        reg = Regression(learning_rate = alpha, regularization= lamda, n_epoch= n_epochs)\n",
    "        reg.fit(X,y, update_rule=\"sgd\", plot= False)\n",
    "        mse[alpha][lamda] = reg.lowest_mse\n",
    "mse"
   ]
  },
  {
   "cell_type": "code",
   "execution_count": 136,
   "metadata": {},
   "outputs": [
    {
     "name": "stdout",
     "output_type": "stream",
     "text": [
      "MSE for SGD with Learning Rate=0.01 and Regularisation=0:  0.02739108757520101\n"
     ]
    },
    {
     "data": {
      "image/png": "[encoded data removed]",
      "text/plain": [
       "<Figure size 432x288 with 1 Axes>"
      ]
     },
     "metadata": {
      "needs_background": "light"
     },
     "output_type": "display_data"
    },
    {
     "data": {
      "image/png": "[encoded data removed]",
      "text/plain": [
       "<Figure size 432x288 with 1 Axes>"
      ]
     },
     "metadata": {
      "needs_background": "light"
     },
     "output_type": "display_data"
    }
   ],
   "source": [
    "#Minimum MSE is obtained for learning rate = 0.01 and regularization = 0\n",
    "reg = Regression(learning_rate = 0.01, regularization= 0, n_epoch= n_epochs)\n",
    "reg.fit(X,y, update_rule=\"sgd\", plot= True)\n",
    "print(\"MSE for SGD with Learning Rate=0.01 and Regularisation=0: \",reg.lowest_mse)"
   ]
  },
  {
   "cell_type": "code",
   "execution_count": 137,
   "metadata": {},
   "outputs": [
    {
     "name": "stdout",
     "output_type": "stream",
     "text": [
      "MSE for SGD with Learning Rate=0.001 and Regularisation=0:  0.030495991520073516\n"
     ]
    },
    {
     "data": {
      "image/png": "[encoded data removed]",
      "text/plain": [
       "<Figure size 432x288 with 1 Axes>"
      ]
     },
     "metadata": {
      "needs_background": "light"
     },
     "output_type": "display_data"
    },
    {
     "data": {
      "image/png": "[encoded data removed]",
      "text/plain": [
       "<Figure size 432x288 with 1 Axes>"
      ]
     },
     "metadata": {
      "needs_background": "light"
     },
     "output_type": "display_data"
    }
   ],
   "source": [
    "#second best MSE is obtained for learning rate = 0.001 and regularization = 0\n",
    "reg = Regression(learning_rate = 0.001, regularization= 0, n_epoch= n_epochs)\n",
    "reg.fit(X,y, update_rule=\"sgd\", plot= True)\n",
    "print(\"MSE for SGD with Learning Rate=0.001 and Regularisation=0: \",reg.lowest_mse)"
   ]
  },
  {
   "cell_type": "markdown",
   "metadata": {},
   "source": [
    "### Part b)"
   ]
  },
  {
   "cell_type": "markdown",
   "metadata": {},
   "source": [
    "Best MSE: \n",
    "\n",
    "    MSE = 0.027391\n",
    "    learning rate = 0.01\n",
    "    regularization parameter = 0\n",
    "    \n",
    "Second best MSE: \n",
    "\n",
    "    MSE = 0.030496\n",
    "    learning rate = 0.001\n",
    "    regularization parameter = 0\n",
    "    "
   ]
  }
 ],
 "metadata": {
  "colab": {
   "collapsed_sections": [
    "8osSuMrKNkbV",
    "018FLL7nVvFe"
   ],
   "provenance": []
  },
  "kernelspec": {
   "display_name": "Python 3 (ipykernel)",
   "language": "python",
   "name": "python3"
  },
  "language_info": {
   "codemirror_mode": {
    "name": "ipython",
    "version": 3
   },
   "file_extension": ".py",
   "mimetype": "text/x-python",
   "name": "python",
   "nbconvert_exporter": "python",
   "pygments_lexer": "ipython3",
   "version": "3.9.12"
  }
 },
 "nbformat": 4,
 "nbformat_minor": 1
}
