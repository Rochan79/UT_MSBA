{
 "cells": [
  {
   "cell_type": "markdown",
   "id": "09a15792",
   "metadata": {},
   "source": [
    "<h2>Problem 1</h2>"
   ]
  },
  {
   "cell_type": "code",
   "execution_count": 1,
   "id": "2c0d003f",
   "metadata": {},
   "outputs": [
    {
     "data": {
      "text/plain": [
       "array([76.38888889, 62.5       , 31.94444444, 79.16666667])"
      ]
     },
     "execution_count": 1,
     "metadata": {},
     "output_type": "execute_result"
    }
   ],
   "source": [
    "import numpy as np\n",
    "\n",
    "A = np.zeros((4,4))\n",
    "A[0,:] = [1,1,1,1]\n",
    "A[1,:] = [0.01,-0.05,-0.05,0.05]\n",
    "A[2,:] = [0.45,-0.55,0,0]\n",
    "A[3,:] = [-0.25,0.75,-0.25,-0.25]\n",
    "\n",
    "b = np.array([250,0,0,0])\n",
    "xyz = np.linalg.solve(A,b)\n",
    "xyz"
   ]
  },
  {
   "cell_type": "markdown",
   "id": "f2e99040",
   "metadata": {},
   "source": [
    "$31.94M is lent in home improvement loans"
   ]
  },
  {
   "cell_type": "markdown",
   "id": "45e3e2da",
   "metadata": {},
   "source": [
    "<h2>Problem 2 part 1</h2>"
   ]
  },
  {
   "cell_type": "code",
   "execution_count": 6,
   "id": "a7479d69",
   "metadata": {},
   "outputs": [
    {
     "data": {
      "text/plain": [
       "array([[ 1., -1.,  0.,  0.,  0.],\n",
       "       [ 1.,  0., -1.,  0.,  0.],\n",
       "       [ 1.,  0.,  0., -1.,  0.],\n",
       "       [ 1.,  0.,  0.,  0., -1.],\n",
       "       [ 0.,  1., -1.,  0.,  0.],\n",
       "       [ 0.,  1.,  0., -1.,  0.],\n",
       "       [ 0.,  1.,  0.,  0., -1.],\n",
       "       [ 0.,  0.,  1., -1.,  0.],\n",
       "       [ 0.,  0.,  1.,  0., -1.],\n",
       "       [ 0.,  0.,  0.,  1., -1.]])"
      ]
     },
     "execution_count": 6,
     "metadata": {},
     "output_type": "execute_result"
    }
   ],
   "source": [
    "X = np.zeros((10,5))\n",
    "X[0,:] = [1,-1,0,0,0]\n",
    "X[1,:] = [1,0,-1,0,0]\n",
    "X[2,:] = [1,0,0,-1,0]\n",
    "X[3,:] = [1,0,0,0,-1]\n",
    "X[4,:] = [0,1,-1,0,0]\n",
    "X[5,:] = [0,1,0,-1,0]\n",
    "X[6,:] = [0,1,0,0,-1]\n",
    "X[7,:] = [0,0,1,-1,0]\n",
    "X[8,:] = [0,0,1,0,-1]\n",
    "X[9,:] = [0,0,0,1,-1]\n",
    "X"
   ]
  },
  {
   "cell_type": "code",
   "execution_count": 15,
   "id": "2f81c90d",
   "metadata": {},
   "outputs": [
    {
     "data": {
      "text/plain": [
       "array([[-45.],\n",
       "       [ -3.],\n",
       "       [-31.],\n",
       "       [-45.],\n",
       "       [ 18.],\n",
       "       [  8.],\n",
       "       [ 20.],\n",
       "       [  2.],\n",
       "       [-27.],\n",
       "       [-38.]])"
      ]
     },
     "execution_count": 15,
     "metadata": {},
     "output_type": "execute_result"
    }
   ],
   "source": [
    "Y = np.zeros((10,1))\n",
    "Y[0,:] = [-45]\n",
    "Y[1,:] = [-3]\n",
    "Y[2,:] = [-31]\n",
    "Y[3,:] = [-45]\n",
    "Y[4,:] = [18]\n",
    "Y[5,:] = [8]\n",
    "Y[6,:] = [20]\n",
    "Y[7,:] = [2]\n",
    "Y[8,:] = [-27]\n",
    "Y[9,:] = [-38]\n",
    "Y"
   ]
  },
  {
   "cell_type": "markdown",
   "id": "5d42a03f",
   "metadata": {},
   "source": [
    "<h2>Part 2</h2>"
   ]
  },
  {
   "cell_type": "code",
   "execution_count": 18,
   "id": "23534ee7",
   "metadata": {},
   "outputs": [
    {
     "data": {
      "text/plain": [
       "array([[ 4., -1., -1., -1., -1.],\n",
       "       [-1.,  4., -1., -1., -1.],\n",
       "       [-1., -1.,  4., -1., -1.],\n",
       "       [-1., -1., -1.,  4., -1.],\n",
       "       [-1., -1., -1., -1.,  4.]])"
      ]
     },
     "execution_count": 18,
     "metadata": {},
     "output_type": "execute_result"
    }
   ],
   "source": [
    "XT = np.transpose(X)\n",
    "M = XT @ X\n",
    "M"
   ]
  },
  {
   "cell_type": "code",
   "execution_count": 20,
   "id": "84447c31",
   "metadata": {},
   "outputs": [
    {
     "data": {
      "text/plain": [
       "array([[-124.],\n",
       "       [  91.],\n",
       "       [ -40.],\n",
       "       [ -17.],\n",
       "       [  90.]])"
      ]
     },
     "execution_count": 20,
     "metadata": {},
     "output_type": "execute_result"
    }
   ],
   "source": [
    "P = XT @ Y\n",
    "P"
   ]
  },
  {
   "cell_type": "markdown",
   "id": "444f7d7a",
   "metadata": {},
   "source": [
    "<h2> Part 3</h2>"
   ]
  },
  {
   "cell_type": "code",
   "execution_count": 24,
   "id": "250a7a9e",
   "metadata": {},
   "outputs": [],
   "source": [
    "MC = M\n",
    "MC[4,:] = [1,1,1,1,1]\n",
    "\n",
    "PC=P\n",
    "PC[4,:] = [0]"
   ]
  },
  {
   "cell_type": "code",
   "execution_count": 26,
   "id": "3054b112",
   "metadata": {},
   "outputs": [
    {
     "data": {
      "text/plain": [
       "array([[ 4., -1., -1., -1., -1.],\n",
       "       [-1.,  4., -1., -1., -1.],\n",
       "       [-1., -1.,  4., -1., -1.],\n",
       "       [-1., -1., -1.,  4., -1.],\n",
       "       [ 1.,  1.,  1.,  1.,  1.]])"
      ]
     },
     "execution_count": 26,
     "metadata": {},
     "output_type": "execute_result"
    }
   ],
   "source": [
    "MC"
   ]
  },
  {
   "cell_type": "code",
   "execution_count": 28,
   "id": "b04e6095",
   "metadata": {},
   "outputs": [
    {
     "data": {
      "text/plain": [
       "array([[-124.],\n",
       "       [  91.],\n",
       "       [ -40.],\n",
       "       [ -17.],\n",
       "       [   0.]])"
      ]
     },
     "execution_count": 28,
     "metadata": {},
     "output_type": "execute_result"
    }
   ],
   "source": [
    "PC"
   ]
  },
  {
   "cell_type": "code",
   "execution_count": 29,
   "id": "44d58be8",
   "metadata": {},
   "outputs": [
    {
     "data": {
      "text/plain": [
       "array([[-24.8],\n",
       "       [ 18.2],\n",
       "       [ -8. ],\n",
       "       [ -3.4],\n",
       "       [ 18. ]])"
      ]
     },
     "execution_count": 29,
     "metadata": {},
     "output_type": "execute_result"
    }
   ],
   "source": [
    "soln = np.linalg.solve(MC,PC)\n",
    "soln"
   ]
  },
  {
   "cell_type": "markdown",
   "id": "86ece4af",
   "metadata": {},
   "source": [
    "<h2>Problem 3</h2>"
   ]
  },
  {
   "cell_type": "code",
   "execution_count": 31,
   "id": "09f4362e",
   "metadata": {},
   "outputs": [
    {
     "data": {
      "text/plain": [
       "1"
      ]
     },
     "execution_count": 31,
     "metadata": {},
     "output_type": "execute_result"
    }
   ],
   "source": [
    "\n",
    "rows=20\n",
    "columns=20\n",
    "A = np.zeros((20,20))\n",
    "for i in range(rows):\n",
    "    for j in range(columns):\n",
    "        if i>j:\n",
    "            A[i][j]=(j+1)/(i+1)\n",
    "        else:\n",
    "            A[i][j]=(i+1)/(j+1)\n",
    "\n",
    "B=A.transpose()\n",
    "\n",
    "def areSame(A,B):\n",
    "\n",
    "    for i in range(rows):\n",
    "        for j in range(columns):\n",
    "            if (A[i][j] != B[i][j]):\n",
    "                return 0\n",
    "    return 1\n",
    "\n",
    "areSame(A,B)\n"
   ]
  },
  {
   "cell_type": "markdown",
   "id": "db635aa0",
   "metadata": {},
   "source": [
    "A is symmetric"
   ]
  },
  {
   "cell_type": "markdown",
   "id": "f65a1c79",
   "metadata": {},
   "source": [
    "<H2>Problem 4</H2>"
   ]
  },
  {
   "cell_type": "code",
   "execution_count": 33,
   "id": "5e81acde",
   "metadata": {},
   "outputs": [],
   "source": [
    "C = np.linalg.inv(A)"
   ]
  },
  {
   "cell_type": "code",
   "execution_count": 35,
   "id": "d84173ac",
   "metadata": {},
   "outputs": [],
   "source": [
    "d=np.array([1,2,3,4,5,6,7,8,9,10,10,9,8,7,6,5,4,3,2,1])"
   ]
  },
  {
   "cell_type": "code",
   "execution_count": 36,
   "id": "6fff398c",
   "metadata": {},
   "outputs": [],
   "source": [
    "E = C @ d"
   ]
  },
  {
   "cell_type": "code",
   "execution_count": 38,
   "id": "5179883b",
   "metadata": {},
   "outputs": [
    {
     "data": {
      "text/plain": [
       "35.813750669769696"
      ]
     },
     "execution_count": 38,
     "metadata": {},
     "output_type": "execute_result"
    }
   ],
   "source": [
    "sol4 = np.linalg.solve(A,E)\n",
    "sol4[10]"
   ]
  },
  {
   "cell_type": "code",
   "execution_count": null,
   "id": "7f3380f8",
   "metadata": {},
   "outputs": [],
   "source": []
  }
 ],
 "metadata": {
  "kernelspec": {
   "display_name": "Python 3 (ipykernel)",
   "language": "python",
   "name": "python3"
  },
  "language_info": {
   "codemirror_mode": {
    "name": "ipython",
    "version": 3
   },
   "file_extension": ".py",
   "mimetype": "text/x-python",
   "name": "python",
   "nbconvert_exporter": "python",
   "pygments_lexer": "ipython3",
   "version": "3.9.12"
  }
 },
 "nbformat": 4,
 "nbformat_minor": 5
}
