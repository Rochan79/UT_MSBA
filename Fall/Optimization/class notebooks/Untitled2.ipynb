{
 "cells": [
  {
   "cell_type": "code",
   "execution_count": 1,
   "id": "d783c8b0",
   "metadata": {},
   "outputs": [],
   "source": [
    "import numpy as np\n",
    "import pandas as pd\n",
    "import gurobipy as gp"
   ]
  },
  {
   "cell_type": "code",
   "execution_count": 13,
   "id": "fbec0607",
   "metadata": {},
   "outputs": [
    {
     "data": {
      "text/plain": [
       "array([ 4.00000000e+00, -2.00000000e+00,  2.98427949e-14,  9.60000000e+01])"
      ]
     },
     "execution_count": 13,
     "metadata": {},
     "output_type": "execute_result"
    }
   ],
   "source": [
    "A = np.array([[0,1,0,2],[2,-3,1,-0.5],[-5,6,0,1],[0,-1,1,0]])\n",
    "B = np.array([190,-34,64,2])\n",
    "x = np.linalg.solve(A,B)\n",
    "x"
   ]
  },
  {
   "cell_type": "code",
   "execution_count": null,
   "id": "3b34f384",
   "metadata": {},
   "outputs": [],
   "source": []
  },
  {
   "cell_type": "code",
   "execution_count": 12,
   "id": "80ae63be",
   "metadata": {},
   "outputs": [
    {
     "name": "stdout",
     "output_type": "stream",
     "text": [
      "Max ROI :  0.45600000000000007\n",
      "\n",
      "print + tv+ seo + AdWords + Facebook + LinkedIN + INstagram + Snap + Twitter + Email:  [3. 0. 0. 1. 3. 3. 0. 0. 0. 0.]\n",
      "-------------------------------------------------------------------------------------------\n"
     ]
    }
   ],
   "source": [
    "obj = np.array([0.049,0.023,0.024,0.039,0.044,0.046,0.026,0.019,0.037,0.026]) # objective vector\n",
    "#0.031*print + 0.049*tv+ 0.024*seo + 0.039*AdWords + 0.016*Facebook + 0.024*LinkedIN + 0.046*INstagram + 0.026*Snap + 0.033*Twitter + 0.044*Email = OBJ\n",
    "A = np.zeros((13,10)) # initialize constraint matrix\n",
    "A[0,:] = [1,1,1,1,1,1,1,1,1,1] \n",
    "A[1,:] = [1,1,0,0,-1,0,0,0,0,-1] \n",
    "A[2,:] = [0,0,-2,-2,1,1,1,1,1,0]\n",
    "A[3,:] = [1,0,0,0,0,0,0,0,0,0]\n",
    "A[4,:] = [0,1,0,0,0,0,0,0,0,0]\n",
    "A[5,:] = [0,0,1,0,0,0,0,0,0,0]\n",
    "A[6,:] = [0,0,0,1,0,0,0,0,0,0]\n",
    "A[7,:] = [0,0,0,0,1,0,0,0,0,0]\n",
    "A[8,:] = [0,0,0,0,0,1,0,0,0,0]\n",
    "A[9,:] = [0,0,0,0,0,0,1,0,0,0]\n",
    "A[10,:] = [0,0,0,0,0,0,0,1,0,0]\n",
    "A[11,:] = [0,0,0,0,0,0,0,0,1,0]\n",
    "A[12,:] = [0,0,0,0,0,0,0,0,0,1]\n",
    "\n",
    "\n",
    "\n",
    "\n",
    "\n",
    "\n",
    "b = np.array([10,0,0,3,3,3,3,3,3,3,3,3,3]) # limits on production, storage, and demand\n",
    "sense = np.array(['<','<','>','<','<','<','<','<','<','<','<','<','<']) # all constraints are less than or equal constraints\n",
    "ojModel = gp.Model() # initialize an empty model\n",
    "\n",
    "ojModX = ojModel.addMVar(10) # tell the model how many variables there are\n",
    "# must define the variables before adding constraints because variables go into the constraints\n",
    "ojModCon = ojModel.addMConstrs(A, ojModX, sense, b) # add the constraints to the model\n",
    "ojModel.setMObjective(None,obj,0,sense=gp.GRB.MAXIMIZE) # add the objective to the model...we'll talk about the None and the 0\n",
    "\n",
    "ojModel.Params.OutputFlag = 0 # tell gurobi to shut up!!\n",
    "ojModel.Params.TimeLimit = 3600\n",
    "\n",
    "ojModel.optimize() # solve the LP\n",
    "\n",
    "print(\"Max ROI : \",ojModel.objVal) # optimal revenue level\n",
    "\n",
    "print(\"\\nprint + tv+ seo + AdWords + Facebook + LinkedIN + INstagram + Snap + Twitter + Email: \",ojModX.x) # how many (hundreds) to make of each size glass\n",
    "print(\"-------------------------------------------------------------------------------------------\")"
   ]
  }
 ],
 "metadata": {
  "kernelspec": {
   "display_name": "Python 3 (ipykernel)",
   "language": "python",
   "name": "python3"
  },
  "language_info": {
   "codemirror_mode": {
    "name": "ipython",
    "version": 3
   },
   "file_extension": ".py",
   "mimetype": "text/x-python",
   "name": "python",
   "nbconvert_exporter": "python",
   "pygments_lexer": "ipython3",
   "version": "3.9.12"
  }
 },
 "nbformat": 4,
 "nbformat_minor": 5
}
