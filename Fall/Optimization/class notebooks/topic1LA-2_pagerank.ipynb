{
 "cells": [
  {
   "cell_type": "code",
   "execution_count": 1,
   "id": "5a90a9ec",
   "metadata": {
    "executionInfo": {
     "elapsed": 512,
     "status": "ok",
     "timestamp": 1661441802342,
     "user": {
      "displayName": "Dan Mitchell",
      "userId": "13065330663162999368"
     },
     "user_tz": 300
    },
    "id": "0d92b62e"
   },
   "outputs": [],
   "source": [
    "import numpy as np\n",
    "import pandas as pd"
   ]
  },
  {
   "cell_type": "code",
   "execution_count": null,
   "id": "4212e5c7",
   "metadata": {},
   "outputs": [],
   "source": []
  },
  {
   "cell_type": "code",
   "execution_count": null,
   "id": "0438d1d7",
   "metadata": {
    "colab": {
     "background_save": true
    },
    "executionInfo": {
     "elapsed": 6,
     "status": "ok",
     "timestamp": 1661441802343,
     "user": {
      "displayName": "Dan Mitchell",
      "userId": "13065330663162999368"
     },
     "user_tz": 300
    },
    "id": "bfedb972"
   },
   "outputs": [],
   "source": []
  },
  {
   "cell_type": "markdown",
   "id": "d6e95aa3",
   "metadata": {
    "id": "aa7d1514"
   },
   "source": [
    "## PageRank Problem"
   ]
  },
  {
   "cell_type": "code",
   "execution_count": null,
   "id": "5d9d607e",
   "metadata": {
    "colab": {
     "base_uri": "https://localhost:8080/"
    },
    "executionInfo": {
     "elapsed": 20766,
     "status": "ok",
     "timestamp": 1661441841953,
     "user": {
      "displayName": "Dan Mitchell",
      "userId": "13065330663162999368"
     },
     "user_tz": 300
    },
    "id": "2eae5c00",
    "outputId": "8d539901-398f-4310-a033-a2d5385e3a25"
   },
   "outputs": [],
   "source": []
  },
  {
   "cell_type": "code",
   "execution_count": 2,
   "id": "47e54e56",
   "metadata": {
    "executionInfo": {
     "elapsed": 231,
     "status": "ok",
     "timestamp": 1661441850324,
     "user": {
      "displayName": "Dan Mitchell",
      "userId": "13065330663162999368"
     },
     "user_tz": 300
    },
    "id": "e8f8462a"
   },
   "outputs": [],
   "source": [
    "links = np.array(pd.read_csv('LinkData.csv')) # put your file location here\n",
    "# i personally hate pandas.  loc, iloc, at, slices ... it's all hard to remember...\n",
    "# R does dataframes so much better\n",
    "# so i translated to an np array, they're easier to deal with.."
   ]
  },
  {
   "cell_type": "code",
   "execution_count": 8,
   "id": "a55c5184",
   "metadata": {
    "executionInfo": {
     "elapsed": 195,
     "status": "ok",
     "timestamp": 1661441852320,
     "user": {
      "displayName": "Dan Mitchell",
      "userId": "13065330663162999368"
     },
     "user_tz": 300
    },
    "id": "b7426e9b"
   },
   "outputs": [
    {
     "data": {
      "text/plain": [
       "array([[0., 0., 0., ..., 0., 0., 0.],\n",
       "       [0., 0., 0., ..., 0., 0., 0.],\n",
       "       [0., 0., 0., ..., 0., 0., 0.],\n",
       "       ...,\n",
       "       [0., 0., 0., ..., 0., 0., 0.],\n",
       "       [0., 0., 0., ..., 0., 0., 0.],\n",
       "       [0., 0., 0., ..., 0., 0., 0.]])"
      ]
     },
     "execution_count": 8,
     "metadata": {},
     "output_type": "execute_result"
    }
   ],
   "source": [
    "npages = links.shape[0] # how many pages\n",
    "P = np.zeros((npages,npages)) # initialize the P matrix with all zeros, then come back later to fix\n",
    "P"
   ]
  },
  {
   "cell_type": "code",
   "execution_count": 20,
   "id": "721fb18e",
   "metadata": {
    "executionInfo": {
     "elapsed": 224,
     "status": "ok",
     "timestamp": 1661441852541,
     "user": {
      "displayName": "Dan Mitchell",
      "userId": "13065330663162999368"
     },
     "user_tz": 300
    },
    "id": "310f2cda"
   },
   "outputs": [
    {
     "data": {
      "text/plain": [
       "array([[0.        , 0.        , 0.        , ..., 0.        , 0.        ,\n",
       "        0.        ],\n",
       "       [0.        , 0.        , 0.        , ..., 0.        , 0.        ,\n",
       "        0.        ],\n",
       "       [0.14285714, 0.        , 0.        , ..., 0.14285714, 0.        ,\n",
       "        0.        ],\n",
       "       ...,\n",
       "       [0.        , 0.        , 0.        , ..., 0.        , 0.        ,\n",
       "        0.        ],\n",
       "       [0.        , 0.        , 0.        , ..., 0.        , 0.        ,\n",
       "        0.        ],\n",
       "       [0.        , 0.        , 0.        , ..., 0.        , 0.        ,\n",
       "        0.        ]])"
      ]
     },
     "execution_count": 20,
     "metadata": {},
     "output_type": "execute_result"
    }
   ],
   "source": [
    "for row in range(npages):\n",
    "    links_this_page = np.sum(links[row,:]) # how many trues on this row\n",
    "    P[row,links[row,:]] = 1.0/links_this_page \n",
    "    # if True, then there is a link from page row to that page so set set P to be 1/number of trues at each true"
   ]
  },
  {
   "cell_type": "markdown",
   "id": "252486c4",
   "metadata": {},
   "source": [
    "Logical indexing is also called masking"
   ]
  },
  {
   "cell_type": "code",
   "execution_count": 21,
   "id": "76319fce",
   "metadata": {
    "colab": {
     "base_uri": "https://localhost:8080/"
    },
    "executionInfo": {
     "elapsed": 8,
     "status": "ok",
     "timestamp": 1661441853267,
     "user": {
      "displayName": "Dan Mitchell",
      "userId": "13065330663162999368"
     },
     "user_tz": 300
    },
    "id": "b6f84a8b",
    "outputId": "c64d7816-a7b3-4dd9-aa0b-d5d4613d71a9"
   },
   "outputs": [
    {
     "data": {
      "text/plain": [
       "0.025"
      ]
     },
     "execution_count": 21,
     "metadata": {},
     "output_type": "execute_result"
    }
   ],
   "source": [
    "start_page = 16\n",
    "click_page = 17\n",
    "P[start_page,click_page]"
   ]
  },
  {
   "cell_type": "code",
   "execution_count": null,
   "id": "a921ab2f",
   "metadata": {
    "id": "4726960d"
   },
   "outputs": [],
   "source": []
  },
  {
   "cell_type": "code",
   "execution_count": 22,
   "id": "fade75b2",
   "metadata": {
    "id": "1e4e241b"
   },
   "outputs": [
    {
     "data": {
      "text/plain": [
       "0.24447055137844612"
      ]
     },
     "execution_count": 22,
     "metadata": {},
     "output_type": "execute_result"
    }
   ],
   "source": [
    "col_to_sum = 92\n",
    "np.sum(P[:,col_to_sum])"
   ]
  },
  {
   "cell_type": "code",
   "execution_count": null,
   "id": "ad06bf8b",
   "metadata": {
    "id": "4fccadeb"
   },
   "outputs": [],
   "source": []
  },
  {
   "cell_type": "code",
   "execution_count": null,
   "id": "ff5b16b5",
   "metadata": {
    "id": "34770dcb"
   },
   "outputs": [],
   "source": []
  },
  {
   "cell_type": "code",
   "execution_count": null,
   "id": "5859187d",
   "metadata": {
    "id": "0adf14ee"
   },
   "outputs": [],
   "source": []
  },
  {
   "cell_type": "code",
   "execution_count": null,
   "id": "71f6ef2e",
   "metadata": {
    "id": "af4cdba9"
   },
   "outputs": [],
   "source": [
    "v = np.ones((1,npages))/npages # equally likely to start on each page\n",
    "v"
   ]
  },
  {
   "cell_type": "code",
   "execution_count": null,
   "id": "1193d419",
   "metadata": {
    "id": "f009be0e"
   },
   "outputs": [],
   "source": [
    "v2 = v @ P # do the mulitplication\n",
    "v2"
   ]
  },
  {
   "cell_type": "code",
   "execution_count": null,
   "id": "c03b9059",
   "metadata": {
    "id": "7bf02620"
   },
   "outputs": [],
   "source": [
    "np.sum(v2)"
   ]
  },
  {
   "cell_type": "code",
   "execution_count": null,
   "id": "3a2b52e6",
   "metadata": {
    "id": "2a336964"
   },
   "outputs": [],
   "source": [
    "np.sum(v2[0,0:25])"
   ]
  },
  {
   "cell_type": "code",
   "execution_count": null,
   "id": "0f1ee56e",
   "metadata": {
    "id": "73d00168"
   },
   "outputs": [],
   "source": [
    "np.sum(v2[0,75:])"
   ]
  },
  {
   "cell_type": "code",
   "execution_count": null,
   "id": "f676a158",
   "metadata": {
    "id": "272d7456"
   },
   "outputs": [],
   "source": []
  },
  {
   "cell_type": "code",
   "execution_count": null,
   "id": "42a141df",
   "metadata": {
    "id": "124adb5d"
   },
   "outputs": [],
   "source": []
  },
  {
   "cell_type": "code",
   "execution_count": null,
   "id": "d6b69106",
   "metadata": {
    "id": "4b872cd1"
   },
   "outputs": [],
   "source": []
  },
  {
   "cell_type": "code",
   "execution_count": 28,
   "id": "52b01efc",
   "metadata": {
    "id": "d7189a3c"
   },
   "outputs": [
    {
     "data": {
      "text/plain": [
       "array([[0.01, 0.01, 0.01, 0.01, 0.01, 0.01, 0.01, 0.01, 0.01, 0.01, 0.01,\n",
       "        0.01, 0.01, 0.01, 0.01, 0.01, 0.01, 0.01, 0.01, 0.01, 0.01, 0.01,\n",
       "        0.01, 0.01, 0.01, 0.01, 0.01, 0.01, 0.01, 0.01, 0.01, 0.01, 0.01,\n",
       "        0.01, 0.01, 0.01, 0.01, 0.01, 0.01, 0.01, 0.01, 0.01, 0.01, 0.01,\n",
       "        0.01, 0.01, 0.01, 0.01, 0.01, 0.01, 0.01, 0.01, 0.01, 0.01, 0.01,\n",
       "        0.01, 0.01, 0.01, 0.01, 0.01, 0.01, 0.01, 0.01, 0.01, 0.01, 0.01,\n",
       "        0.01, 0.01, 0.01, 0.01, 0.01, 0.01, 0.01, 0.01, 0.01, 0.01, 0.01,\n",
       "        0.01, 0.01, 0.01, 0.01, 0.01, 0.01, 0.01, 0.01, 0.01, 0.01, 0.01,\n",
       "        0.01, 0.01, 0.01, 0.01, 0.01, 0.01, 0.01, 0.01, 0.01, 0.01, 0.01,\n",
       "        0.01]])"
      ]
     },
     "execution_count": 28,
     "metadata": {},
     "output_type": "execute_result"
    }
   ],
   "source": []
  },
  {
   "cell_type": "code",
   "execution_count": null,
   "id": "d8fe58aa",
   "metadata": {
    "id": "dcd48e30"
   },
   "outputs": [],
   "source": []
  },
  {
   "cell_type": "code",
   "execution_count": 26,
   "id": "c96601b1",
   "metadata": {
    "id": "f11b6540"
   },
   "outputs": [
    {
     "data": {
      "text/plain": [
       "3.811623702429379e-09"
      ]
     },
     "execution_count": 26,
     "metadata": {},
     "output_type": "execute_result"
    }
   ],
   "source": [
    "nloop = 10\n",
    "vold = np.ones((1,npages))/npages\n",
    "for i in range(nloop):\n",
    "    vnew = vold @ P\n",
    "    vold = vnew.copy() # another thing that annoys me about python...all lists/vectors are pointers...i never know when I need to use copy\n",
    "\n",
    "vnew = vold @ P\n",
    "np.max(np.abs(vnew-vold)) # this was enough iterations of the loop"
   ]
  },
  {
   "cell_type": "code",
   "execution_count": null,
   "id": "6a120447",
   "metadata": {
    "id": "531090f7"
   },
   "outputs": [],
   "source": [
    "vnew"
   ]
  },
  {
   "cell_type": "code",
   "execution_count": null,
   "id": "cb8542f5",
   "metadata": {
    "id": "b263351c"
   },
   "outputs": [],
   "source": [
    "which_page = 60\n",
    "vnew[0,which_page]"
   ]
  },
  {
   "cell_type": "code",
   "execution_count": null,
   "id": "107abe2b",
   "metadata": {
    "id": "e5079b34"
   },
   "outputs": [],
   "source": [
    "np.argmax(vnew)"
   ]
  },
  {
   "cell_type": "code",
   "execution_count": null,
   "id": "d468367d",
   "metadata": {
    "id": "1d20a7aa"
   },
   "outputs": [],
   "source": [
    "np.argmin(vnew)"
   ]
  },
  {
   "cell_type": "code",
   "execution_count": null,
   "id": "bd1d3344",
   "metadata": {
    "id": "51db7abf"
   },
   "outputs": [],
   "source": [
    "np.argsort(vnew)[0][::-1]"
   ]
  },
  {
   "cell_type": "code",
   "execution_count": null,
   "id": "7705f342",
   "metadata": {
    "id": "d2532a47"
   },
   "outputs": [],
   "source": []
  }
 ],
 "metadata": {
  "colab": {
   "name": "topic1LA-2_pagerank.ipynb",
   "version": ""
  },
  "kernelspec": {
   "display_name": "Python 3 (ipykernel)",
   "language": "python",
   "name": "python3"
  },
  "language_info": {
   "codemirror_mode": {
    "name": "ipython",
    "version": 3
   },
   "file_extension": ".py",
   "mimetype": "text/x-python",
   "name": "python",
   "nbconvert_exporter": "python",
   "pygments_lexer": "ipython3",
   "version": "3.9.12"
  }
 },
 "nbformat": 4,
 "nbformat_minor": 5
}
