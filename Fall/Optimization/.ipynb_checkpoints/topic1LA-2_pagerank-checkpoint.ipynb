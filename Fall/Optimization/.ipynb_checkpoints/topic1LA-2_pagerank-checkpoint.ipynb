{
 "cells": [
  {
   "cell_type": "code",
   "execution_count": 1,
   "id": "5a90a9ec",
   "metadata": {
    "executionInfo": {
     "elapsed": 512,
     "status": "ok",
     "timestamp": 1661441802342,
     "user": {
      "displayName": "Dan Mitchell",
      "userId": "13065330663162999368"
     },
     "user_tz": 300
    },
    "id": "0d92b62e"
   },
   "outputs": [],
   "source": [
    "import numpy as np\n",
    "import pandas as pd"
   ]
  },
  {
   "cell_type": "code",
   "execution_count": null,
   "id": "0a7a4e3e",
   "metadata": {},
   "outputs": [],
   "source": []
  },
  {
   "cell_type": "code",
   "execution_count": null,
   "id": "0438d1d7",
   "metadata": {
    "colab": {
     "background_save": true
    },
    "executionInfo": {
     "elapsed": 6,
     "status": "ok",
     "timestamp": 1661441802343,
     "user": {
      "displayName": "Dan Mitchell",
      "userId": "13065330663162999368"
     },
     "user_tz": 300
    },
    "id": "bfedb972"
   },
   "outputs": [],
   "source": []
  },
  {
   "cell_type": "markdown",
   "id": "d6e95aa3",
   "metadata": {
    "id": "aa7d1514"
   },
   "source": [
    "## PageRank Problem"
   ]
  },
  {
   "cell_type": "code",
   "execution_count": null,
   "id": "5d9d607e",
   "metadata": {
    "colab": {
     "base_uri": "https://localhost:8080/"
    },
    "executionInfo": {
     "elapsed": 20766,
     "status": "ok",
     "timestamp": 1661441841953,
     "user": {
      "displayName": "Dan Mitchell",
      "userId": "13065330663162999368"
     },
     "user_tz": 300
    },
    "id": "2eae5c00",
    "outputId": "8d539901-398f-4310-a033-a2d5385e3a25"
   },
   "outputs": [],
   "source": []
  },
  {
   "cell_type": "code",
   "execution_count": 2,
   "id": "47e54e56",
   "metadata": {
    "executionInfo": {
     "elapsed": 231,
     "status": "ok",
     "timestamp": 1661441850324,
     "user": {
      "displayName": "Dan Mitchell",
      "userId": "13065330663162999368"
     },
     "user_tz": 300
    },
    "id": "e8f8462a"
   },
   "outputs": [],
   "source": [
    "links = np.array(pd.read_csv('LinkData.csv')) # put your file location here\n",
    "# i personally hate pandas.  loc, iloc, at, slices ... it's all hard to remember...\n",
    "# R does dataframes so much better\n",
    "# so i translated to an np array, they're easier to deal with.."
   ]
  },
  {
   "cell_type": "code",
   "execution_count": 3,
   "id": "a55c5184",
   "metadata": {
    "executionInfo": {
     "elapsed": 195,
     "status": "ok",
     "timestamp": 1661441852320,
     "user": {
      "displayName": "Dan Mitchell",
      "userId": "13065330663162999368"
     },
     "user_tz": 300
    },
    "id": "b7426e9b"
   },
   "outputs": [],
   "source": [
    "npages = links.shape[0] # how many pages\n",
    "P = np.zeros((npages,npages)) # initialize the P matrix with all zeros, then come back later to fix"
   ]
  },
  {
   "cell_type": "code",
   "execution_count": 4,
   "id": "721fb18e",
   "metadata": {
    "executionInfo": {
     "elapsed": 224,
     "status": "ok",
     "timestamp": 1661441852541,
     "user": {
      "displayName": "Dan Mitchell",
      "userId": "13065330663162999368"
     },
     "user_tz": 300
    },
    "id": "310f2cda"
   },
   "outputs": [],
   "source": [
    "for row in range(npages):\n",
    "    links_this_page = np.sum(links[row,:]) # how many trues on this row\n",
    "    P[row,links[row,:]] = 1.0/links_this_page \n",
    "    # if True, then there is a link from page row to that page so set set P to be 1/number of trues at each true\n"
   ]
  },
  {
   "cell_type": "code",
   "execution_count": 5,
   "id": "76319fce",
   "metadata": {
    "colab": {
     "base_uri": "https://localhost:8080/"
    },
    "executionInfo": {
     "elapsed": 8,
     "status": "ok",
     "timestamp": 1661441853267,
     "user": {
      "displayName": "Dan Mitchell",
      "userId": "13065330663162999368"
     },
     "user_tz": 300
    },
    "id": "b6f84a8b",
    "outputId": "c64d7816-a7b3-4dd9-aa0b-d5d4613d71a9"
   },
   "outputs": [
    {
     "data": {
      "text/plain": [
       "0.025"
      ]
     },
     "execution_count": 5,
     "metadata": {},
     "output_type": "execute_result"
    }
   ],
   "source": [
    "start_page = 16\n",
    "click_page = 17\n",
    "P[start_page,click_page]"
   ]
  },
  {
   "cell_type": "code",
   "execution_count": null,
   "id": "a921ab2f",
   "metadata": {
    "id": "4726960d"
   },
   "outputs": [],
   "source": []
  },
  {
   "cell_type": "code",
   "execution_count": 6,
   "id": "fade75b2",
   "metadata": {
    "id": "1e4e241b"
   },
   "outputs": [
    {
     "data": {
      "text/plain": [
       "0.24447055137844612"
      ]
     },
     "execution_count": 6,
     "metadata": {},
     "output_type": "execute_result"
    }
   ],
   "source": [
    "col_to_sum = 92\n",
    "np.sum(P[:,col_to_sum])"
   ]
  },
  {
   "cell_type": "code",
   "execution_count": null,
   "id": "ad06bf8b",
   "metadata": {
    "id": "4fccadeb"
   },
   "outputs": [],
   "source": []
  },
  {
   "cell_type": "code",
   "execution_count": null,
   "id": "ff5b16b5",
   "metadata": {
    "id": "34770dcb"
   },
   "outputs": [],
   "source": []
  },
  {
   "cell_type": "code",
   "execution_count": null,
   "id": "5859187d",
   "metadata": {
    "id": "0adf14ee"
   },
   "outputs": [],
   "source": []
  },
  {
   "cell_type": "code",
   "execution_count": 7,
   "id": "71f6ef2e",
   "metadata": {
    "id": "af4cdba9"
   },
   "outputs": [
    {
     "data": {
      "text/plain": [
       "array([[0.01, 0.01, 0.01, 0.01, 0.01, 0.01, 0.01, 0.01, 0.01, 0.01, 0.01,\n",
       "        0.01, 0.01, 0.01, 0.01, 0.01, 0.01, 0.01, 0.01, 0.01, 0.01, 0.01,\n",
       "        0.01, 0.01, 0.01, 0.01, 0.01, 0.01, 0.01, 0.01, 0.01, 0.01, 0.01,\n",
       "        0.01, 0.01, 0.01, 0.01, 0.01, 0.01, 0.01, 0.01, 0.01, 0.01, 0.01,\n",
       "        0.01, 0.01, 0.01, 0.01, 0.01, 0.01, 0.01, 0.01, 0.01, 0.01, 0.01,\n",
       "        0.01, 0.01, 0.01, 0.01, 0.01, 0.01, 0.01, 0.01, 0.01, 0.01, 0.01,\n",
       "        0.01, 0.01, 0.01, 0.01, 0.01, 0.01, 0.01, 0.01, 0.01, 0.01, 0.01,\n",
       "        0.01, 0.01, 0.01, 0.01, 0.01, 0.01, 0.01, 0.01, 0.01, 0.01, 0.01,\n",
       "        0.01, 0.01, 0.01, 0.01, 0.01, 0.01, 0.01, 0.01, 0.01, 0.01, 0.01,\n",
       "        0.01]])"
      ]
     },
     "execution_count": 7,
     "metadata": {},
     "output_type": "execute_result"
    }
   ],
   "source": [
    "v = np.ones((1,npages))/npages # equally likely to start on each page\n",
    "v"
   ]
  },
  {
   "cell_type": "code",
   "execution_count": 8,
   "id": "1193d419",
   "metadata": {
    "id": "f009be0e"
   },
   "outputs": [
    {
     "data": {
      "text/plain": [
       "array([[0.00573833, 0.00769424, 0.00555043, 0.0055146 , 0.00453227,\n",
       "        0.00557325, 0.0051904 , 0.00556341, 0.00457945, 0.00554611,\n",
       "        0.00753453, 0.00781997, 0.00757092, 0.00771049, 0.01407555,\n",
       "        0.01193625, 0.01130167, 0.00886274, 0.00583722, 0.01185877,\n",
       "        0.00841383, 0.00609158, 0.00880036, 0.00779918, 0.00968227,\n",
       "        0.0125245 , 0.01052719, 0.0096278 , 0.01128387, 0.01170446,\n",
       "        0.01019642, 0.00963237, 0.00916069, 0.01089168, 0.01576276,\n",
       "        0.01121872, 0.01460209, 0.01054923, 0.01640059, 0.01002743,\n",
       "        0.011999  , 0.01023118, 0.01506729, 0.01101342, 0.01178936,\n",
       "        0.01551068, 0.01027617, 0.01456252, 0.01014159, 0.01872343,\n",
       "        0.01162508, 0.01434055, 0.01478432, 0.01454741, 0.01396555,\n",
       "        0.0092492 , 0.01396915, 0.01273325, 0.01607843, 0.01515518,\n",
       "        0.0145669 , 0.01379209, 0.00982474, 0.00944187, 0.00992358,\n",
       "        0.01467456, 0.0158174 , 0.00667514, 0.01539148, 0.01079153,\n",
       "        0.01045996, 0.00945565, 0.01121931, 0.01151403, 0.008658  ,\n",
       "        0.00914144, 0.01333265, 0.01264693, 0.01235027, 0.00988371,\n",
       "        0.00980304, 0.01103714, 0.0077225 , 0.0116942 , 0.00861188,\n",
       "        0.00710726, 0.00647193, 0.00674521, 0.010309  , 0.01143688,\n",
       "        0.00805548, 0.00587085, 0.00244471, 0.00441729, 0.00298876,\n",
       "        0.00642676, 0.00736695, 0.004964  , 0.00398683, 0.00232769]])"
      ]
     },
     "execution_count": 8,
     "metadata": {},
     "output_type": "execute_result"
    }
   ],
   "source": [
    "v2 = v @ P # do the mulitplication\n",
    "v2"
   ]
  },
  {
   "cell_type": "code",
   "execution_count": 9,
   "id": "c03b9059",
   "metadata": {
    "id": "7bf02620"
   },
   "outputs": [
    {
     "data": {
      "text/plain": [
       "1.0"
      ]
     },
     "execution_count": 9,
     "metadata": {},
     "output_type": "execute_result"
    }
   ],
   "source": [
    "np.sum(v2)"
   ]
  },
  {
   "cell_type": "code",
   "execution_count": 10,
   "id": "3a2b52e6",
   "metadata": {
    "id": "2a336964"
   },
   "outputs": [
    {
     "data": {
      "text/plain": [
       "0.1907778199377474"
      ]
     },
     "execution_count": 10,
     "metadata": {},
     "output_type": "execute_result"
    }
   ],
   "source": [
    "np.sum(v2[0,0:25])"
   ]
  },
  {
   "cell_type": "code",
   "execution_count": 11,
   "id": "0f1ee56e",
   "metadata": {
    "id": "73d00168"
   },
   "outputs": [
    {
     "data": {
      "text/plain": [
       "0.19714336664103238"
      ]
     },
     "execution_count": 11,
     "metadata": {},
     "output_type": "execute_result"
    }
   ],
   "source": [
    "np.sum(v2[0,75:])"
   ]
  },
  {
   "cell_type": "code",
   "execution_count": null,
   "id": "f676a158",
   "metadata": {
    "id": "272d7456"
   },
   "outputs": [],
   "source": []
  },
  {
   "cell_type": "code",
   "execution_count": null,
   "id": "42a141df",
   "metadata": {
    "id": "124adb5d"
   },
   "outputs": [],
   "source": []
  },
  {
   "cell_type": "code",
   "execution_count": null,
   "id": "d6b69106",
   "metadata": {
    "id": "4b872cd1"
   },
   "outputs": [],
   "source": []
  },
  {
   "cell_type": "code",
   "execution_count": null,
   "id": "52b01efc",
   "metadata": {
    "id": "d7189a3c"
   },
   "outputs": [],
   "source": []
  },
  {
   "cell_type": "code",
   "execution_count": null,
   "id": "d8fe58aa",
   "metadata": {
    "id": "dcd48e30"
   },
   "outputs": [],
   "source": []
  },
  {
   "cell_type": "code",
   "execution_count": 12,
   "id": "c96601b1",
   "metadata": {
    "id": "f11b6540"
   },
   "outputs": [
    {
     "data": {
      "text/plain": [
       "3.811623702429379e-09"
      ]
     },
     "execution_count": 12,
     "metadata": {},
     "output_type": "execute_result"
    }
   ],
   "source": [
    "nloop = 10\n",
    "vold = np.ones((1,npages))/npages\n",
    "for i in range(nloop):\n",
    "    vnew = vold @ P\n",
    "    vold = vnew.copy() # another thing that annoys me about python...all lists/vectors are pointers...i never know when I need to use copy\n",
    "\n",
    "vnew = vold @ P\n",
    "np.max(np.abs(vnew-vold)) # this was enough iterations of the loop"
   ]
  },
  {
   "cell_type": "code",
   "execution_count": 13,
   "id": "6a120447",
   "metadata": {
    "id": "531090f7"
   },
   "outputs": [
    {
     "data": {
      "text/plain": [
       "array([[0.00429773, 0.00750547, 0.0049219 , 0.00391867, 0.00459899,\n",
       "        0.00490018, 0.00402286, 0.00490787, 0.0053511 , 0.00580511,\n",
       "        0.00790014, 0.00915911, 0.00793979, 0.00779602, 0.01460387,\n",
       "        0.0124883 , 0.01121931, 0.01017101, 0.00593845, 0.01163902,\n",
       "        0.0082568 , 0.00682729, 0.00934004, 0.00882597, 0.01008305,\n",
       "        0.01202228, 0.01071045, 0.01091075, 0.00934851, 0.0112114 ,\n",
       "        0.01117286, 0.00913975, 0.00925464, 0.00963831, 0.01431424,\n",
       "        0.0095833 , 0.01571117, 0.01124787, 0.01544025, 0.01063508,\n",
       "        0.01113467, 0.01038905, 0.01418032, 0.01168492, 0.01250504,\n",
       "        0.01437684, 0.00971705, 0.0141186 , 0.01075935, 0.01829176,\n",
       "        0.01168584, 0.01546038, 0.01449708, 0.01420542, 0.01426497,\n",
       "        0.01057476, 0.01249518, 0.01241953, 0.01554644, 0.01548465,\n",
       "        0.01380967, 0.01348518, 0.01058995, 0.01057582, 0.00933189,\n",
       "        0.01462574, 0.0158777 , 0.00685918, 0.0144265 , 0.01085781,\n",
       "        0.01120941, 0.00860189, 0.01127566, 0.01268299, 0.00952037,\n",
       "        0.01019797, 0.01284416, 0.01329512, 0.01222782, 0.01043425,\n",
       "        0.00873443, 0.01142379, 0.00771396, 0.01148843, 0.00857839,\n",
       "        0.00781102, 0.00778161, 0.00693784, 0.01116476, 0.01030903,\n",
       "        0.00768595, 0.00487211, 0.00191994, 0.00354229, 0.00359161,\n",
       "        0.00704035, 0.00863023, 0.00444777, 0.00486124, 0.00218541]])"
      ]
     },
     "execution_count": 13,
     "metadata": {},
     "output_type": "execute_result"
    }
   ],
   "source": [
    "vnew"
   ]
  },
  {
   "cell_type": "code",
   "execution_count": 14,
   "id": "cb8542f5",
   "metadata": {
    "id": "b263351c"
   },
   "outputs": [
    {
     "data": {
      "text/plain": [
       "0.013809671904806699"
      ]
     },
     "execution_count": 14,
     "metadata": {},
     "output_type": "execute_result"
    }
   ],
   "source": [
    "which_page = 60\n",
    "vnew[0,which_page]"
   ]
  },
  {
   "cell_type": "code",
   "execution_count": 15,
   "id": "107abe2b",
   "metadata": {
    "id": "e5079b34"
   },
   "outputs": [
    {
     "data": {
      "text/plain": [
       "49"
      ]
     },
     "execution_count": 15,
     "metadata": {},
     "output_type": "execute_result"
    }
   ],
   "source": [
    "np.argmax(vnew)"
   ]
  },
  {
   "cell_type": "code",
   "execution_count": 16,
   "id": "d468367d",
   "metadata": {
    "id": "1d20a7aa"
   },
   "outputs": [
    {
     "data": {
      "text/plain": [
       "92"
      ]
     },
     "execution_count": 16,
     "metadata": {},
     "output_type": "execute_result"
    }
   ],
   "source": [
    "np.argmin(vnew)"
   ]
  },
  {
   "cell_type": "code",
   "execution_count": 17,
   "id": "bd1d3344",
   "metadata": {
    "id": "51db7abf"
   },
   "outputs": [
    {
     "data": {
      "text/plain": [
       "array([49, 66, 36, 58, 59, 51, 38, 65, 14, 52, 68, 45, 34, 54, 53, 42, 47,\n",
       "       60, 61, 77, 76, 73, 44, 56, 15, 57, 78, 25, 50, 43, 19, 83, 81, 72,\n",
       "       37, 16, 29, 70, 30, 88, 40, 27, 69, 48, 26, 39, 62, 63, 55, 79, 41,\n",
       "       89, 75, 17, 24, 46, 33, 35, 74, 28, 22, 64, 32, 11, 31, 23, 80, 96,\n",
       "       71, 84, 20, 12, 10, 85, 13, 86, 82, 90,  1, 95, 87, 67, 21, 18,  9,\n",
       "        8,  2,  7,  5, 91, 98,  4, 97,  0,  6,  3, 94, 93, 99, 92],\n",
       "      dtype=int64)"
      ]
     },
     "execution_count": 17,
     "metadata": {},
     "output_type": "execute_result"
    }
   ],
   "source": [
    "np.argsort(vnew)[0][::-1]"
   ]
  },
  {
   "cell_type": "code",
   "execution_count": null,
   "id": "7705f342",
   "metadata": {
    "id": "d2532a47"
   },
   "outputs": [],
   "source": []
  }
 ],
 "metadata": {
  "colab": {
   "name": "topic1LA-2_pagerank.ipynb",
   "version": ""
  },
  "kernelspec": {
   "display_name": "Python 3 (ipykernel)",
   "language": "python",
   "name": "python3"
  },
  "language_info": {
   "codemirror_mode": {
    "name": "ipython",
    "version": 3
   },
   "file_extension": ".py",
   "mimetype": "text/x-python",
   "name": "python",
   "nbconvert_exporter": "python",
   "pygments_lexer": "ipython3",
   "version": "3.9.12"
  }
 },
 "nbformat": 4,
 "nbformat_minor": 5
}
