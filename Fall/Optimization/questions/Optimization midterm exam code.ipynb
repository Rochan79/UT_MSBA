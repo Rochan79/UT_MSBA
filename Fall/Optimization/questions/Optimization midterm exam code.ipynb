{
 "cells": [
  {
   "cell_type": "code",
   "execution_count": 12,
   "id": "6dae7e9e",
   "metadata": {},
   "outputs": [],
   "source": [
    "import numpy as np\n",
    "import pandas as pd\n",
    "import gurobipy as gp"
   ]
  },
  {
   "cell_type": "markdown",
   "id": "40f75a6c",
   "metadata": {},
   "source": [
    "# Question 2"
   ]
  },
  {
   "cell_type": "code",
   "execution_count": 13,
   "id": "d3d306e9",
   "metadata": {},
   "outputs": [
    {
     "data": {
      "text/plain": [
       "array([ 4.00000000e+00, -2.00000000e+00,  2.98427949e-14,  9.60000000e+01])"
      ]
     },
     "execution_count": 13,
     "metadata": {},
     "output_type": "execute_result"
    }
   ],
   "source": [
    "A = np.array([[0,1,0,2],[2,-3,1,-0.5],[-5,6,0,1],[0,-1,1,0]])\n",
    "B = np.array([190,-34,64,2])\n",
    "x = np.linalg.solve(A,B)\n",
    "x"
   ]
  },
  {
   "cell_type": "markdown",
   "id": "8c5c17b3",
   "metadata": {},
   "source": [
    "# Question 4"
   ]
  },
  {
   "cell_type": "code",
   "execution_count": 14,
   "id": "79aa192f",
   "metadata": {},
   "outputs": [
    {
     "data": {
      "text/plain": [
       "array([[ 300.,   15.,  100.,  300.,   15.,  100.],\n",
       "       [  -4.,    1.,    0.,    0.,    0.,    0.],\n",
       "       [   0.,    0.,    0.,   -1.,    0.,    1.],\n",
       "       [   0.,    0.,    0.,   -5.,    1.,    0.],\n",
       "       [-300.,  500.,    0.,    0.,    0.,    0.],\n",
       "       [   0.,    0.,    0., -300.,  500.,    0.]])"
      ]
     },
     "execution_count": 14,
     "metadata": {},
     "output_type": "execute_result"
    }
   ],
   "source": [
    " obj = np.array([125,-15,75,75,-15,100]) # objective vector profit = revenue - cost\n",
    "A = np.zeros((6,6)) # initialize constraint matrix\n",
    "A[0,:] = [300,15,100,300,15,100] # cost\n",
    "A[1,:] = [-4,1,0,0,0,0] # IPA 4 times more wheat\n",
    "A[2,:] = [0,0,0,-1,0,1] \n",
    "A[3,:] = [0,0,0,-5,1,0] # Ockto 5 times more wheat\n",
    "A[4,:] = [-300,500,0,0,0,0] #alcohol%\n",
    "A[5,:] = [0,0,0,-300,500,0] #alcohol%\n",
    "\n",
    "b = np.array([4100,0,0,0,7500,5250]) # limits \n",
    "sense = np.array(['<','>','>','>','>','>']) # all constraints are less than or equal constraints\n",
    "A"
   ]
  },
  {
   "cell_type": "code",
   "execution_count": 15,
   "id": "3c7d9cd6",
   "metadata": {},
   "outputs": [
    {
     "data": {
      "text/plain": [
       "2077.0"
      ]
     },
     "execution_count": 15,
     "metadata": {},
     "output_type": "execute_result"
    }
   ],
   "source": [
    "ojModel = gp.Model() # initialize an empty model\n",
    "\n",
    "ojModX = ojModel.addMVar(6,lb=np.array([4,10,0,2,10,3])) # tell the model how many variables there are\n",
    "# must define the variables before adding constraints because variables go into the constraints\n",
    "ojModCon = ojModel.addMConstrs(A, ojModX, sense, b) # add the constraints to the model\n",
    "ojModel.setMObjective(None,obj,0,sense=gp.GRB.MAXIMIZE) # add the objective to the model...we'll talk about the None and the 0\n",
    "\n",
    "ojModel.Params.OutputFlag = 0 # tell gurobi to shut up!!\n",
    "ojModel.Params.TimeLimit = 3600\n",
    "ojModel.optimize() # solve the LP\n",
    "ojModel.objVal # optimal revenue level\n"
   ]
  },
  {
   "cell_type": "code",
   "execution_count": 16,
   "id": "e6045c09",
   "metadata": {},
   "outputs": [
    {
     "data": {
      "text/plain": [
       "array([ 4.   , 17.4  ,  0.   ,  2.   , 11.7  , 18.635])"
      ]
     },
     "execution_count": 16,
     "metadata": {},
     "output_type": "execute_result"
    }
   ],
   "source": [
    "ojModX.x"
   ]
  },
  {
   "cell_type": "code",
   "execution_count": 17,
   "id": "99ac4e5d",
   "metadata": {},
   "outputs": [
    {
     "data": {
      "text/plain": [
       "[2536.5, -inf, -inf, -inf, 6799.999999999999, 4400.0]"
      ]
     },
     "execution_count": 17,
     "metadata": {},
     "output_type": "execute_result"
    }
   ],
   "source": [
    "[con.SARHSLow for con in ojModCon]"
   ]
  },
  {
   "cell_type": "code",
   "execution_count": null,
   "id": "492e5c3d",
   "metadata": {},
   "outputs": [],
   "source": []
  },
  {
   "cell_type": "code",
   "execution_count": null,
   "id": "0526a042",
   "metadata": {},
   "outputs": [],
   "source": []
  }
 ],
 "metadata": {
  "kernelspec": {
   "display_name": "Python 3 (ipykernel)",
   "language": "python",
   "name": "python3"
  },
  "language_info": {
   "codemirror_mode": {
    "name": "ipython",
    "version": 3
   },
   "file_extension": ".py",
   "mimetype": "text/x-python",
   "name": "python",
   "nbconvert_exporter": "python",
   "pygments_lexer": "ipython3",
   "version": "3.9.12"
  }
 },
 "nbformat": 4,
 "nbformat_minor": 5
}
