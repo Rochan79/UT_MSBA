{
 "cells": [
  {
   "cell_type": "code",
   "execution_count": 17,
   "id": "6d555e25",
   "metadata": {},
   "outputs": [],
   "source": [
    "import numpy as np\n",
    "import gurobipy as gp"
   ]
  },
  {
   "cell_type": "markdown",
   "id": "2610a567",
   "metadata": {},
   "source": [
    "# Q2"
   ]
  },
  {
   "cell_type": "code",
   "execution_count": 4,
   "id": "c324e637",
   "metadata": {},
   "outputs": [],
   "source": [
    "obj = np.array([2000,3000]) # objective vector\n",
    "A = np.zeros((2,2)) # initialize constraint matrix\n",
    "A[0,:] = [2,4] # production constraint\n",
    "A[1,:] = [3,2] # storage constraint\n",
    "b = np.array([1200,1000]) # limits on production, storage, and demand\n",
    "sense = np.array(['<','<']) # all constraints are less than or equal constraints"
   ]
  },
  {
   "cell_type": "code",
   "execution_count": 5,
   "id": "26d9e10b",
   "metadata": {},
   "outputs": [],
   "source": [
    "ojModel = gp.Model() # initialize an empty model\n",
    "\n",
    "ojModX = ojModel.addMVar(2) # tell the model how many variables there are\n",
    "# must define the variables before adding constraints because variables go into the constraints\n",
    "ojModCon = ojModel.addMConstrs(A, ojModX, sense, b) # add the constraints to the model\n",
    "ojModel.setMObjective(None,obj,0,sense=gp.GRB.MAXIMIZE) # add the objective to the model...we'll talk about the None and the 0\n",
    "\n",
    "ojModel.Params.OutputFlag = 0 # tell gurobi to shut up!!\n",
    "ojModel.Params.TimeLimit = 3600"
   ]
  },
  {
   "cell_type": "code",
   "execution_count": 6,
   "id": "9ea838ad",
   "metadata": {},
   "outputs": [],
   "source": [
    "ojModel.optimize() # solve the LP"
   ]
  },
  {
   "cell_type": "code",
   "execution_count": 7,
   "id": "b9178eaa",
   "metadata": {},
   "outputs": [
    {
     "data": {
      "text/plain": [
       "1000000.0"
      ]
     },
     "execution_count": 7,
     "metadata": {},
     "output_type": "execute_result"
    }
   ],
   "source": [
    "ojModel.objVal # optimal revenue level"
   ]
  },
  {
   "cell_type": "code",
   "execution_count": 8,
   "id": "5349f05d",
   "metadata": {},
   "outputs": [
    {
     "data": {
      "text/plain": [
       "array([200., 200.])"
      ]
     },
     "execution_count": 8,
     "metadata": {},
     "output_type": "execute_result"
    }
   ],
   "source": [
    "ojModX.x # how many (hundreds) to make of each size glass"
   ]
  },
  {
   "cell_type": "code",
   "execution_count": 11,
   "id": "2434d2b5",
   "metadata": {},
   "outputs": [
    {
     "name": "stdout",
     "output_type": "stream",
     "text": [
      "\n",
      "Fertilizer availability:  200\n",
      "\n",
      "wheat,corn:  [100.   0.]\n",
      "-------------------------------------------------------------------------------------------\n",
      "\n",
      "Fertilizer availability:  300\n",
      "\n",
      "wheat,corn:  [150.   0.]\n",
      "-------------------------------------------------------------------------------------------\n",
      "\n",
      "Fertilizer availability:  400\n",
      "\n",
      "wheat,corn:  [200.   0.]\n",
      "-------------------------------------------------------------------------------------------\n",
      "\n",
      "Fertilizer availability:  500\n",
      "\n",
      "wheat,corn:  [250.   0.]\n",
      "-------------------------------------------------------------------------------------------\n",
      "\n",
      "Fertilizer availability:  600\n",
      "\n",
      "wheat,corn:  [300.   0.]\n",
      "-------------------------------------------------------------------------------------------\n",
      "\n",
      "Fertilizer availability:  700\n",
      "\n",
      "wheat,corn:  [325.   12.5]\n",
      "-------------------------------------------------------------------------------------------\n",
      "\n",
      "Fertilizer availability:  800\n",
      "\n",
      "wheat,corn:  [300.  50.]\n",
      "-------------------------------------------------------------------------------------------\n",
      "\n",
      "Fertilizer availability:  900\n",
      "\n",
      "wheat,corn:  [275.   87.5]\n",
      "-------------------------------------------------------------------------------------------\n",
      "\n",
      "Fertilizer availability:  1000\n",
      "\n",
      "wheat,corn:  [250. 125.]\n",
      "-------------------------------------------------------------------------------------------\n",
      "\n",
      "Fertilizer availability:  1100\n",
      "\n",
      "wheat,corn:  [225.  162.5]\n",
      "-------------------------------------------------------------------------------------------\n",
      "\n",
      "Fertilizer availability:  1200\n",
      "\n",
      "wheat,corn:  [200. 200.]\n",
      "-------------------------------------------------------------------------------------------\n",
      "\n",
      "Fertilizer availability:  1300\n",
      "\n",
      "wheat,corn:  [175.  237.5]\n",
      "-------------------------------------------------------------------------------------------\n",
      "\n",
      "Fertilizer availability:  1400\n",
      "\n",
      "wheat,corn:  [150. 275.]\n",
      "-------------------------------------------------------------------------------------------\n",
      "\n",
      "Fertilizer availability:  1500\n",
      "\n",
      "wheat,corn:  [125.  312.5]\n",
      "-------------------------------------------------------------------------------------------\n",
      "\n",
      "Fertilizer availability:  1600\n",
      "\n",
      "wheat,corn:  [100. 350.]\n",
      "-------------------------------------------------------------------------------------------\n",
      "\n",
      "Fertilizer availability:  1700\n",
      "\n",
      "wheat,corn:  [ 75.  387.5]\n",
      "-------------------------------------------------------------------------------------------\n",
      "\n",
      "Fertilizer availability:  1800\n",
      "\n",
      "wheat,corn:  [ 50. 425.]\n",
      "-------------------------------------------------------------------------------------------\n",
      "\n",
      "Fertilizer availability:  1900\n",
      "\n",
      "wheat,corn:  [ 25.  462.5]\n",
      "-------------------------------------------------------------------------------------------\n",
      "\n",
      "Fertilizer availability:  2000\n",
      "\n",
      "wheat,corn:  [  0. 500.]\n",
      "-------------------------------------------------------------------------------------------\n",
      "\n",
      "Fertilizer availability:  2100\n",
      "\n",
      "wheat,corn:  [  0. 500.]\n",
      "-------------------------------------------------------------------------------------------\n"
     ]
    }
   ],
   "source": [
    "for i in range(200,2200,100):\n",
    "    obj = np.array([2000,3000]) # objective vector\n",
    "    A = np.zeros((2,2)) # initialize constraint matrix\n",
    "    A[0,:] = [2,4] # production constraint\n",
    "    A[1,:] = [3,2] # storage constraint\n",
    "    b = np.array([i,1000]) # limits on production, storage, and demand\n",
    "    sense = np.array(['<','<']) # all constraints are less than or equal constraints\n",
    "    ojModel = gp.Model() # initialize an empty model\n",
    "\n",
    "    ojModX = ojModel.addMVar(2) # tell the model how many variables there are\n",
    "    # must define the variables before adding constraints because variables go into the constraints\n",
    "    ojModCon = ojModel.addMConstrs(A, ojModX, sense, b) # add the constraints to the model\n",
    "    ojModel.setMObjective(None,obj,0,sense=gp.GRB.MAXIMIZE) # add the objective to the model...we'll talk about the None and the 0\n",
    "\n",
    "    ojModel.Params.OutputFlag = 0 # tell gurobi to shut up!!\n",
    "    ojModel.Params.TimeLimit = 3600\n",
    "\n",
    "    ojModel.optimize() # solve the LP\n",
    "\n",
    "    ojModel.objVal # optimal revenue level\n",
    "\n",
    "    print(\"\\nFertilizer availability: \",i)\n",
    "    print(\"\\nwheat,corn: \",ojModX.x) # how many (hundreds) to make of each size glass\n",
    "    print(\"-------------------------------------------------------------------------------------------\")"
   ]
  },
  {
   "cell_type": "code",
   "execution_count": 14,
   "id": "8b730be5",
   "metadata": {},
   "outputs": [
    {
     "name": "stdout",
     "output_type": "stream",
     "text": [
      "Max NPV :  57.449017199017206\n",
      "\n",
      "1,2,3,4,5:  [1.         0.20085995 1.         1.         0.28808354]\n",
      "-------------------------------------------------------------------------------------------\n"
     ]
    }
   ],
   "source": [
    "obj = np.array([13,16,16,14,39]) # objective vector\n",
    "A = np.zeros((7,5)) # initialize constraint matrix\n",
    "A[0,:] = [11,53,5,5,29] # production constraint\n",
    "A[1,:] = [3,6,5,1,34] # storage constraint\n",
    "A[2,:] = [1,0,0,0,0]\n",
    "A[3,:] = [0,1,0,0,0]\n",
    "A[4,:] = [0,0,1,0,0]\n",
    "A[5,:] = [0,0,0,1,0]\n",
    "A[6,:] = [0,0,0,0,1]\n",
    "b = np.array([40,20,1,1,1,1,1]) # limits on production, storage, and demand\n",
    "sense = np.array(['<','<','<','<','<','<','<']) # all constraints are less than or equal constraints\n",
    "ojModel = gp.Model() # initialize an empty model\n",
    "\n",
    "ojModX = ojModel.addMVar(5) # tell the model how many variables there are\n",
    "# must define the variables before adding constraints because variables go into the constraints\n",
    "ojModCon = ojModel.addMConstrs(A, ojModX, sense, b) # add the constraints to the model\n",
    "ojModel.setMObjective(None,obj,0,sense=gp.GRB.MAXIMIZE) # add the objective to the model...we'll talk about the None and the 0\n",
    "\n",
    "ojModel.Params.OutputFlag = 0 # tell gurobi to shut up!!\n",
    "ojModel.Params.TimeLimit = 3600\n",
    "\n",
    "ojModel.optimize() # solve the LP\n",
    "\n",
    "print(\"Max NPV : \",ojModel.objVal) # optimal revenue level\n",
    "\n",
    "print(\"\\n1,2,3,4,5: \",ojModX.x) # how many (hundreds) to make of each size glass\n",
    "print(\"-------------------------------------------------------------------------------------------\")"
   ]
  },
  {
   "cell_type": "markdown",
   "id": "fcc4468b",
   "metadata": {},
   "source": [
    "# Q4"
   ]
  },
  {
   "cell_type": "code",
   "execution_count": 15,
   "id": "e9cca517",
   "metadata": {},
   "outputs": [
    {
     "name": "stdout",
     "output_type": "stream",
     "text": [
      "Min cost :  3.1500000000000004\n",
      "\n",
      "corn, milk, bread:  [ 1.94444444 10.         10.        ]\n",
      "-------------------------------------------------------------------------------------------\n"
     ]
    }
   ],
   "source": [
    "obj = np.array([0.18,0.23,0.05]) # objective vector\n",
    "A = np.zeros((7,3)) # initialize constraint matrix\n",
    "A[0,:] = [107,500,0] # production constraint\n",
    "A[1,:] = [107,500,0] # storage constraint\n",
    "A[2,:] = [72,121,65]\n",
    "A[3,:] = [72,121,65]\n",
    "A[4,:] = [1,0,0]\n",
    "A[5,:] = [0,1,0]\n",
    "A[6,:] = [0,0,1]\n",
    "b = np.array([50000,5000,2250,2000,10,10,10]) # limits on production, storage, and demand\n",
    "sense = np.array(['<','>','<','>','<','<','<']) # all constraints are less than or equal constraints\n",
    "ojModel = gp.Model() # initialize an empty model\n",
    "\n",
    "ojModX = ojModel.addMVar(3) # tell the model how many variables there are\n",
    "# must define the variables before adding constraints because variables go into the constraints\n",
    "ojModCon = ojModel.addMConstrs(A, ojModX, sense, b) # add the constraints to the model\n",
    "ojModel.setMObjective(None,obj,0,sense=gp.GRB.MINIMIZE) # add the objective to the model...we'll talk about the None and the 0\n",
    "\n",
    "ojModel.Params.OutputFlag = 0 # tell gurobi to shut up!!\n",
    "ojModel.Params.TimeLimit = 3600\n",
    "\n",
    "ojModel.optimize() # solve the LP\n",
    "\n",
    "print(\"Min cost : \",ojModel.objVal) # optimal revenue level\n",
    "\n",
    "print(\"\\ncorn, milk, bread: \",ojModX.x) # how many (hundreds) to make of each size glass\n",
    "print(\"-------------------------------------------------------------------------------------------\")"
   ]
  },
  {
   "cell_type": "markdown",
   "id": "450d3f8d",
   "metadata": {},
   "source": [
    "# Q5"
   ]
  },
  {
   "cell_type": "markdown",
   "id": "3e628612",
   "metadata": {},
   "source": [
    "1.875 -> 1.88"
   ]
  },
  {
   "cell_type": "markdown",
   "id": "c84c9d62",
   "metadata": {},
   "source": [
    "<h1>Project</h1>"
   ]
  },
  {
   "cell_type": "markdown",
   "id": "3044aaf3",
   "metadata": {},
   "source": [
    "0.031*print + 0.049*tv+ 0.024*seo + 0.039*AdWords + 0.016*Facebook + 0.024*LinkedIN + 0.046*INstagram + 0.026*Snap + 0.033*Twitter + 0.044*Email = OBJ\n",
    "\n",
    "Total = 10M\n",
    "\n",
    "print + TV <= facebook + email\n",
    "\n",
    "fb + linkedin + instagram + snap + twitter >= 2*(SEO + AdWords)\n",
    "\n",
    "Each <= $3M\n",
    "\n"
   ]
  },
  {
   "cell_type": "code",
   "execution_count": 20,
   "id": "9b2a92bd",
   "metadata": {},
   "outputs": [
    {
     "name": "stdout",
     "output_type": "stream",
     "text": [
      "Max ROI :  0.45600000000000007\n",
      "\n",
      "print + tv+ seo + AdWords + Facebook + LinkedIN + INstagram + Snap + Twitter + Email:  [0. 3. 0. 1. 0. 0. 3. 0. 0. 3.]\n",
      "-------------------------------------------------------------------------------------------\n"
     ]
    }
   ],
   "source": [
    "obj = np.array([0.031,0.049,0.024,0.039,0.016,0.024,0.046,0.026,0.033,0.044]) # objective vector\n",
    "#0.031*print + 0.049*tv+ 0.024*seo + 0.039*AdWords + 0.016*Facebook + 0.024*LinkedIN + 0.046*INstagram + 0.026*Snap + 0.033*Twitter + 0.044*Email = OBJ\n",
    "A = np.zeros((13,10)) # initialize constraint matrix\n",
    "A[0,:] = [1,1,1,1,1,1,1,1,1,1] \n",
    "A[1,:] = [1,1,0,0,-1,0,0,0,0,-1] \n",
    "A[2,:] = [0,0,-2,-2,1,1,1,1,1,0]\n",
    "A[3,:] = [1,0,0,0,0,0,0,0,0,0]\n",
    "A[4,:] = [0,1,0,0,0,0,0,0,0,0]\n",
    "A[5,:] = [0,0,1,0,0,0,0,0,0,0]\n",
    "A[6,:] = [0,0,0,1,0,0,0,0,0,0]\n",
    "A[7,:] = [0,0,0,0,1,0,0,0,0,0]\n",
    "A[8,:] = [0,0,0,0,0,1,0,0,0,0]\n",
    "A[9,:] = [0,0,0,0,0,0,1,0,0,0]\n",
    "A[10,:] = [0,0,0,0,0,0,0,1,0,0]\n",
    "A[11,:] = [0,0,0,0,0,0,0,0,1,0]\n",
    "A[12,:] = [0,0,0,0,0,0,0,0,0,1]\n",
    "\n",
    "\n",
    "\n",
    "\n",
    "\n",
    "\n",
    "b = np.array([10,0,0,3,3,3,3,3,3,3,3,3,3]) # limits on production, storage, and demand\n",
    "sense = np.array(['<','<','>','<','<','<','<','<','<','<','<','<','<']) # all constraints are less than or equal constraints\n",
    "ojModel = gp.Model() # initialize an empty model\n",
    "\n",
    "ojModX = ojModel.addMVar(10) # tell the model how many variables there are\n",
    "# must define the variables before adding constraints because variables go into the constraints\n",
    "ojModCon = ojModel.addMConstrs(A, ojModX, sense, b) # add the constraints to the model\n",
    "ojModel.setMObjective(None,obj,0,sense=gp.GRB.MAXIMIZE) # add the objective to the model...we'll talk about the None and the 0\n",
    "\n",
    "ojModel.Params.OutputFlag = 0 # tell gurobi to shut up!!\n",
    "ojModel.Params.TimeLimit = 3600\n",
    "\n",
    "ojModel.optimize() # solve the LP\n",
    "\n",
    "print(\"Max ROI : \",ojModel.objVal) # optimal revenue level\n",
    "\n",
    "print(\"\\nprint + tv+ seo + AdWords + Facebook + LinkedIN + INstagram + Snap + Twitter + Email: \",ojModX.x) # how many (hundreds) to make of each size glass\n",
    "print(\"-------------------------------------------------------------------------------------------\")"
   ]
  },
  {
   "cell_type": "markdown",
   "id": "ccb94d15",
   "metadata": {},
   "source": [
    "\n",
    "0.049*print + 0.023*tv+ 0.024*seo + 0.039*AdWords + 0.044*Facebook + 0.046*LinkedIN + 0.026*INstagram + 0.019*Snap + 0.037*Twitter + 0.026*Email = OBJ"
   ]
  },
  {
   "cell_type": "code",
   "execution_count": 22,
   "id": "181cb52b",
   "metadata": {},
   "outputs": [
    {
     "name": "stdout",
     "output_type": "stream",
     "text": [
      "Max ROI :  0.45600000000000007\n",
      "\n",
      "print + tv+ seo + AdWords + Facebook + LinkedIN + INstagram + Snap + Twitter + Email:  [3. 0. 0. 1. 3. 3. 0. 0. 0. 0.]\n",
      "-------------------------------------------------------------------------------------------\n"
     ]
    }
   ],
   "source": [
    "obj = np.array([0.049,0.023,0.024,0.039,0.044,0.046,0.026,0.019,0.037,0.026]) # objective vector\n",
    "#0.031*print + 0.049*tv+ 0.024*seo + 0.039*AdWords + 0.016*Facebook + 0.024*LinkedIN + 0.046*INstagram + 0.026*Snap + 0.033*Twitter + 0.044*Email = OBJ\n",
    "A = np.zeros((13,10)) # initialize constraint matrix\n",
    "A[0,:] = [1,1,1,1,1,1,1,1,1,1] \n",
    "A[1,:] = [1,1,0,0,-1,0,0,0,0,-1] \n",
    "A[2,:] = [0,0,-2,-2,1,1,1,1,1,0]\n",
    "A[3,:] = [1,0,0,0,0,0,0,0,0,0]\n",
    "A[4,:] = [0,1,0,0,0,0,0,0,0,0]\n",
    "A[5,:] = [0,0,1,0,0,0,0,0,0,0]\n",
    "A[6,:] = [0,0,0,1,0,0,0,0,0,0]\n",
    "A[7,:] = [0,0,0,0,1,0,0,0,0,0]\n",
    "A[8,:] = [0,0,0,0,0,1,0,0,0,0]\n",
    "A[9,:] = [0,0,0,0,0,0,1,0,0,0]\n",
    "A[10,:] = [0,0,0,0,0,0,0,1,0,0]\n",
    "A[11,:] = [0,0,0,0,0,0,0,0,1,0]\n",
    "A[12,:] = [0,0,0,0,0,0,0,0,0,1]\n",
    "\n",
    "\n",
    "\n",
    "\n",
    "\n",
    "\n",
    "b = np.array([10,0,0,3,3,3,3,3,3,3,3,3,3]) # limits on production, storage, and demand\n",
    "sense = np.array(['<','<','>','<','<','<','<','<','<','<','<','<','<']) # all constraints are less than or equal constraints\n",
    "ojModel = gp.Model() # initialize an empty model\n",
    "\n",
    "ojModX = ojModel.addMVar(10) # tell the model how many variables there are\n",
    "# must define the variables before adding constraints because variables go into the constraints\n",
    "ojModCon = ojModel.addMConstrs(A, ojModX, sense, b) # add the constraints to the model\n",
    "ojModel.setMObjective(None,obj,0,sense=gp.GRB.MAXIMIZE) # add the objective to the model...we'll talk about the None and the 0\n",
    "\n",
    "ojModel.Params.OutputFlag = 0 # tell gurobi to shut up!!\n",
    "ojModel.Params.TimeLimit = 3600\n",
    "\n",
    "ojModel.optimize() # solve the LP\n",
    "\n",
    "print(\"Max ROI : \",ojModel.objVal) # optimal revenue level\n",
    "\n",
    "print(\"\\nprint + tv+ seo + AdWords + Facebook + LinkedIN + INstagram + Snap + Twitter + Email: \",ojModX.x) # how many (hundreds) to make of each size glass\n",
    "print(\"-------------------------------------------------------------------------------------------\")"
   ]
  },
  {
   "cell_type": "markdown",
   "id": "78c3035e",
   "metadata": {},
   "source": [
    "Same as the previous allocation (need to check)"
   ]
  },
  {
   "cell_type": "code",
   "execution_count": null,
   "id": "87af5fc3",
   "metadata": {},
   "outputs": [],
   "source": []
  }
 ],
 "metadata": {
  "kernelspec": {
   "display_name": "Python 3 (ipykernel)",
   "language": "python",
   "name": "python3"
  },
  "language_info": {
   "codemirror_mode": {
    "name": "ipython",
    "version": 3
   },
   "file_extension": ".py",
   "mimetype": "text/x-python",
   "name": "python",
   "nbconvert_exporter": "python",
   "pygments_lexer": "ipython3",
   "version": "3.9.12"
  }
 },
 "nbformat": 4,
 "nbformat_minor": 5
}
