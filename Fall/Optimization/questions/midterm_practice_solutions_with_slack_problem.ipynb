{
 "cells": [
  {
   "cell_type": "code",
   "execution_count": 1,
   "metadata": {},
   "outputs": [],
   "source": [
    "import numpy as np\n",
    "import pandas as pd\n",
    "import gurobipy as gp"
   ]
  },
  {
   "cell_type": "markdown",
   "metadata": {},
   "source": [
    "## Problem 1"
   ]
  },
  {
   "cell_type": "code",
   "execution_count": 2,
   "metadata": {},
   "outputs": [
    {
     "data": {
      "text/plain": [
       "21"
      ]
     },
     "execution_count": 2,
     "metadata": {},
     "output_type": "execute_result"
    }
   ],
   "source": [
    "xy = pd.read_csv('problem1.csv')\n",
    "nx = xy.shape[0]\n",
    "nx"
   ]
  },
  {
   "cell_type": "code",
   "execution_count": 3,
   "metadata": {},
   "outputs": [
    {
     "data": {
      "text/html": [
       "<div>\n",
       "<style scoped>\n",
       "    .dataframe tbody tr th:only-of-type {\n",
       "        vertical-align: middle;\n",
       "    }\n",
       "\n",
       "    .dataframe tbody tr th {\n",
       "        vertical-align: top;\n",
       "    }\n",
       "\n",
       "    .dataframe thead th {\n",
       "        text-align: right;\n",
       "    }\n",
       "</style>\n",
       "<table border=\"1\" class=\"dataframe\">\n",
       "  <thead>\n",
       "    <tr style=\"text-align: right;\">\n",
       "      <th></th>\n",
       "      <th>x</th>\n",
       "      <th>y</th>\n",
       "    </tr>\n",
       "  </thead>\n",
       "  <tbody>\n",
       "    <tr>\n",
       "      <th>0</th>\n",
       "      <td>-2.0</td>\n",
       "      <td>4.353360</td>\n",
       "    </tr>\n",
       "    <tr>\n",
       "      <th>1</th>\n",
       "      <td>-1.8</td>\n",
       "      <td>3.200865</td>\n",
       "    </tr>\n",
       "    <tr>\n",
       "      <th>2</th>\n",
       "      <td>-1.6</td>\n",
       "      <td>2.342049</td>\n",
       "    </tr>\n",
       "    <tr>\n",
       "      <th>3</th>\n",
       "      <td>-1.4</td>\n",
       "      <td>2.138262</td>\n",
       "    </tr>\n",
       "    <tr>\n",
       "      <th>4</th>\n",
       "      <td>-1.2</td>\n",
       "      <td>1.516324</td>\n",
       "    </tr>\n",
       "    <tr>\n",
       "      <th>5</th>\n",
       "      <td>-1.0</td>\n",
       "      <td>1.295966</td>\n",
       "    </tr>\n",
       "    <tr>\n",
       "      <th>6</th>\n",
       "      <td>-0.8</td>\n",
       "      <td>0.591288</td>\n",
       "    </tr>\n",
       "    <tr>\n",
       "      <th>7</th>\n",
       "      <td>-0.6</td>\n",
       "      <td>0.616674</td>\n",
       "    </tr>\n",
       "    <tr>\n",
       "      <th>8</th>\n",
       "      <td>-0.4</td>\n",
       "      <td>0.244323</td>\n",
       "    </tr>\n",
       "    <tr>\n",
       "      <th>9</th>\n",
       "      <td>-0.2</td>\n",
       "      <td>0.069932</td>\n",
       "    </tr>\n",
       "    <tr>\n",
       "      <th>10</th>\n",
       "      <td>0.0</td>\n",
       "      <td>-0.268725</td>\n",
       "    </tr>\n",
       "    <tr>\n",
       "      <th>11</th>\n",
       "      <td>0.2</td>\n",
       "      <td>0.143361</td>\n",
       "    </tr>\n",
       "    <tr>\n",
       "      <th>12</th>\n",
       "      <td>0.4</td>\n",
       "      <td>0.196456</td>\n",
       "    </tr>\n",
       "    <tr>\n",
       "      <th>13</th>\n",
       "      <td>0.6</td>\n",
       "      <td>0.592072</td>\n",
       "    </tr>\n",
       "    <tr>\n",
       "      <th>14</th>\n",
       "      <td>0.8</td>\n",
       "      <td>0.471510</td>\n",
       "    </tr>\n",
       "    <tr>\n",
       "      <th>15</th>\n",
       "      <td>1.0</td>\n",
       "      <td>1.288096</td>\n",
       "    </tr>\n",
       "    <tr>\n",
       "      <th>16</th>\n",
       "      <td>1.2</td>\n",
       "      <td>1.676313</td>\n",
       "    </tr>\n",
       "    <tr>\n",
       "      <th>17</th>\n",
       "      <td>1.4</td>\n",
       "      <td>2.283287</td>\n",
       "    </tr>\n",
       "    <tr>\n",
       "      <th>18</th>\n",
       "      <td>1.6</td>\n",
       "      <td>2.529745</td>\n",
       "    </tr>\n",
       "    <tr>\n",
       "      <th>19</th>\n",
       "      <td>1.8</td>\n",
       "      <td>2.963286</td>\n",
       "    </tr>\n",
       "    <tr>\n",
       "      <th>20</th>\n",
       "      <td>2.0</td>\n",
       "      <td>4.059637</td>\n",
       "    </tr>\n",
       "  </tbody>\n",
       "</table>\n",
       "</div>"
      ],
      "text/plain": [
       "      x         y\n",
       "0  -2.0  4.353360\n",
       "1  -1.8  3.200865\n",
       "2  -1.6  2.342049\n",
       "3  -1.4  2.138262\n",
       "4  -1.2  1.516324\n",
       "5  -1.0  1.295966\n",
       "6  -0.8  0.591288\n",
       "7  -0.6  0.616674\n",
       "8  -0.4  0.244323\n",
       "9  -0.2  0.069932\n",
       "10  0.0 -0.268725\n",
       "11  0.2  0.143361\n",
       "12  0.4  0.196456\n",
       "13  0.6  0.592072\n",
       "14  0.8  0.471510\n",
       "15  1.0  1.288096\n",
       "16  1.2  1.676313\n",
       "17  1.4  2.283287\n",
       "18  1.6  2.529745\n",
       "19  1.8  2.963286\n",
       "20  2.0  4.059637"
      ]
     },
     "execution_count": 3,
     "metadata": {},
     "output_type": "execute_result"
    }
   ],
   "source": [
    "xy"
   ]
  },
  {
   "cell_type": "code",
   "execution_count": 4,
   "metadata": {},
   "outputs": [],
   "source": [
    "A = np.zeros((nx,nx))\n",
    "b = np.zeros(nx)"
   ]
  },
  {
   "cell_type": "markdown",
   "metadata": {},
   "source": [
    "## Loop for polynomial equation coefficient matrix"
   ]
  },
  {
   "cell_type": "code",
   "execution_count": 5,
   "metadata": {},
   "outputs": [],
   "source": [
    "for row in range(nx):\n",
    "    b[row] = xy.y[row]\n",
    "    for power in range(nx):\n",
    "        A[row,power] = xy.x[row]**power"
   ]
  },
  {
   "cell_type": "code",
   "execution_count": 6,
   "metadata": {},
   "outputs": [
    {
     "data": {
      "text/plain": [
       "array([[ 1.00000000e+00, -2.00000000e+00,  4.00000000e+00,\n",
       "        -8.00000000e+00,  1.60000000e+01, -3.20000000e+01,\n",
       "         6.40000000e+01, -1.28000000e+02,  2.56000000e+02,\n",
       "        -5.12000000e+02,  1.02400000e+03, -2.04800000e+03,\n",
       "         4.09600000e+03, -8.19200000e+03,  1.63840000e+04,\n",
       "        -3.27680000e+04,  6.55360000e+04, -1.31072000e+05,\n",
       "         2.62144000e+05, -5.24288000e+05,  1.04857600e+06],\n",
       "       [ 1.00000000e+00, -1.80000000e+00,  3.24000000e+00,\n",
       "        -5.83200000e+00,  1.04976000e+01, -1.88956800e+01,\n",
       "         3.40122240e+01, -6.12220032e+01,  1.10199606e+02,\n",
       "        -1.98359290e+02,  3.57046723e+02, -6.42684101e+02,\n",
       "         1.15683138e+03, -2.08229649e+03,  3.74813368e+03,\n",
       "        -6.74664062e+03,  1.21439531e+04, -2.18591156e+04,\n",
       "         3.93464081e+04, -7.08235345e+04,  1.27482362e+05],\n",
       "       [ 1.00000000e+00, -1.60000000e+00,  2.56000000e+00,\n",
       "        -4.09600000e+00,  6.55360000e+00, -1.04857600e+01,\n",
       "         1.67772160e+01, -2.68435456e+01,  4.29496730e+01,\n",
       "        -6.87194767e+01,  1.09951163e+02, -1.75921860e+02,\n",
       "         2.81474977e+02, -4.50359963e+02,  7.20575940e+02,\n",
       "        -1.15292150e+03,  1.84467441e+03, -2.95147905e+03,\n",
       "         4.72236648e+03, -7.55578637e+03,  1.20892582e+04],\n",
       "       [ 1.00000000e+00, -1.40000000e+00,  1.96000000e+00,\n",
       "        -2.74400000e+00,  3.84160000e+00, -5.37824000e+00,\n",
       "         7.52953600e+00, -1.05413504e+01,  1.47578906e+01,\n",
       "        -2.06610468e+01,  2.89254655e+01, -4.04956517e+01,\n",
       "         5.66939124e+01, -7.93714773e+01,  1.11120068e+02,\n",
       "        -1.55568096e+02,  2.17795334e+02, -3.04913467e+02,\n",
       "         4.26878854e+02, -5.97630396e+02,  8.36682554e+02],\n",
       "       [ 1.00000000e+00, -1.20000000e+00,  1.44000000e+00,\n",
       "        -1.72800000e+00,  2.07360000e+00, -2.48832000e+00,\n",
       "         2.98598400e+00, -3.58318080e+00,  4.29981696e+00,\n",
       "        -5.15978035e+00,  6.19173642e+00, -7.43008371e+00,\n",
       "         8.91610045e+00, -1.06993205e+01,  1.28391846e+01,\n",
       "        -1.54070216e+01,  1.84884259e+01, -2.21861111e+01,\n",
       "         2.66233333e+01, -3.19479999e+01,  3.83375999e+01],\n",
       "       [ 1.00000000e+00, -1.00000000e+00,  1.00000000e+00,\n",
       "        -1.00000000e+00,  1.00000000e+00, -1.00000000e+00,\n",
       "         1.00000000e+00, -1.00000000e+00,  1.00000000e+00,\n",
       "        -1.00000000e+00,  1.00000000e+00, -1.00000000e+00,\n",
       "         1.00000000e+00, -1.00000000e+00,  1.00000000e+00,\n",
       "        -1.00000000e+00,  1.00000000e+00, -1.00000000e+00,\n",
       "         1.00000000e+00, -1.00000000e+00,  1.00000000e+00],\n",
       "       [ 1.00000000e+00, -8.00000000e-01,  6.40000000e-01,\n",
       "        -5.12000000e-01,  4.09600000e-01, -3.27680000e-01,\n",
       "         2.62144000e-01, -2.09715200e-01,  1.67772160e-01,\n",
       "        -1.34217728e-01,  1.07374182e-01, -8.58993459e-02,\n",
       "         6.87194767e-02, -5.49755814e-02,  4.39804651e-02,\n",
       "        -3.51843721e-02,  2.81474977e-02, -2.25179981e-02,\n",
       "         1.80143985e-02, -1.44115188e-02,  1.15292150e-02],\n",
       "       [ 1.00000000e+00, -6.00000000e-01,  3.60000000e-01,\n",
       "        -2.16000000e-01,  1.29600000e-01, -7.77600000e-02,\n",
       "         4.66560000e-02, -2.79936000e-02,  1.67961600e-02,\n",
       "        -1.00776960e-02,  6.04661760e-03, -3.62797056e-03,\n",
       "         2.17678234e-03, -1.30606940e-03,  7.83641641e-04,\n",
       "        -4.70184985e-04,  2.82110991e-04, -1.69266594e-04,\n",
       "         1.01559957e-04, -6.09359740e-05,  3.65615844e-05],\n",
       "       [ 1.00000000e+00, -4.00000000e-01,  1.60000000e-01,\n",
       "        -6.40000000e-02,  2.56000000e-02, -1.02400000e-02,\n",
       "         4.09600000e-03, -1.63840000e-03,  6.55360000e-04,\n",
       "        -2.62144000e-04,  1.04857600e-04, -4.19430400e-05,\n",
       "         1.67772160e-05, -6.71088640e-06,  2.68435456e-06,\n",
       "        -1.07374182e-06,  4.29496730e-07, -1.71798692e-07,\n",
       "         6.87194767e-08, -2.74877907e-08,  1.09951163e-08],\n",
       "       [ 1.00000000e+00, -2.00000000e-01,  4.00000000e-02,\n",
       "        -8.00000000e-03,  1.60000000e-03, -3.20000000e-04,\n",
       "         6.40000000e-05, -1.28000000e-05,  2.56000000e-06,\n",
       "        -5.12000000e-07,  1.02400000e-07, -2.04800000e-08,\n",
       "         4.09600000e-09, -8.19200000e-10,  1.63840000e-10,\n",
       "        -3.27680000e-11,  6.55360000e-12, -1.31072000e-12,\n",
       "         2.62144000e-13, -5.24288000e-14,  1.04857600e-14],\n",
       "       [ 1.00000000e+00,  0.00000000e+00,  0.00000000e+00,\n",
       "         0.00000000e+00,  0.00000000e+00,  0.00000000e+00,\n",
       "         0.00000000e+00,  0.00000000e+00,  0.00000000e+00,\n",
       "         0.00000000e+00,  0.00000000e+00,  0.00000000e+00,\n",
       "         0.00000000e+00,  0.00000000e+00,  0.00000000e+00,\n",
       "         0.00000000e+00,  0.00000000e+00,  0.00000000e+00,\n",
       "         0.00000000e+00,  0.00000000e+00,  0.00000000e+00],\n",
       "       [ 1.00000000e+00,  2.00000000e-01,  4.00000000e-02,\n",
       "         8.00000000e-03,  1.60000000e-03,  3.20000000e-04,\n",
       "         6.40000000e-05,  1.28000000e-05,  2.56000000e-06,\n",
       "         5.12000000e-07,  1.02400000e-07,  2.04800000e-08,\n",
       "         4.09600000e-09,  8.19200000e-10,  1.63840000e-10,\n",
       "         3.27680000e-11,  6.55360000e-12,  1.31072000e-12,\n",
       "         2.62144000e-13,  5.24288000e-14,  1.04857600e-14],\n",
       "       [ 1.00000000e+00,  4.00000000e-01,  1.60000000e-01,\n",
       "         6.40000000e-02,  2.56000000e-02,  1.02400000e-02,\n",
       "         4.09600000e-03,  1.63840000e-03,  6.55360000e-04,\n",
       "         2.62144000e-04,  1.04857600e-04,  4.19430400e-05,\n",
       "         1.67772160e-05,  6.71088640e-06,  2.68435456e-06,\n",
       "         1.07374182e-06,  4.29496730e-07,  1.71798692e-07,\n",
       "         6.87194767e-08,  2.74877907e-08,  1.09951163e-08],\n",
       "       [ 1.00000000e+00,  6.00000000e-01,  3.60000000e-01,\n",
       "         2.16000000e-01,  1.29600000e-01,  7.77600000e-02,\n",
       "         4.66560000e-02,  2.79936000e-02,  1.67961600e-02,\n",
       "         1.00776960e-02,  6.04661760e-03,  3.62797056e-03,\n",
       "         2.17678234e-03,  1.30606940e-03,  7.83641641e-04,\n",
       "         4.70184985e-04,  2.82110991e-04,  1.69266594e-04,\n",
       "         1.01559957e-04,  6.09359740e-05,  3.65615844e-05],\n",
       "       [ 1.00000000e+00,  8.00000000e-01,  6.40000000e-01,\n",
       "         5.12000000e-01,  4.09600000e-01,  3.27680000e-01,\n",
       "         2.62144000e-01,  2.09715200e-01,  1.67772160e-01,\n",
       "         1.34217728e-01,  1.07374182e-01,  8.58993459e-02,\n",
       "         6.87194767e-02,  5.49755814e-02,  4.39804651e-02,\n",
       "         3.51843721e-02,  2.81474977e-02,  2.25179981e-02,\n",
       "         1.80143985e-02,  1.44115188e-02,  1.15292150e-02],\n",
       "       [ 1.00000000e+00,  1.00000000e+00,  1.00000000e+00,\n",
       "         1.00000000e+00,  1.00000000e+00,  1.00000000e+00,\n",
       "         1.00000000e+00,  1.00000000e+00,  1.00000000e+00,\n",
       "         1.00000000e+00,  1.00000000e+00,  1.00000000e+00,\n",
       "         1.00000000e+00,  1.00000000e+00,  1.00000000e+00,\n",
       "         1.00000000e+00,  1.00000000e+00,  1.00000000e+00,\n",
       "         1.00000000e+00,  1.00000000e+00,  1.00000000e+00],\n",
       "       [ 1.00000000e+00,  1.20000000e+00,  1.44000000e+00,\n",
       "         1.72800000e+00,  2.07360000e+00,  2.48832000e+00,\n",
       "         2.98598400e+00,  3.58318080e+00,  4.29981696e+00,\n",
       "         5.15978035e+00,  6.19173642e+00,  7.43008371e+00,\n",
       "         8.91610045e+00,  1.06993205e+01,  1.28391846e+01,\n",
       "         1.54070216e+01,  1.84884259e+01,  2.21861111e+01,\n",
       "         2.66233333e+01,  3.19479999e+01,  3.83375999e+01],\n",
       "       [ 1.00000000e+00,  1.40000000e+00,  1.96000000e+00,\n",
       "         2.74400000e+00,  3.84160000e+00,  5.37824000e+00,\n",
       "         7.52953600e+00,  1.05413504e+01,  1.47578906e+01,\n",
       "         2.06610468e+01,  2.89254655e+01,  4.04956517e+01,\n",
       "         5.66939124e+01,  7.93714773e+01,  1.11120068e+02,\n",
       "         1.55568096e+02,  2.17795334e+02,  3.04913467e+02,\n",
       "         4.26878854e+02,  5.97630396e+02,  8.36682554e+02],\n",
       "       [ 1.00000000e+00,  1.60000000e+00,  2.56000000e+00,\n",
       "         4.09600000e+00,  6.55360000e+00,  1.04857600e+01,\n",
       "         1.67772160e+01,  2.68435456e+01,  4.29496730e+01,\n",
       "         6.87194767e+01,  1.09951163e+02,  1.75921860e+02,\n",
       "         2.81474977e+02,  4.50359963e+02,  7.20575940e+02,\n",
       "         1.15292150e+03,  1.84467441e+03,  2.95147905e+03,\n",
       "         4.72236648e+03,  7.55578637e+03,  1.20892582e+04],\n",
       "       [ 1.00000000e+00,  1.80000000e+00,  3.24000000e+00,\n",
       "         5.83200000e+00,  1.04976000e+01,  1.88956800e+01,\n",
       "         3.40122240e+01,  6.12220032e+01,  1.10199606e+02,\n",
       "         1.98359290e+02,  3.57046723e+02,  6.42684101e+02,\n",
       "         1.15683138e+03,  2.08229649e+03,  3.74813368e+03,\n",
       "         6.74664062e+03,  1.21439531e+04,  2.18591156e+04,\n",
       "         3.93464081e+04,  7.08235345e+04,  1.27482362e+05],\n",
       "       [ 1.00000000e+00,  2.00000000e+00,  4.00000000e+00,\n",
       "         8.00000000e+00,  1.60000000e+01,  3.20000000e+01,\n",
       "         6.40000000e+01,  1.28000000e+02,  2.56000000e+02,\n",
       "         5.12000000e+02,  1.02400000e+03,  2.04800000e+03,\n",
       "         4.09600000e+03,  8.19200000e+03,  1.63840000e+04,\n",
       "         3.27680000e+04,  6.55360000e+04,  1.31072000e+05,\n",
       "         2.62144000e+05,  5.24288000e+05,  1.04857600e+06]])"
      ]
     },
     "execution_count": 6,
     "metadata": {},
     "output_type": "execute_result"
    }
   ],
   "source": [
    "A"
   ]
  },
  {
   "cell_type": "code",
   "execution_count": 7,
   "metadata": {},
   "outputs": [],
   "source": [
    "coefs = np.linalg.solve(A,b)"
   ]
  },
  {
   "cell_type": "code",
   "execution_count": 8,
   "metadata": {},
   "outputs": [
    {
     "data": {
      "text/plain": [
       "array([-2.68724962e-01,  4.25912462e-01,  1.46120424e+01, -7.64904952e+00,\n",
       "       -1.60571678e+02,  4.44014690e+01,  8.28970249e+02, -1.23098065e+02,\n",
       "       -2.17345669e+03,  1.84818348e+02,  3.17391444e+03, -1.60252343e+02,\n",
       "       -2.71837186e+03,  8.22122451e+01,  1.38870524e+03, -2.45170060e+01,\n",
       "       -4.14052554e+02,  3.91180137e+00,  6.61736781e+01, -2.57246750e-01,\n",
       "       -4.36210853e+00])"
      ]
     },
     "execution_count": 8,
     "metadata": {},
     "output_type": "execute_result"
    }
   ],
   "source": [
    "coefs"
   ]
  },
  {
   "cell_type": "code",
   "execution_count": 9,
   "metadata": {},
   "outputs": [
    {
     "data": {
      "text/plain": [
       "4.35336047509895"
      ]
     },
     "execution_count": 9,
     "metadata": {},
     "output_type": "execute_result"
    }
   ],
   "source": [
    "xy.y[0]"
   ]
  },
  {
   "cell_type": "code",
   "execution_count": 10,
   "metadata": {},
   "outputs": [
    {
     "data": {
      "text/plain": [
       "3.2008647458938"
      ]
     },
     "execution_count": 10,
     "metadata": {},
     "output_type": "execute_result"
    }
   ],
   "source": [
    "xy.y[1]"
   ]
  },
  {
   "cell_type": "code",
   "execution_count": 11,
   "metadata": {},
   "outputs": [
    {
     "data": {
      "text/plain": [
       "4.353360475040972"
      ]
     },
     "execution_count": 11,
     "metadata": {},
     "output_type": "execute_result"
    }
   ],
   "source": [
    "y_at_neg2 = 0\n",
    "for power in range(nx):\n",
    "    y_at_neg2 += coefs[power]*(-2)**power\n",
    "y_at_neg2"
   ]
  },
  {
   "cell_type": "code",
   "execution_count": 12,
   "metadata": {},
   "outputs": [
    {
     "data": {
      "text/plain": [
       "772.2193696165923"
      ]
     },
     "execution_count": 12,
     "metadata": {},
     "output_type": "execute_result"
    }
   ],
   "source": [
    "y_at_neg1p9 = 0\n",
    "for power in range(nx):\n",
    "    y_at_neg1p9 += coefs[power]*(-1.9)**power\n",
    "y_at_neg1p9"
   ]
  },
  {
   "cell_type": "markdown",
   "metadata": {},
   "source": [
    "## Fill with identity matrix below a certain point"
   ]
  },
  {
   "cell_type": "code",
   "execution_count": 13,
   "metadata": {},
   "outputs": [
    {
     "data": {
      "text/plain": [
       "array([[1., 0., 0., 0., 0., 0., 0., 0., 0., 0.],\n",
       "       [0., 1., 0., 0., 0., 0., 0., 0., 0., 0.],\n",
       "       [0., 0., 1., 0., 0., 0., 0., 0., 0., 0.],\n",
       "       [0., 0., 0., 1., 0., 0., 0., 0., 0., 0.],\n",
       "       [0., 0., 0., 0., 1., 0., 0., 0., 0., 0.],\n",
       "       [0., 0., 0., 0., 0., 1., 0., 0., 0., 0.],\n",
       "       [0., 0., 0., 0., 0., 0., 1., 0., 0., 0.],\n",
       "       [0., 0., 0., 0., 0., 0., 0., 1., 0., 0.],\n",
       "       [0., 0., 0., 0., 0., 0., 0., 0., 1., 0.],\n",
       "       [0., 0., 0., 0., 0., 0., 0., 0., 0., 1.]])"
      ]
     },
     "execution_count": 13,
     "metadata": {},
     "output_type": "execute_result"
    }
   ],
   "source": [
    "test = np.diag(np.ones(10))\n",
    "test[0:,:] = np.identity(10)\n",
    "test"
   ]
  },
  {
   "cell_type": "markdown",
   "metadata": {},
   "source": [
    "I encourage you to look at a graph where you put dots at every x,y value from the data set in one color, and then create a finer dataset that has x values separated by 0.01 then evaluate y at each of those new x values using the polynomial you found above.  then plot a line that has those new x,y values in a different color.  You will see that in the middle of the graph the interpolation looks reasonable, but on the edges it's wildly oscilatory.\n",
    "\n",
    "THis tells us that polynomial interpolation like this is terrible!"
   ]
  },
  {
   "cell_type": "markdown",
   "metadata": {},
   "source": [
    "## Problem 2"
   ]
  },
  {
   "cell_type": "code",
   "execution_count": 14,
   "metadata": {},
   "outputs": [],
   "source": [
    "obj = np.array([100,200,150,250,225])\n",
    "lb = np.ones(5)*4\n",
    "A = np.zeros((23+5,5))\n",
    "sense = np.array(['']*(23+5))\n",
    "b = np.zeros(23+5)"
   ]
  },
  {
   "cell_type": "markdown",
   "metadata": {},
   "source": [
    "# Loop for x1 < = 2*x2"
   ]
  },
  {
   "cell_type": "code",
   "execution_count": 15,
   "metadata": {},
   "outputs": [],
   "source": [
    "# not twice the hours...need all combinations of job comparisons! for each job compare to all other jobs\n",
    "ind = list(range(5))\n",
    "loc = 0\n",
    "\n",
    "for i in ind:\n",
    "    for j in ind: # no constraint that you can't be double yourself...loop over every value of ind except i\n",
    "        if j!=i:\n",
    "            A[loc,[i,j]] = [1,-2]\n",
    "            sense[loc] = '<'\n",
    "            loc += 1\n"
   ]
  },
  {
   "cell_type": "code",
   "execution_count": 16,
   "metadata": {},
   "outputs": [],
   "source": [
    "# 40 hours per week\n",
    "A[20,:] = 1\n",
    "b[20] = 40\n",
    "sense[20] = '='"
   ]
  },
  {
   "cell_type": "code",
   "execution_count": 17,
   "metadata": {},
   "outputs": [],
   "source": [
    "# jobs 1 and 3 constraint\n",
    "A[21,[0,2]] = 1\n",
    "b[21] = 15\n",
    "sense[21] = '>'"
   ]
  },
  {
   "cell_type": "code",
   "execution_count": 18,
   "metadata": {},
   "outputs": [],
   "source": [
    "# jobs 4 and 5 constraint\n",
    "A[22,[3,4]] = 1\n",
    "b[22] = 15\n",
    "sense[22] = '<'"
   ]
  },
  {
   "cell_type": "code",
   "execution_count": 19,
   "metadata": {},
   "outputs": [],
   "source": [
    "A[23:,:] = np.identity(5) #fill coefficient matrix with identity matrix after a certain point\n",
    "b[23:] = 4\n",
    "sense[23:] = '>'\n",
    "\n"
   ]
  },
  {
   "cell_type": "code",
   "execution_count": 20,
   "metadata": {},
   "outputs": [
    {
     "name": "stdout",
     "output_type": "stream",
     "text": [
      "Set parameter Username\n",
      "Academic license - for non-commercial use only - expires 2023-09-14\n"
     ]
    }
   ],
   "source": [
    "jobModel = gp.Model() # initialize an empty model\n",
    "\n",
    "jobModX = jobModel.addMVar(5)#,lb=lb) # tell the model how many variables there are . #lb = Lower Bound\n",
    "# must define the variables before adding constraints because variables go into the constraints\n",
    "jobModCon = jobModel.addMConstrs(A, jobModX, sense, b) # add the constraints to the model\n",
    "jobModel.setMObjective(None,obj,0,sense=gp.GRB.MAXIMIZE) # add the objective to the model...we'll talk about the None and the 0\n",
    "\n",
    "jobModel.Params.OutputFlag = 0 # tell gurobi to shut up!!\n",
    "jobModel.optimize()"
   ]
  },
  {
   "cell_type": "code",
   "execution_count": 21,
   "metadata": {},
   "outputs": [
    {
     "data": {
      "text/plain": [
       "array([ 5., 10., 10., 10.,  5.])"
      ]
     },
     "execution_count": 21,
     "metadata": {},
     "output_type": "execute_result"
    }
   ],
   "source": [
    "jobModX.x"
   ]
  },
  {
   "cell_type": "code",
   "execution_count": 22,
   "metadata": {},
   "outputs": [
    {
     "data": {
      "text/plain": [
       "7625.0"
      ]
     },
     "execution_count": 22,
     "metadata": {},
     "output_type": "execute_result"
    }
   ],
   "source": [
    "jobModel.objval"
   ]
  },
  {
   "cell_type": "code",
   "execution_count": 23,
   "metadata": {},
   "outputs": [
    {
     "data": {
      "text/plain": [
       "6000"
      ]
     },
     "execution_count": 23,
     "metadata": {},
     "output_type": "execute_result"
    }
   ],
   "source": [
    "150*40\n",
    "# the company makes $7625 per week from your work, so you are profitable"
   ]
  },
  {
   "cell_type": "markdown",
   "metadata": {},
   "source": [
    "## Calculate Shadow Price. \n",
    "\n",
    "How much will the income to company change by for a unit change in number of hours you've worked"
   ]
  },
  {
   "cell_type": "code",
   "execution_count": 24,
   "metadata": {},
   "outputs": [
    {
     "data": {
      "text/plain": [
       "175.0"
      ]
     },
     "execution_count": 24,
     "metadata": {},
     "output_type": "execute_result"
    }
   ],
   "source": [
    "jobModCon[20].Pi # 20 is the 40 hours per week constraint\n",
    "# if they increase your hours to 41 they'll make $200 more dollars\n",
    "# but you would have to be paid $225 for that hour\n",
    "# they shouldn't ask you to work more!"
   ]
  },
  {
   "cell_type": "code",
   "execution_count": null,
   "metadata": {},
   "outputs": [],
   "source": []
  },
  {
   "cell_type": "code",
   "execution_count": 25,
   "metadata": {},
   "outputs": [
    {
     "data": {
      "text/plain": [
       "array([[ 1., -2.,  0.,  0.,  0.],\n",
       "       [ 1.,  0., -2.,  0.,  0.],\n",
       "       [ 1.,  0.,  0., -2.,  0.],\n",
       "       [ 1.,  0.,  0.,  0., -2.],\n",
       "       [-2.,  1.,  0.,  0.,  0.],\n",
       "       [ 0.,  1., -2.,  0.,  0.],\n",
       "       [ 0.,  1.,  0., -2.,  0.],\n",
       "       [ 0.,  1.,  0.,  0., -2.],\n",
       "       [-2.,  0.,  1.,  0.,  0.],\n",
       "       [ 0., -2.,  1.,  0.,  0.],\n",
       "       [ 0.,  0.,  1., -2.,  0.],\n",
       "       [ 0.,  0.,  1.,  0., -2.],\n",
       "       [-2.,  0.,  0.,  1.,  0.],\n",
       "       [ 0., -2.,  0.,  1.,  0.],\n",
       "       [ 0.,  0., -2.,  1.,  0.],\n",
       "       [ 0.,  0.,  0.,  1., -2.],\n",
       "       [-2.,  0.,  0.,  0.,  1.],\n",
       "       [ 0., -2.,  0.,  0.,  1.],\n",
       "       [ 0.,  0., -2.,  0.,  1.],\n",
       "       [ 0.,  0.,  0., -2.,  1.],\n",
       "       [ 1.,  1.,  1.,  1.,  1.],\n",
       "       [ 1.,  0.,  1.,  0.,  0.],\n",
       "       [ 0.,  0.,  0.,  1.,  1.],\n",
       "       [ 1.,  0.,  0.,  0.,  0.],\n",
       "       [ 0.,  1.,  0.,  0.,  0.],\n",
       "       [ 0.,  0.,  1.,  0.,  0.],\n",
       "       [ 0.,  0.,  0.,  1.,  0.],\n",
       "       [ 0.,  0.,  0.,  0.,  1.]])"
      ]
     },
     "execution_count": 25,
     "metadata": {},
     "output_type": "execute_result"
    }
   ],
   "source": [
    "A\n"
   ]
  },
  {
   "cell_type": "markdown",
   "metadata": {},
   "source": [
    "## Modified problem 2"
   ]
  },
  {
   "cell_type": "code",
   "execution_count": null,
   "metadata": {},
   "outputs": [],
   "source": []
  },
  {
   "cell_type": "code",
   "execution_count": 26,
   "metadata": {},
   "outputs": [],
   "source": [
    "obj = np.array([100,200,150,250,225,-100])\n",
    "lb = np.array([4]*5+[0])\n",
    "A = np.zeros((23,6))\n",
    "sense = np.array(['']*23)\n",
    "b = np.zeros(23)"
   ]
  },
  {
   "cell_type": "code",
   "execution_count": 27,
   "metadata": {},
   "outputs": [],
   "source": [
    "# not twice the hours...need all combinations of job comparisons! for each job compare to all other jobs\n",
    "ind = list(range(5))\n",
    "loc = 0\n",
    "\n",
    "for i in ind:\n",
    "    for j in ind: # no constraint that you can't be double yourself...loop over every value of ind except i\n",
    "        if j!=i:\n",
    "            A[loc,[i,j]] = [1,-2]\n",
    "            sense[loc] = '<'\n",
    "            loc += 1\n"
   ]
  },
  {
   "cell_type": "code",
   "execution_count": 28,
   "metadata": {},
   "outputs": [],
   "source": [
    "# 40 hours per week\n",
    "A[20,0:5] = 1 # be careful not to include the slack variable in this constraint\n",
    "b[20] = 40\n",
    "sense[20] = '='"
   ]
  },
  {
   "cell_type": "code",
   "execution_count": 29,
   "metadata": {},
   "outputs": [],
   "source": [
    "# jobs 1 and 3 constraint\n",
    "A[21,[0,2,5]] = [1,1,-1]\n",
    "b[21] = 12\n",
    "sense[21] = '='"
   ]
  },
  {
   "cell_type": "code",
   "execution_count": 30,
   "metadata": {},
   "outputs": [],
   "source": [
    "# jobs 4 and 5 constraint\n",
    "A[22,[3,4,5]] = 1\n",
    "b[22] = 15\n",
    "sense[22] = '<'"
   ]
  },
  {
   "cell_type": "code",
   "execution_count": 31,
   "metadata": {},
   "outputs": [],
   "source": [
    "jobModel2 = gp.Model() # initialize an empty model\n",
    "\n",
    "jobMod2X = jobModel2.addMVar(6,lb=lb) # tell the model how many variables there are\n",
    "# must define the variables before adding constraints because variables go into the constraints\n",
    "jobMod2Con = jobModel2.addMConstrs(A, jobMod2X, sense, b) # add the constraints to the model\n",
    "jobModel2.setMObjective(None,obj,0,sense=gp.GRB.MAXIMIZE) # add the objective to the model...we'll talk about the None and the 0\n",
    "\n",
    "jobModel2.Params.OutputFlag = 0 # tell gurobi to shut up!!\n",
    "jobModel2.optimize()"
   ]
  },
  {
   "cell_type": "code",
   "execution_count": 32,
   "metadata": {},
   "outputs": [
    {
     "data": {
      "text/plain": [
       "array([ 6.5, 13. ,  6.5,  7.5,  6.5,  1. ])"
      ]
     },
     "execution_count": 32,
     "metadata": {},
     "output_type": "execute_result"
    }
   ],
   "source": [
    "jobMod2X.x"
   ]
  },
  {
   "cell_type": "code",
   "execution_count": 33,
   "metadata": {},
   "outputs": [
    {
     "data": {
      "text/plain": [
       "40.0"
      ]
     },
     "execution_count": 33,
     "metadata": {},
     "output_type": "execute_result"
    }
   ],
   "source": [
    "np.sum(jobMod2X.x[:-1])"
   ]
  },
  {
   "cell_type": "markdown",
   "metadata": {},
   "source": [
    "##  For Slack Calculation"
   ]
  },
  {
   "cell_type": "code",
   "execution_count": 34,
   "metadata": {},
   "outputs": [
    {
     "data": {
      "text/plain": [
       "array([0., 0., 0., 1., 1., 1.])"
      ]
     },
     "execution_count": 34,
     "metadata": {},
     "output_type": "execute_result"
    }
   ],
   "source": [
    "A[22]"
   ]
  },
  {
   "cell_type": "code",
   "execution_count": 40,
   "metadata": {},
   "outputs": [
    {
     "data": {
      "text/plain": [
       "0.0"
      ]
     },
     "execution_count": 40,
     "metadata": {},
     "output_type": "execute_result"
    }
   ],
   "source": [
    "np.dot(A[22,:],jobMod2X.x) - b[22]"
   ]
  },
  {
   "cell_type": "code",
   "execution_count": 39,
   "metadata": {},
   "outputs": [
    {
     "data": {
      "text/plain": [
       "15.0"
      ]
     },
     "execution_count": 39,
     "metadata": {},
     "output_type": "execute_result"
    }
   ],
   "source": []
  }
 ],
 "metadata": {
  "kernelspec": {
   "display_name": "Python 3 (ipykernel)",
   "language": "python",
   "name": "python3"
  },
  "language_info": {
   "codemirror_mode": {
    "name": "ipython",
    "version": 3
   },
   "file_extension": ".py",
   "mimetype": "text/x-python",
   "name": "python",
   "nbconvert_exporter": "python",
   "pygments_lexer": "ipython3",
   "version": "3.9.12"
  }
 },
 "nbformat": 4,
 "nbformat_minor": 2
}
