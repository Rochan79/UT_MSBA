{
 "cells": [
  {
   "cell_type": "code",
   "execution_count": 3,
   "id": "b6056cc2",
   "metadata": {},
   "outputs": [],
   "source": [
    "import pandas as pd\n",
    "import numpy as np\n",
    "import gurobipy as gp\n",
    "\n",
    "import warnings\n",
    "warnings.filterwarnings(\"ignore\")"
   ]
  },
  {
   "cell_type": "code",
   "execution_count": 105,
   "id": "e8279bcc",
   "metadata": {},
   "outputs": [],
   "source": [
    "#function to generate coefficients\n",
    "def get_betas(df,k):\n",
    "\n",
    "    #create the X matrix from the dataframe\n",
    "    X= df.drop(columns='y')\n",
    "    \n",
    "    #insert the first column made up entirely of 1's\n",
    "    X.insert(0, 'ones', 1)\n",
    "    X_arr=np.array(X)\n",
    "    \n",
    "    #create the y matrix from the dataframe\n",
    "    y_arr= np.array(df['y'])\n",
    "    \n",
    "    #number of independent variables\n",
    "    m = len(df.columns)-1\n",
    "    \n",
    "    #number of datapoints\n",
    "    n = len(df)\n",
    "    \n",
    "    #setting the first (m+1) components as -2yTX, and the rest as zeros\n",
    "    obj = np.zeros((2*m+1))\n",
    "    obj[0:m+1] = -2*(y_arr.T @ X_arr)\n",
    "    \n",
    "    #initialize the Q matrix with (2m+1)rows and (2m+1) columns\n",
    "    Q = np.zeros((2*m + 1,2*m + 1))\n",
    "    \n",
    "    #setting the upper left corner of the Q matrix as the product of X-transpose and X\n",
    "    X_Transp_X= X.T @ X\n",
    "    Q[0:X_Transp_X.shape[0], 0:X_Transp_X.shape[1]]= X_Transp_X\n",
    "    \n",
    "    #big M value=100\n",
    "    M=100\n",
    "    \n",
    "    #initialize the constraint matrix (2m+1)*(2m+1)\n",
    "    A = np.zeros((2*m+1,2*m+1))\n",
    "    \n",
    "    #big M constraint: 𝛽-𝑀𝑧 ≤ 0\n",
    "    for i in range(0,m):\n",
    "        A[i,1+i] = 1\n",
    "        A[i,m+i] = -M\n",
    "    \n",
    "    #big M constraint: 0 ≤ 𝛽+𝑀𝑧\n",
    "    for i in range(0,m):\n",
    "        A[50+i,1+i] = 1\n",
    "        A[50+i,m+i] = M\n",
    "    \n",
    "    #3rd constraint: number of variables with non zero coefficients should be lesser than equal to k\n",
    "    A[2*m,:][m+1:] = 1\n",
    "    \n",
    "    #sense array\n",
    "    sense = ['<']*m + ['>']*m + ['<'] \n",
    "    \n",
    "    #setting the rhs of the inequalities\n",
    "    b = np.array([0]*m +[0]*m + [k])\n",
    "    \n",
    "    #setting the lower bound for the betas as -M \n",
    "    lb=np.array([np.NINF]+[-M]*m+[0]*m)\n",
    "    \n",
    "    #Gurobi starts\n",
    "    varSelMod = gp.Model()\n",
    "    \n",
    "    #add variable types - the (m+1) coefficients are continuous and the z's are binary variables, set lower bound\n",
    "    varSelMod_x = varSelMod.addMVar((2*m)+1, vtype = ['C']*(m+1) + ['B']*m, lb=lb)\n",
    "    \n",
    "    varSelMod_con = varSelMod.addMConstr(A, varSelMod_x, sense, b)\n",
    "    \n",
    "    #input the linear objective and Q matrix to objective\n",
    "    varSelMod.setMObjective(Q,obj,0,sense=gp.GRB.MINIMIZE)\n",
    "\n",
    "    varSelMod.Params.OutputFlag = 0 \n",
    "    \n",
    "    #setting the time limit for Gurobi\n",
    "    varSelMod.Params.TimeLimit = 3600\n",
    "\n",
    "    varSelMod.optimize()\n",
    "    \n",
    "    #return the best betas found by Gurobi\n",
    "    return varSelMod.x[:m+1]"
   ]
  },
  {
   "cell_type": "code",
   "execution_count": 106,
   "id": "2d52456f",
   "metadata": {
    "scrolled": true
   },
   "outputs": [
    {
     "data": {
      "text/plain": [
       "[0.972524076551512,\n",
       " -3.637978807091713e-12,\n",
       " 0.0,\n",
       " 0.0,\n",
       " 0.0,\n",
       " 0.0,\n",
       " 0.0,\n",
       " 0.0,\n",
       " 0.0,\n",
       " -2.30820726193799,\n",
       " 0.0,\n",
       " 0.0,\n",
       " 0.0,\n",
       " 0.0,\n",
       " 0.0,\n",
       " -0.5183261233655834,\n",
       " -0.20416201346664947,\n",
       " 0.0,\n",
       " 0.0,\n",
       " 0.0,\n",
       " 0.0,\n",
       " 0.0,\n",
       " 0.0,\n",
       " -1.5591431785875267,\n",
       " 0.8669733628925481,\n",
       " 0.0,\n",
       " -1.3119194151232525,\n",
       " 0.0,\n",
       " 0.0,\n",
       " 0.0,\n",
       " 0.0,\n",
       " 0.0,\n",
       " 0.0,\n",
       " 0.0,\n",
       " 0.40816530330537165,\n",
       " 0.0,\n",
       " 0.0,\n",
       " 0.0,\n",
       " 0.0,\n",
       " 0.0,\n",
       " 0.0,\n",
       " 0.0,\n",
       " 0.0,\n",
       " 0.0,\n",
       " 0.0,\n",
       " 1.7814748910756226,\n",
       " 0.0,\n",
       " 0.8873829240134911,\n",
       " -0.28229212764185496,\n",
       " 0.0,\n",
       " 0.0]"
      ]
     },
     "execution_count": 106,
     "metadata": {},
     "output_type": "execute_result"
    }
   ],
   "source": [
    "#read the training data file\n",
    "train_data = pd.read_csv('training_data.csv')\n",
    "\n",
    "\n",
    "coefficients=get_betas(train_data, 10)\n",
    "coefficients"
   ]
  },
  {
   "cell_type": "markdown",
   "id": "9352b04a",
   "metadata": {},
   "source": [
    "## 2"
   ]
  },
  {
   "cell_type": "code",
   "execution_count": 20,
   "id": "d9ab4874",
   "metadata": {},
   "outputs": [],
   "source": [
    "k_level_errors={}\n",
    "\n",
    "#cross validation function\n",
    "def cross_validation(df):\n",
    "    \n",
    "    #define the values of k (number of variables we want to select from X) to loop through\n",
    "    start=5\n",
    "    end=51\n",
    "    steps= 5\n",
    "    \n",
    "    \n",
    "    for k in range(start,end,steps):\n",
    "        \n",
    "        #list for storing error values for every value of k\n",
    "        squared_err_list=[]\n",
    "        \n",
    "        #10 fold cv for every value of k\n",
    "        for folds in range(10):\n",
    "            \n",
    "            #get random indices from the data and generate the train and validation set for cross validation\n",
    "            validatn_idx=np.random.choice(range(0,len(df)),int(len(df)/10), replace=False)w\n",
    "            valid_data=df.iloc[validatn_idx]\n",
    "            train_data=df.drop(validatn_idx, axis=0)\n",
    "\n",
    "            X_valid= valid_data.drop(columns='y')\n",
    "            X_valid.insert(0, 'ones', 1)\n",
    "            X_valid_arr=np.array(X_valid)\n",
    "\n",
    "            y_valid=valid_data['y']\n",
    "            \n",
    "            #get the best coefficients for the training data\n",
    "            coefficients=get_betas(train_data,k)\n",
    "            \n",
    "            #get absolute error on validation set\n",
    "            error = (X_valid_arr @ coefficients) - y_valid\n",
    "            \n",
    "            #get sum of squared errors\n",
    "            squared_error = sum(error**2)\n",
    "            squared_err_list.append(squared_error)\n",
    "        \n",
    "        #append SSE for every value of k to the dictionary with key as the k value\n",
    "        k_level_errors[k]=sum(squared_err_list)\n",
    "        print('For k={}, the SSE is {}'.format(k,sum(squared_err_list)))\n",
    "    \n",
    "    #return the sum of squared errors for every value of k\n",
    "    return k_level_errors"
   ]
  },
  {
   "cell_type": "code",
   "execution_count": 21,
   "id": "d7c246ab",
   "metadata": {
    "scrolled": true
   },
   "outputs": [
    {
     "name": "stdout",
     "output_type": "stream",
     "text": [
      "For k=5, the SSE is 1032.7577333109411\n",
      "For k=10, the SSE is 659.5483098661165\n",
      "For k=15, the SSE is 758.0941765445439\n",
      "For k=20, the SSE is 953.5665755919529\n",
      "For k=25, the SSE is 808.6038991527558\n",
      "For k=30, the SSE is 846.875862138619\n",
      "For k=35, the SSE is 885.4049392107265\n",
      "For k=40, the SSE is 826.1504540882653\n",
      "For k=45, the SSE is 956.0798501276781\n",
      "For k=50, the SSE is 813.2790215268449\n"
     ]
    },
    {
     "data": {
      "text/plain": [
       "{5: 1032.7577333109411,\n",
       " 10: 659.5483098661165,\n",
       " 15: 758.0941765445439,\n",
       " 20: 953.5665755919529,\n",
       " 25: 808.6038991527558,\n",
       " 30: 846.875862138619,\n",
       " 35: 885.4049392107265,\n",
       " 40: 826.1504540882653,\n",
       " 45: 956.0798501276781,\n",
       " 50: 813.2790215268449}"
      ]
     },
     "execution_count": 21,
     "metadata": {},
     "output_type": "execute_result"
    }
   ],
   "source": [
    "k_level_errors=cross_validation(train_data)\n",
    "k_level_errors"
   ]
  },
  {
   "cell_type": "code",
   "execution_count": 32,
   "id": "bf564334",
   "metadata": {},
   "outputs": [
    {
     "data": {
      "text/plain": [
       "<AxesSubplot:xlabel='K Values', ylabel='SSE'>"
      ]
     },
     "execution_count": 32,
     "metadata": {},
     "output_type": "execute_result"
    },
    {
     "data": {
      "image/png": "[encoded data removed]",
      "text/plain": [
       "<Figure size 864x360 with 1 Axes>"
      ]
     },
     "metadata": {
      "needs_background": "light"
     },
     "output_type": "display_data"
    }
   ],
   "source": [
    "#k_vs_sse = dict(zip([5,10,15,20,25,30,35,40,45,50], k_level_errors))\n",
    "df_err=pd.DataFrame(k_level_errors.items(), columns=['k','SSE'])\n",
    "df_err.set_index('k').plot(kind='line', xlabel='K Values', ylabel= 'SSE', marker='.', figsize=(12,5))"
   ]
  },
  {
   "cell_type": "markdown",
   "id": "d5a0f6d9",
   "metadata": {},
   "source": [
    "## 3"
   ]
  },
  {
   "cell_type": "code",
   "execution_count": 33,
   "id": "8de62cef",
   "metadata": {},
   "outputs": [],
   "source": [
    "#read train data and get the beta values\n",
    "df_train = pd.read_csv('training_data.csv')\n",
    "\n",
    "#get best value of k\n",
    "optimal_k= min(k_level_errors, key=k_level_errors.get)\n",
    "\n",
    "#get coefficients for the training data for the above value of k\n",
    "coeffs=get_betas(df_train,optimal_k)"
   ]
  },
  {
   "cell_type": "code",
   "execution_count": 92,
   "id": "da28a650",
   "metadata": {},
   "outputs": [],
   "source": [
    "#read the test data from the file and form the X and y matrix for the test data\n",
    "test_data = pd.read_csv('test_data.csv')\n",
    "X_test= test_data.drop(columns='y')\n",
    "X_test.insert(0, 'ones', 1)\n",
    "X_test_arr=np.array(X_test)\n",
    "y_test_arr= np.array(test_data['y'])\n",
    "\n",
    "# get the absolute and sum of squared error on the test data\n",
    "test_error = (X_test_arr @ coeffs) - y_test_arr\n",
    "sse_gurobi = sum(test_error**2)"
   ]
  },
  {
   "cell_type": "code",
   "execution_count": 93,
   "id": "ac5a5996",
   "metadata": {},
   "outputs": [
    {
     "data": {
      "text/plain": [
       "116.82719822772683"
      ]
     },
     "execution_count": 93,
     "metadata": {},
     "output_type": "execute_result"
    }
   ],
   "source": [
    "sse_gurobi"
   ]
  },
  {
   "cell_type": "markdown",
   "id": "06920e4b",
   "metadata": {},
   "source": [
    "## 4. Lasso using sklearn"
   ]
  },
  {
   "cell_type": "code",
   "execution_count": 90,
   "id": "725a4e64",
   "metadata": {},
   "outputs": [
    {
     "name": "stdout",
     "output_type": "stream",
     "text": [
      "Best Value of lambda: 0.07638765995113514\n",
      "SSE on test data for Lasso: 117.48173795802899\n"
     ]
    }
   ],
   "source": [
    "from sklearn.linear_model import Lasso, LassoCV\n",
    "\n",
    "X_train=df_train.drop(columns='y')\n",
    "y_train= df_train['y']\n",
    "\n",
    "#using LassoCv to get the best lambda(regularization penalty) and training the data with this value\n",
    "lassocv = LassoCV(alphas = None, cv = 10)\n",
    "lassocv.fit(X_train, y_train)\n",
    "lasso=Lasso()\n",
    "lasso.set_params(alpha=lassocv.alpha_)\n",
    "lasso.fit(X_train, y_train)\n",
    "\n",
    "#predict on test data\n",
    "y_pred=lasso.predict(test_data.drop(columns='y'))\n",
    "y_test=test_data['y']\n",
    "\n",
    "#calculate SSE\n",
    "squared_test_error_lasso = sum((y_pred-y_test)**2)\n",
    "\n",
    "#print best lambda value\n",
    "print('Best Value of lambda:',lassocv.alpha_ )\n",
    "\n",
    "print('SSE on test data for Lasso:',squared_test_error_lasso)"
   ]
  },
  {
   "cell_type": "markdown",
   "id": "4294a77c",
   "metadata": {},
   "source": [
    "## Comparison of Coefficients from both the models"
   ]
  },
  {
   "cell_type": "code",
   "execution_count": 79,
   "id": "cf2d3d31",
   "metadata": {},
   "outputs": [
    {
     "data": {
      "image/png": "[encoded data removed]",
      "text/plain": [
       "<Figure size 1440x504 with 1 Axes>"
      ]
     },
     "metadata": {},
     "output_type": "display_data"
    },
    {
     "data": {
      "image/png": "[encoded data removed]",
      "text/plain": [
       "<Figure size 1440x504 with 1 Axes>"
      ]
     },
     "metadata": {},
     "output_type": "display_data"
    }
   ],
   "source": [
    "#create a df with the coefficients of every variable from both the models\n",
    "df_coeff=pd.DataFrame(\n",
    "    {\n",
    "        'Variables':X_train.columns,\n",
    "        'Gurobi Coefficients': coeffs[1:],\n",
    "     'Lasso Coefficients': lasso.coef_\n",
    "    })\n",
    "\n",
    "import seaborn as sns\n",
    "import matplotlib.pyplot as plt\n",
    "\n",
    "sns.set(rc={'figure.figsize':(20,7)})\n",
    "sns.barplot(data=df_coeff, x='Variables', y='Gurobi Coefficients')\n",
    "plt.show()\n",
    "sns.barplot(data=df_coeff, x='Variables', y='Lasso Coefficients')\n",
    "plt.show()"
   ]
  },
  {
   "cell_type": "markdown",
   "id": "430edfef",
   "metadata": {},
   "source": [
    "## Comparison of Errors from both the models"
   ]
  },
  {
   "cell_type": "code",
   "execution_count": 100,
   "id": "08f07270",
   "metadata": {},
   "outputs": [],
   "source": [
    "df_sse_error=pd.DataFrame(columns=['OLS with Gurobi Optimization', 'OLS'], index=['SSE'])\n",
    "df_mse_error=pd.DataFrame(columns=['OLS with Gurobi Optimization', 'OLS'], index=['MSE'])"
   ]
  },
  {
   "cell_type": "code",
   "execution_count": 101,
   "id": "a1d664b2",
   "metadata": {},
   "outputs": [],
   "source": [
    "df_sse_error.loc['SSE']=[sse_gurobi,squared_test_error_lasso]"
   ]
  },
  {
   "cell_type": "code",
   "execution_count": 102,
   "id": "2863744f",
   "metadata": {},
   "outputs": [
    {
     "data": {
      "text/html": [
       "<div>\n",
       "<style scoped>\n",
       "    .dataframe tbody tr th:only-of-type {\n",
       "        vertical-align: middle;\n",
       "    }\n",
       "\n",
       "    .dataframe tbody tr th {\n",
       "        vertical-align: top;\n",
       "    }\n",
       "\n",
       "    .dataframe thead th {\n",
       "        text-align: right;\n",
       "    }\n",
       "</style>\n",
       "<table border=\"1\" class=\"dataframe\">\n",
       "  <thead>\n",
       "    <tr style=\"text-align: right;\">\n",
       "      <th></th>\n",
       "      <th>OLS with Gurobi Optimization</th>\n",
       "      <th>OLS</th>\n",
       "    </tr>\n",
       "  </thead>\n",
       "  <tbody>\n",
       "    <tr>\n",
       "      <th>SSE</th>\n",
       "      <td>116.827198</td>\n",
       "      <td>117.481738</td>\n",
       "    </tr>\n",
       "  </tbody>\n",
       "</table>\n",
       "</div>"
      ],
      "text/plain": [
       "    OLS with Gurobi Optimization         OLS\n",
       "SSE                   116.827198  117.481738"
      ]
     },
     "execution_count": 102,
     "metadata": {},
     "output_type": "execute_result"
    }
   ],
   "source": [
    "df_sse_error"
   ]
  },
  {
   "cell_type": "code",
   "execution_count": null,
   "id": "a939f666",
   "metadata": {},
   "outputs": [],
   "source": []
  }
 ],
 "metadata": {
  "kernelspec": {
   "display_name": "Python 3 (ipykernel)",
   "language": "python",
   "name": "python3"
  },
  "language_info": {
   "codemirror_mode": {
    "name": "ipython",
    "version": 3
   },
   "file_extension": ".py",
   "mimetype": "text/x-python",
   "name": "python",
   "nbconvert_exporter": "python",
   "pygments_lexer": "ipython3",
   "version": "3.9.12"
  }
 },
 "nbformat": 4,
 "nbformat_minor": 5
}
