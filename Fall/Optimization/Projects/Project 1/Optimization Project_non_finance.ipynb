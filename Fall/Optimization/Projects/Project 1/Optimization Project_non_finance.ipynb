{
 "cells": [
  {
   "cell_type": "code",
   "execution_count": 2,
   "id": "2e43c677",
   "metadata": {},
   "outputs": [],
   "source": [
    "import numpy as np\n",
    "import gurobipy as gp"
   ]
  },
  {
   "cell_type": "code",
   "execution_count": 3,
   "id": "39fcd1ec",
   "metadata": {},
   "outputs": [
    {
     "name": "stdout",
     "output_type": "stream",
     "text": [
      "Set parameter Username\n",
      "Academic license - for non-commercial use only - expires 2023-09-14\n",
      "Max ROI :  0.45600000000000007\n",
      "\n",
      "print + tv+ seo + AdWords + Facebook + LinkedIN + INstagram + Snap + Twitter + Email:  [0. 3. 0. 1. 0. 0. 3. 0. 0. 3.]\n",
      "-------------------------------------------------------------------------------------------\n"
     ]
    }
   ],
   "source": [
    "obj = np.array([0.031,0.049,0.024,0.039,0.016,0.024,0.046,0.026,0.033,0.044]) # objective vector\n",
    "#0.031*print + 0.049*tv+ 0.024*seo + 0.039*AdWords + 0.016*Facebook + 0.024*LinkedIN + 0.046*INstagram + 0.026*Snap + 0.033*Twitter + 0.044*Email = OBJ\n",
    "A = np.zeros((13,10)) # initialize constraint matrix\n",
    "A[0,:] = [1,1,1,1,1,1,1,1,1,1] \n",
    "A[1,:] = [1,1,0,0,-1,0,0,0,0,-1] \n",
    "A[2,:] = [0,0,-2,-2,1,1,1,1,1,0]\n",
    "A[3,:] = [1,0,0,0,0,0,0,0,0,0]\n",
    "A[4,:] = [0,1,0,0,0,0,0,0,0,0]\n",
    "A[5,:] = [0,0,1,0,0,0,0,0,0,0]\n",
    "A[6,:] = [0,0,0,1,0,0,0,0,0,0]\n",
    "A[7,:] = [0,0,0,0,1,0,0,0,0,0]\n",
    "A[8,:] = [0,0,0,0,0,1,0,0,0,0]\n",
    "A[9,:] = [0,0,0,0,0,0,1,0,0,0]\n",
    "A[10,:] = [0,0,0,0,0,0,0,1,0,0]\n",
    "A[11,:] = [0,0,0,0,0,0,0,0,1,0]\n",
    "A[12,:] = [0,0,0,0,0,0,0,0,0,1]\n",
    "\n",
    "\n",
    "\n",
    "\n",
    "\n",
    "\n",
    "b = np.array([10,0,0,3,3,3,3,3,3,3,3,3,3]) # limits on production, storage, and demand\n",
    "sense = np.array(['<','<','>','<','<','<','<','<','<','<','<','<','<']) # all constraints are less than or equal constraints\n",
    "ojModel = gp.Model() # initialize an empty model\n",
    "\n",
    "ojModX = ojModel.addMVar(10) # tell the model how many variables there are\n",
    "# must define the variables before adding constraints because variables go into the constraints\n",
    "ojModCon = ojModel.addMConstrs(A, ojModX, sense, b) # add the constraints to the model\n",
    "ojModel.setMObjective(None,obj,0,sense=gp.GRB.MAXIMIZE) # add the objective to the model...we'll talk about the None and the 0\n",
    "\n",
    "ojModel.Params.OutputFlag = 0 # tell gurobi to shut up!!\n",
    "ojModel.Params.TimeLimit = 3600\n",
    "\n",
    "ojModel.optimize() # solve the LP\n",
    "\n",
    "print(\"Max ROI : \",ojModel.objVal) # optimal revenue level\n",
    "\n",
    "print(\"\\nprint + tv+ seo + AdWords + Facebook + LinkedIN + INstagram + Snap + Twitter + Email: \",ojModX.x) # how many (hundreds) to make of each size glass\n",
    "print(\"-------------------------------------------------------------------------------------------\")"
   ]
  },
  {
   "cell_type": "code",
   "execution_count": 4,
   "id": "4bb25202",
   "metadata": {},
   "outputs": [
    {
     "name": "stdout",
     "output_type": "stream",
     "text": [
      "Max ROI :  0.45600000000000007\n",
      "\n",
      "print + tv+ seo + AdWords + Facebook + LinkedIN + INstagram + Snap + Twitter + Email:  [3. 0. 0. 1. 3. 3. 0. 0. 0. 0.]\n",
      "-------------------------------------------------------------------------------------------\n"
     ]
    }
   ],
   "source": [
    "obj = np.array([0.049,0.023,0.024,0.039,0.044,0.046,0.026,0.019,0.037,0.026]) # objective vector\n",
    "#0.031*print + 0.049*tv+ 0.024*seo + 0.039*AdWords + 0.016*Facebook + 0.024*LinkedIN + 0.046*INstagram + 0.026*Snap + 0.033*Twitter + 0.044*Email = OBJ\n",
    "A = np.zeros((13,10)) # initialize constraint matrix\n",
    "A[0,:] = [1,1,1,1,1,1,1,1,1,1] \n",
    "A[1,:] = [1,1,0,0,-1,0,0,0,0,-1] \n",
    "A[2,:] = [0,0,-2,-2,1,1,1,1,1,0]\n",
    "A[3,:] = [1,0,0,0,0,0,0,0,0,0]\n",
    "A[4,:] = [0,1,0,0,0,0,0,0,0,0]\n",
    "A[5,:] = [0,0,1,0,0,0,0,0,0,0]\n",
    "A[6,:] = [0,0,0,1,0,0,0,0,0,0]\n",
    "A[7,:] = [0,0,0,0,1,0,0,0,0,0]\n",
    "A[8,:] = [0,0,0,0,0,1,0,0,0,0]\n",
    "A[9,:] = [0,0,0,0,0,0,1,0,0,0]\n",
    "A[10,:] = [0,0,0,0,0,0,0,1,0,0]\n",
    "A[11,:] = [0,0,0,0,0,0,0,0,1,0]\n",
    "A[12,:] = [0,0,0,0,0,0,0,0,0,1]\n",
    "\n",
    "\n",
    "\n",
    "\n",
    "\n",
    "\n",
    "b = np.array([10,0,0,3,3,3,3,3,3,3,3,3,3]) # limits on production, storage, and demand\n",
    "sense = np.array(['<','<','>','<','<','<','<','<','<','<','<','<','<']) # all constraints are less than or equal constraints\n",
    "ojModel = gp.Model() # initialize an empty model\n",
    "\n",
    "ojModX = ojModel.addMVar(10) # tell the model how many variables there are\n",
    "# must define the variables before adding constraints because variables go into the constraints\n",
    "ojModCon = ojModel.addMConstrs(A, ojModX, sense, b) # add the constraints to the model\n",
    "ojModel.setMObjective(None,obj,0,sense=gp.GRB.MAXIMIZE) # add the objective to the model...we'll talk about the None and the 0\n",
    "\n",
    "ojModel.Params.OutputFlag = 0 # tell gurobi to shut up!!\n",
    "ojModel.Params.TimeLimit = 3600\n",
    "\n",
    "ojModel.optimize() # solve the LP\n",
    "\n",
    "print(\"Max ROI : \",ojModel.objVal) # optimal revenue level\n",
    "\n",
    "print(\"\\nprint + tv+ seo + AdWords + Facebook + LinkedIN + INstagram + Snap + Twitter + Email: \",ojModX.x) # how many (hundreds) to make of each size glass\n",
    "print(\"-------------------------------------------------------------------------------------------\")"
   ]
  },
  {
   "cell_type": "markdown",
   "id": "c6b0e52f",
   "metadata": {},
   "source": [
    "Allocation 1: \n",
    "print + tv+ seo + AdWords + Facebook + LinkedIN + INstagram + Snap + Twitter + Email:  [0. 3. 0. 1. 0. 0. 3. 0. 0. 3.]\n",
    "Max ROI with Allocation 1 = $456,000\n",
    "\n",
    "Allocation 2:\n",
    "print + tv+ seo + AdWords + Facebook + LinkedIN + INstagram + Snap + Twitter + Email:  [3. 0. 0. 1. 3. 3. 0. 0. 0. 0.]\n",
    "Max ROI with Allocation 2 = $456,000\n",
    "\n",
    "Both Allocations would have an equal ROI.\n",
    "\n"
   ]
  },
  {
   "cell_type": "code",
   "execution_count": null,
   "id": "8275185c",
   "metadata": {},
   "outputs": [],
   "source": []
  }
 ],
 "metadata": {
  "kernelspec": {
   "display_name": "Python 3 (ipykernel)",
   "language": "python",
   "name": "python3"
  },
  "language_info": {
   "codemirror_mode": {
    "name": "ipython",
    "version": 3
   },
   "file_extension": ".py",
   "mimetype": "text/x-python",
   "name": "python",
   "nbconvert_exporter": "python",
   "pygments_lexer": "ipython3",
   "version": "3.9.12"
  }
 },
 "nbformat": 4,
 "nbformat_minor": 5
}
