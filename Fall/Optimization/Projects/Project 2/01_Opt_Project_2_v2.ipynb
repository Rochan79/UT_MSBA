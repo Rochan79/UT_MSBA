{
 "cells": [
  {
   "cell_type": "markdown",
   "metadata": {},
   "source": [
    "# Project 2 – Integer Programming: Optimization I\n",
    "## Index Tracking\n",
    "Date: November 4th, 2022\n",
    "### Group members:\n",
    "+ Nicolay Huarancay: nh23865\n",
    "+ Aishwarya Sarkar: as99646\n",
    "+ Benjamin Kanarick: bjk2437\n",
    "+ Rochan Nehete: rrn479\n",
    "***"
   ]
  },
  {
   "cell_type": "markdown",
   "metadata": {},
   "source": [
    "#### Modules"
   ]
  },
  {
   "cell_type": "code",
   "execution_count": 1,
   "metadata": {},
   "outputs": [],
   "source": [
    "import numpy as np\n",
    "import pandas as pd\n",
    "import gurobipy as gp\n",
    "from gurobipy import GRB"
   ]
  },
  {
   "cell_type": "markdown",
   "metadata": {},
   "source": [
    "## Setting: Time Limit --This number should be set!!"
   ]
  },
  {
   "cell_type": "code",
   "execution_count": 2,
   "metadata": {},
   "outputs": [],
   "source": [
    "# TIME LIMIT\n",
    "time_limit = 20"
   ]
  },
  {
   "cell_type": "markdown",
   "metadata": {},
   "source": [
    "## List of m's - description\n",
    "\n",
    "For a number of $n$ stocks. We create a list \"**lst_ms**\" with the logic:\n",
    "+ First element = 5\n",
    "+ Multiples of (step=10) from step to <= n. range(step,n,step)\n",
    "+ Last element = n\n",
    "\n",
    "\n",
    "```{python}\n",
    "lst_ms = [5] + [*range(step,n_stocks,step)] + [n_stocks] # The list depends on number of stocks and the step\n",
    "```\n"
   ]
  },
  {
   "cell_type": "code",
   "execution_count": 3,
   "metadata": {},
   "outputs": [
    {
     "data": {
      "text/plain": [
       "[5, 10, 20, 30, 40, 50, 60, 70, 80, 90, 100]"
      ]
     },
     "execution_count": 3,
     "metadata": {},
     "output_type": "execute_result"
    }
   ],
   "source": [
    "# Hard coding: List of m's\n",
    "n_stocks = 100\n",
    "step = 10\n",
    "lst_ms = [5] + [*range(step,n_stocks,step)] + [n_stocks] # The list depends on number of stocks and the step\n",
    "lst_ms"
   ]
  },
  {
   "cell_type": "code",
   "execution_count": null,
   "metadata": {},
   "outputs": [],
   "source": []
  },
  {
   "cell_type": "markdown",
   "metadata": {},
   "source": [
    "### Data"
   ]
  },
  {
   "cell_type": "code",
   "execution_count": 4,
   "metadata": {},
   "outputs": [],
   "source": [
    "df_stocks_train = pd.read_csv('stocks2019.csv') # Train\n",
    "df_stocks_oos = pd.read_csv('stocks2020.csv')   # Out of Sample"
   ]
  },
  {
   "cell_type": "markdown",
   "metadata": {},
   "source": [
    "### Setting: Date and Index column names\n",
    "Please edit the names of the columns (Date Column and Index Column )"
   ]
  },
  {
   "cell_type": "code",
   "execution_count": 5,
   "metadata": {},
   "outputs": [],
   "source": [
    "# Colum names\n",
    "col_date_name = 'X'\n",
    "col_index_name = 'NDX'\n",
    "\n",
    "#-------------------------------------------------------\n",
    "lst_drop = list([col_date_name,col_index_name])"
   ]
  },
  {
   "cell_type": "code",
   "execution_count": 6,
   "metadata": {},
   "outputs": [],
   "source": [
    "# Returns\n",
    "#---------------------------------------------------------------------------\n",
    "# Train - 2019\n",
    "df_returns_train = df_stocks_train.drop(lst_drop, axis=1).pct_change().dropna() # Returns all\n",
    "q = df_stocks_train[col_index_name].pct_change().dropna()\n",
    "\n",
    "# Out of Sample - 2020\n",
    "df_returns_oos = df_stocks_oos.drop(lst_drop, axis=1).pct_change().dropna()\n",
    "q_oos = df_stocks_oos[col_index_name].pct_change().dropna()\n",
    "\n",
    "# Correlation Matrix\n",
    "#---------------------------------------------------------------------------\n",
    "df_abs_corr_matrix = df_returns_train.corr()"
   ]
  },
  {
   "cell_type": "code",
   "execution_count": 7,
   "metadata": {},
   "outputs": [],
   "source": [
    "# Train - 2019\n",
    "#------------------------------------------------------\n",
    "# Number of Stocks\n",
    "n_stocks = len(df_abs_corr_matrix)\n",
    "\n",
    "# List of Stocks\n",
    "lst_stocks = df_abs_corr_matrix.columns.tolist()\n",
    "\n",
    "# Dictionaries of Correlation Matrix and Returns\n",
    "p = df_abs_corr_matrix.to_dict()\n",
    "r = df_returns_train.to_dict()\n",
    "\n",
    "# Dates range\n",
    "lst_dindex = q.index.values.tolist()\n",
    "\n",
    "# Out of Sample - 2020\n",
    "#------------------------------------------------------\n",
    "# Dictionaries\n",
    "r_oos = df_returns_oos.to_dict()\n",
    "\n",
    "# Dates range\n",
    "lst_dindex_oos = q_oos.index.values.tolist()"
   ]
  },
  {
   "cell_type": "code",
   "execution_count": null,
   "metadata": {},
   "outputs": [],
   "source": []
  },
  {
   "cell_type": "markdown",
   "metadata": {},
   "source": [
    "# Question 2"
   ]
  },
  {
   "cell_type": "markdown",
   "metadata": {},
   "source": [
    "### Stock Selection\n",
    "with m = 5"
   ]
  },
  {
   "cell_type": "code",
   "execution_count": 8,
   "metadata": {},
   "outputs": [],
   "source": [
    "def stock_selection(m):\n",
    "    #-------------------------------------------------------------------------\n",
    "    ## STOCK SELECTION\n",
    "    #-------------------------------------------------------------------------\n",
    "    # Model\n",
    "    mod = gp.Model()\n",
    "    mod.ModelSense = GRB.MAXIMIZE\n",
    "\n",
    "    # Decision Variables\n",
    "    x = mod.addVars(lst_stocks,lst_stocks,vtype=GRB.BINARY,name='x') \n",
    "    y = mod.addVars(lst_stocks,vtype=GRB.BINARY,name='y') \n",
    "\n",
    "    # First Constraints\n",
    "    mod.addConstr( sum(y[i] for i in lst_stocks) == m, \"m\")\n",
    "\n",
    "    # Second constrint\n",
    "    for i in lst_stocks:\n",
    "        mod.addConstr( sum(x[i,j] for j in lst_stocks) == 1, \"Mapping\")\n",
    "\n",
    "    # Third constraint\n",
    "    mod.addConstrs( (x[i,j] <= y[j] for i in lst_stocks for j in lst_stocks), \"Presence\")\n",
    "\n",
    "    # Objective Function\n",
    "    mod.setObjective( sum(p[i][j]*x[i,j] for i in lst_stocks for j in lst_stocks))\n",
    "\n",
    "    mod.Params.OutputFlag = 0\n",
    "    # Solve\n",
    "    mod.optimize()\n",
    "    \n",
    "    # Output Stocks\n",
    "    lst_x_output = []\n",
    "    for i in lst_stocks:\n",
    "        for j in lst_stocks:\n",
    "            if x[i,j].X == 1 and j not in lst_x_output:\n",
    "                lst_x_output.append(j)\n",
    "                \n",
    "    return mod, lst_x_output"
   ]
  },
  {
   "cell_type": "code",
   "execution_count": 9,
   "metadata": {},
   "outputs": [
    {
     "name": "stdout",
     "output_type": "stream",
     "text": [
      "Set parameter Username\n",
      "Academic license - for non-commercial use only - expires 2023-08-19\n"
     ]
    }
   ],
   "source": [
    "# Running Stock Selection\n",
    "mod, lst_x_output = stock_selection(m=5)"
   ]
  },
  {
   "cell_type": "code",
   "execution_count": 10,
   "metadata": {},
   "outputs": [
    {
     "data": {
      "text/plain": [
       "54.83990652229107"
      ]
     },
     "execution_count": 10,
     "metadata": {},
     "output_type": "execute_result"
    }
   ],
   "source": [
    "# Objective Value\n",
    "mod.objVal"
   ]
  },
  {
   "cell_type": "code",
   "execution_count": 11,
   "metadata": {},
   "outputs": [
    {
     "data": {
      "text/plain": [
       "['MSFT', 'VRTX', 'MXIM', 'LBTYK', 'XEL']"
      ]
     },
     "execution_count": 11,
     "metadata": {},
     "output_type": "execute_result"
    }
   ],
   "source": [
    "# Stocks Selected\n",
    "lst_x_output"
   ]
  },
  {
   "cell_type": "markdown",
   "metadata": {},
   "source": [
    "### Portfolio Weights\n",
    "with m = 5"
   ]
  },
  {
   "cell_type": "code",
   "execution_count": 12,
   "metadata": {},
   "outputs": [],
   "source": [
    "def portfolio_weights(m,lst_x_output):\n",
    "    #-------------------------------------------------------------------------\n",
    "    ## PORTFOLIO WEIGHTS\n",
    "    #-------------------------------------------------------------------------\n",
    "    # Model\n",
    "    w_mod = gp.Model()\n",
    "    w_mod.ModelSense = GRB.MINIMIZE\n",
    "\n",
    "    # Decision Variables\n",
    "    w = w_mod.addVars(lst_x_output,vtype=GRB.CONTINUOUS,ub=[1]*len(lst_x_output),name='w')\n",
    "    u = w_mod.addVars(lst_dindex,vtype=GRB.CONTINUOUS,name='u')\n",
    "\n",
    "    # Constraints\n",
    "    w_mod.addConstr( sum(w[i] for i in lst_x_output) == 1, \"sum_w\") #addition of weights should be 1\n",
    "    w_mod.addConstrs( (u[j] >=  (q[j] - sum(w[i]*r[i][j] for i in lst_x_output))  for j in lst_dindex), \"abs_value_1\" ) #1st constraint for absolute function for u\n",
    "    w_mod.addConstrs( (u[j] >= -(q[j] - sum(w[i]*r[i][j] for i in lst_x_output))  for j in lst_dindex), \"abs_value_2\" ) #2nd constraint for absolute function for u\n",
    "\n",
    "    # Objective Function\n",
    "    w_mod.setObjective( sum(u[j] for j in lst_dindex) )\n",
    "\n",
    "    w_mod.Params.OutputFlag = 0\n",
    "    w_mod.Params.TIME_LIMIT = time_limit\n",
    "    # Solve\n",
    "    w_mod.optimize()        \n",
    "\n",
    "    # Performance\n",
    "    # Calculating returns\n",
    "    # 2019\n",
    "    mod_ret = pd.Series(index=lst_dindex, dtype=float)\n",
    "    for j in lst_dindex:\n",
    "        mod_ret.loc[j] = sum(w[i].X*r[i][j] for i in lst_x_output)   \n",
    "        \n",
    "    # 2020\n",
    "    mod_ret_oos = pd.Series(index=lst_dindex_oos, dtype=float)\n",
    "    for j in lst_dindex_oos:\n",
    "        mod_ret_oos.loc[j] = sum(w[i].X*r_oos[i][j] for i in lst_x_output)  \n",
    "    \n",
    "    \n",
    "    # Saving Weights\n",
    "    weights_1 = pd.DataFrame(index=lst_stocks)\n",
    "    weights_1[f'm_{m}'] = np.nan\n",
    "    for i in lst_x_output:\n",
    "        weights_1[f'm_{m}'].loc[i] = w[i].X\n",
    "    weights_1 = weights_1[weights_1[f'm_{m}'].notna()]\n",
    "        \n",
    "    # Evaluation\n",
    "    abs_error_train = w_mod.objVal\n",
    "    abs_error_oos = sum(abs(q_oos-mod_ret_oos))\n",
    "        \n",
    "    return w_mod, weights_1, abs_error_train, abs_error_oos"
   ]
  },
  {
   "cell_type": "code",
   "execution_count": 13,
   "metadata": {},
   "outputs": [],
   "source": [
    "# Running Portfolio Weights Calculation\n",
    "w_mod, weights_1, abs_error_train, abs_error_oos = portfolio_weights(5,lst_x_output)"
   ]
  },
  {
   "cell_type": "code",
   "execution_count": 14,
   "metadata": {},
   "outputs": [
    {
     "data": {
      "text/plain": [
       "0.7891782824631471"
      ]
     },
     "execution_count": 14,
     "metadata": {},
     "output_type": "execute_result"
    }
   ],
   "source": [
    "# Objective Value (absolute error in Train)\n",
    "w_mod.objVal"
   ]
  },
  {
   "cell_type": "code",
   "execution_count": 15,
   "metadata": {},
   "outputs": [
    {
     "data": {
      "text/plain": [
       "0.8696699433741903"
      ]
     },
     "execution_count": 15,
     "metadata": {},
     "output_type": "execute_result"
    }
   ],
   "source": [
    "# Evaluation in Out of Sample(2020)\n",
    "abs_error_oos"
   ]
  },
  {
   "cell_type": "code",
   "execution_count": 16,
   "metadata": {},
   "outputs": [
    {
     "data": {
      "text/html": [
       "<div>\n",
       "<style scoped>\n",
       "    .dataframe tbody tr th:only-of-type {\n",
       "        vertical-align: middle;\n",
       "    }\n",
       "\n",
       "    .dataframe tbody tr th {\n",
       "        vertical-align: top;\n",
       "    }\n",
       "\n",
       "    .dataframe thead th {\n",
       "        text-align: right;\n",
       "    }\n",
       "</style>\n",
       "<table border=\"1\" class=\"dataframe\">\n",
       "  <thead>\n",
       "    <tr style=\"text-align: right;\">\n",
       "      <th></th>\n",
       "      <th>m_5</th>\n",
       "    </tr>\n",
       "  </thead>\n",
       "  <tbody>\n",
       "    <tr>\n",
       "      <th>LBTYK</th>\n",
       "      <td>0.048862</td>\n",
       "    </tr>\n",
       "    <tr>\n",
       "      <th>MXIM</th>\n",
       "      <td>0.210388</td>\n",
       "    </tr>\n",
       "    <tr>\n",
       "      <th>MSFT</th>\n",
       "      <td>0.580352</td>\n",
       "    </tr>\n",
       "    <tr>\n",
       "      <th>VRTX</th>\n",
       "      <td>0.071190</td>\n",
       "    </tr>\n",
       "    <tr>\n",
       "      <th>XEL</th>\n",
       "      <td>0.089208</td>\n",
       "    </tr>\n",
       "  </tbody>\n",
       "</table>\n",
       "</div>"
      ],
      "text/plain": [
       "            m_5\n",
       "LBTYK  0.048862\n",
       "MXIM   0.210388\n",
       "MSFT   0.580352\n",
       "VRTX   0.071190\n",
       "XEL    0.089208"
      ]
     },
     "execution_count": 16,
     "metadata": {},
     "output_type": "execute_result"
    }
   ],
   "source": [
    "# Portfolio Weights\n",
    "weights_1"
   ]
  },
  {
   "cell_type": "code",
   "execution_count": null,
   "metadata": {},
   "outputs": [],
   "source": []
  },
  {
   "cell_type": "markdown",
   "metadata": {},
   "source": [
    "# Question 3"
   ]
  },
  {
   "cell_type": "markdown",
   "metadata": {},
   "source": [
    "## First Approach: Stock Selection + Portfolio Weights\n",
    "Two Steps Solution. Redoing for the list: [5, 10, 20, 30, 40, 50, 60, 70, 80, 90, 100]"
   ]
  },
  {
   "cell_type": "code",
   "execution_count": 17,
   "metadata": {},
   "outputs": [
    {
     "data": {
      "text/html": [
       "<div>\n",
       "<style scoped>\n",
       "    .dataframe tbody tr th:only-of-type {\n",
       "        vertical-align: middle;\n",
       "    }\n",
       "\n",
       "    .dataframe tbody tr th {\n",
       "        vertical-align: top;\n",
       "    }\n",
       "\n",
       "    .dataframe thead th {\n",
       "        text-align: right;\n",
       "    }\n",
       "</style>\n",
       "<table border=\"1\" class=\"dataframe\">\n",
       "  <thead>\n",
       "    <tr style=\"text-align: right;\">\n",
       "      <th></th>\n",
       "      <th>m</th>\n",
       "      <th>#stocks</th>\n",
       "      <th>objVal_corr</th>\n",
       "      <th>objVal_train</th>\n",
       "      <th>rmse_train</th>\n",
       "      <th>objVal_oos</th>\n",
       "      <th>rmse_oos</th>\n",
       "    </tr>\n",
       "  </thead>\n",
       "  <tbody>\n",
       "    <tr>\n",
       "      <th>1</th>\n",
       "      <td>5</td>\n",
       "      <td>5</td>\n",
       "      <td>54.839907</td>\n",
       "      <td>0.789178</td>\n",
       "      <td>0.004400</td>\n",
       "      <td>0.869670</td>\n",
       "      <td>0.006565</td>\n",
       "    </tr>\n",
       "    <tr>\n",
       "      <th>2</th>\n",
       "      <td>10</td>\n",
       "      <td>10</td>\n",
       "      <td>59.331930</td>\n",
       "      <td>0.686533</td>\n",
       "      <td>0.003731</td>\n",
       "      <td>0.831317</td>\n",
       "      <td>0.006127</td>\n",
       "    </tr>\n",
       "    <tr>\n",
       "      <th>3</th>\n",
       "      <td>20</td>\n",
       "      <td>20</td>\n",
       "      <td>66.648075</td>\n",
       "      <td>0.478836</td>\n",
       "      <td>0.002653</td>\n",
       "      <td>0.652338</td>\n",
       "      <td>0.004868</td>\n",
       "    </tr>\n",
       "    <tr>\n",
       "      <th>4</th>\n",
       "      <td>30</td>\n",
       "      <td>30</td>\n",
       "      <td>72.696797</td>\n",
       "      <td>0.418015</td>\n",
       "      <td>0.002399</td>\n",
       "      <td>0.549085</td>\n",
       "      <td>0.004422</td>\n",
       "    </tr>\n",
       "    <tr>\n",
       "      <th>5</th>\n",
       "      <td>40</td>\n",
       "      <td>40</td>\n",
       "      <td>78.259157</td>\n",
       "      <td>0.370517</td>\n",
       "      <td>0.002157</td>\n",
       "      <td>0.587312</td>\n",
       "      <td>0.004433</td>\n",
       "    </tr>\n",
       "    <tr>\n",
       "      <th>6</th>\n",
       "      <td>50</td>\n",
       "      <td>50</td>\n",
       "      <td>83.316268</td>\n",
       "      <td>0.332540</td>\n",
       "      <td>0.001968</td>\n",
       "      <td>0.581148</td>\n",
       "      <td>0.004327</td>\n",
       "    </tr>\n",
       "    <tr>\n",
       "      <th>7</th>\n",
       "      <td>60</td>\n",
       "      <td>60</td>\n",
       "      <td>87.877505</td>\n",
       "      <td>0.344890</td>\n",
       "      <td>0.002046</td>\n",
       "      <td>0.819424</td>\n",
       "      <td>0.005887</td>\n",
       "    </tr>\n",
       "    <tr>\n",
       "      <th>8</th>\n",
       "      <td>70</td>\n",
       "      <td>70</td>\n",
       "      <td>92.062402</td>\n",
       "      <td>0.169824</td>\n",
       "      <td>0.001012</td>\n",
       "      <td>0.402497</td>\n",
       "      <td>0.002874</td>\n",
       "    </tr>\n",
       "    <tr>\n",
       "      <th>9</th>\n",
       "      <td>80</td>\n",
       "      <td>80</td>\n",
       "      <td>95.728853</td>\n",
       "      <td>0.147683</td>\n",
       "      <td>0.000884</td>\n",
       "      <td>0.386431</td>\n",
       "      <td>0.002794</td>\n",
       "    </tr>\n",
       "    <tr>\n",
       "      <th>10</th>\n",
       "      <td>90</td>\n",
       "      <td>90</td>\n",
       "      <td>98.517121</td>\n",
       "      <td>0.053779</td>\n",
       "      <td>0.000350</td>\n",
       "      <td>0.247582</td>\n",
       "      <td>0.001879</td>\n",
       "    </tr>\n",
       "    <tr>\n",
       "      <th>11</th>\n",
       "      <td>100</td>\n",
       "      <td>100</td>\n",
       "      <td>100.000000</td>\n",
       "      <td>0.044911</td>\n",
       "      <td>0.000299</td>\n",
       "      <td>0.249936</td>\n",
       "      <td>0.001899</td>\n",
       "    </tr>\n",
       "  </tbody>\n",
       "</table>\n",
       "</div>"
      ],
      "text/plain": [
       "      m  #stocks  objVal_corr  objVal_train  rmse_train  objVal_oos  rmse_oos\n",
       "1     5        5    54.839907      0.789178    0.004400    0.869670  0.006565\n",
       "2    10       10    59.331930      0.686533    0.003731    0.831317  0.006127\n",
       "3    20       20    66.648075      0.478836    0.002653    0.652338  0.004868\n",
       "4    30       30    72.696797      0.418015    0.002399    0.549085  0.004422\n",
       "5    40       40    78.259157      0.370517    0.002157    0.587312  0.004433\n",
       "6    50       50    83.316268      0.332540    0.001968    0.581148  0.004327\n",
       "7    60       60    87.877505      0.344890    0.002046    0.819424  0.005887\n",
       "8    70       70    92.062402      0.169824    0.001012    0.402497  0.002874\n",
       "9    80       80    95.728853      0.147683    0.000884    0.386431  0.002794\n",
       "10   90       90    98.517121      0.053779    0.000350    0.247582  0.001879\n",
       "11  100      100   100.000000      0.044911    0.000299    0.249936  0.001899"
      ]
     },
     "execution_count": 17,
     "metadata": {},
     "output_type": "execute_result"
    }
   ],
   "source": [
    "dict_m = {}\n",
    "dict_s = {}\n",
    "dict_objVal_corr = {}\n",
    "dict_objVal_train = {}\n",
    "dict_rmse_train = {}\n",
    "dict_objVal_test = {}\n",
    "dict_rmse_test = {}\n",
    "#dict_lstocks = {}\n",
    "returns_train_1 = pd.DataFrame({col_date_name:df_stocks_train[col_date_name], col_index_name:q})\n",
    "returns_oos_1 = pd.DataFrame({col_date_name:df_stocks_oos[col_date_name], col_index_name:q_oos})\n",
    "weights_1 = pd.DataFrame(index=df_abs_corr_matrix.index)\n",
    "k = 0\n",
    "\n",
    "#lst_ms = [5] + [*range(step,n_stocks,step)] + [n_stocks] # The list depends on number of stocks and the step\n",
    "\n",
    "for m in lst_ms:\n",
    "    \n",
    "    #-------------------------------------------------------------------------\n",
    "    ## STOCK SELECTION\n",
    "    #-------------------------------------------------------------------------\n",
    "    # Model\n",
    "    mod = gp.Model()\n",
    "    mod.ModelSense = GRB.MAXIMIZE\n",
    "\n",
    "    # Decision Variables\n",
    "    x = mod.addVars(lst_stocks,lst_stocks,vtype=GRB.BINARY,name='x')\n",
    "    y = mod.addVars(lst_stocks,vtype=GRB.BINARY,name='y')\n",
    "\n",
    "    # First Constraints\n",
    "    mod.addConstr( sum(y[i] for i in lst_stocks) == m, \"m\")\n",
    "\n",
    "    # Second constrint\n",
    "    for i in lst_stocks:\n",
    "        mod.addConstr( sum(x[i,j] for j in lst_stocks) == 1, \"Mapping\")\n",
    "\n",
    "    # Third constraint\n",
    "    mod.addConstrs( (x[i,j] <= y[j] for i in lst_stocks for j in lst_stocks), \"Presence\")\n",
    "\n",
    "    # Objective Function\n",
    "    mod.setObjective( sum(p[i][j]*x[i,j] for i in lst_stocks for j in lst_stocks))\n",
    "\n",
    "    mod.Params.OutputFlag = 0\n",
    "    # Solve\n",
    "    mod.optimize()\n",
    "\n",
    "    # Output Stocks\n",
    "    lst_x_output = []\n",
    "    for i in lst_stocks:\n",
    "        for j in lst_stocks:\n",
    "            if x[i,j].X == 1 and j not in lst_x_output:\n",
    "                lst_x_output.append(j)\n",
    "\n",
    "                \n",
    "    #-------------------------------------------------------------------------\n",
    "    ## PORTFOLIO WEIGHTS\n",
    "    #-------------------------------------------------------------------------\n",
    "    # Model\n",
    "    w_mod = gp.Model()\n",
    "    w_mod.ModelSense = GRB.MINIMIZE\n",
    "\n",
    "    # Decision Variables\n",
    "    w = w_mod.addVars(lst_x_output,vtype=GRB.CONTINUOUS,ub=[1]*len(lst_x_output),name='w')\n",
    "    u = w_mod.addVars(lst_dindex,vtype=GRB.CONTINUOUS,name='u')\n",
    "\n",
    "    # Constraints\n",
    "    w_mod.addConstr( sum(w[i] for i in lst_x_output) == 1, \"sum_w\")\n",
    "    w_mod.addConstrs( (u[j] >=  (q[j] - sum(w[i]*r[i][j] for i in lst_x_output))  for j in lst_dindex), \"abs_value_1\" )\n",
    "    w_mod.addConstrs( (u[j] >= -(q[j] - sum(w[i]*r[i][j] for i in lst_x_output))  for j in lst_dindex), \"abs_value_2\" )\n",
    "\n",
    "    # Objective Function\n",
    "    w_mod.setObjective( sum(u[j] for j in lst_dindex) )\n",
    "\n",
    "    w_mod.Params.OutputFlag = 0\n",
    "    w_mod.Params.TIME_LIMIT = time_limit\n",
    "    # Solve\n",
    "    w_mod.optimize()        \n",
    "\n",
    "    # Performance\n",
    "    mod_ret = pd.Series(index=lst_dindex, dtype=float)\n",
    "    for j in lst_dindex:\n",
    "        mod_ret.loc[j] = sum(w[i].X*r[i][j] for i in lst_x_output)   \n",
    "        \n",
    "    mod_ret_oos = pd.Series(index=lst_dindex_oos, dtype=float)\n",
    "    for j in lst_dindex_oos:\n",
    "        mod_ret_oos.loc[j] = sum(w[i].X*r_oos[i][j] for i in lst_x_output)  \n",
    "    \n",
    "    # Saving returns of Portfolios\n",
    "    returns_train_1[f'm_{m}'] = mod_ret\n",
    "    returns_oos_1[f'm_{m}'] = mod_ret_oos\n",
    "    \n",
    "    # Saving Weights\n",
    "    weights_1[f'm_{m}'] = np.nan\n",
    "    for i in lst_x_output:\n",
    "        weights_1[f'm_{m}'].loc[i] = w[i].X\n",
    "    \n",
    "    # Results for the table below\n",
    "    k+=1\n",
    "    dict_m[k] = m\n",
    "    dict_s[k] = len(lst_x_output)\n",
    "    dict_objVal_corr[k] = mod.objVal\n",
    "    dict_objVal_train[k] = w_mod.objVal\n",
    "    dict_rmse_train[k] = (((q-mod_ret)**2).mean())**.5\n",
    "    dict_objVal_test[k] = sum(abs(q_oos-mod_ret_oos))\n",
    "    dict_rmse_test[k] = (((q_oos-mod_ret_oos)**2).mean())**.5\n",
    "    #dict_lstocks[k] = lst_x_output\n",
    "    \n",
    "\n",
    "# Aggregated Results\n",
    "results_1 = pd.DataFrame({'m':dict_m, '#stocks':dict_s, 'objVal_corr':dict_objVal_corr, \n",
    "                          'objVal_train':dict_objVal_train, 'rmse_train':dict_rmse_train, \n",
    "                          'objVal_oos':dict_objVal_test, 'rmse_oos':dict_rmse_test})\n",
    "\n",
    "# Saving Outputs\n",
    "results_1.to_csv('01_1_results_2steps_approach.csv', index=False)\n",
    "returns_train_1.to_csv('01_2_returns_2steps_train_portfolios.csv', index=False)\n",
    "returns_oos_1.to_csv('01_3_returns_2steps_oos_portfolios.csv', index=False)\n",
    "weights_1.to_csv('01_4_weights_2steps_approach.csv')\n",
    "results_1"
   ]
  },
  {
   "cell_type": "code",
   "execution_count": null,
   "metadata": {
    "id": "jT0YMtZK2j0X"
   },
   "outputs": [],
   "source": []
  },
  {
   "cell_type": "markdown",
   "metadata": {},
   "source": [
    "# Question 4"
   ]
  },
  {
   "cell_type": "markdown",
   "metadata": {},
   "source": [
    "## Second Approach: Portfolio Weights and Stocks directly\n",
    "MIP Solution"
   ]
  },
  {
   "cell_type": "markdown",
   "metadata": {},
   "source": [
    "## Alert!! This step takes a lot of time if you have not set the Time Limit well"
   ]
  },
  {
   "cell_type": "code",
   "execution_count": null,
   "metadata": {
    "id": "7oC0CqTL2j0X",
    "outputId": "c9736c81-3eec-4c05-c829-638ba60462a0"
   },
   "outputs": [
    {
     "name": "stdout",
     "output_type": "stream",
     "text": [
      "  m: 5 - Time: 60.01 minutes\n",
      "  m: 10 - Time: 60.01 minutes\n",
      "  m: 20 - Time: 60.02 minutes\n",
      "  m: 30 - Time: 60.01 minutes\n",
      "  m: 40 - Time: 60.01 minutes\n",
      "  m: 50 - Time: 60.01 minutes\n",
      "  m: 60 - Time: 60.01 minutes\n",
      "  m: 70 - Time: 60.01 minutes\n",
      "  m: 80 - Time: 1.71 minutes\n",
      "  m: 90 - Time: 0.03 minutes\n",
      "  m: 100 - Time: 0.01 minutes\n"
     ]
    },
    {
     "data": {
      "text/html": [
       "<div>\n",
       "<style scoped>\n",
       "    .dataframe tbody tr th:only-of-type {\n",
       "        vertical-align: middle;\n",
       "    }\n",
       "\n",
       "    .dataframe tbody tr th {\n",
       "        vertical-align: top;\n",
       "    }\n",
       "\n",
       "    .dataframe thead th {\n",
       "        text-align: right;\n",
       "    }\n",
       "</style>\n",
       "<table border=\"1\" class=\"dataframe\">\n",
       "  <thead>\n",
       "    <tr style=\"text-align: right;\">\n",
       "      <th></th>\n",
       "      <th>m</th>\n",
       "      <th>#stocks</th>\n",
       "      <th>objVal_train</th>\n",
       "      <th>rmse_train</th>\n",
       "      <th>objVal_oos</th>\n",
       "      <th>rmse_oos</th>\n",
       "    </tr>\n",
       "  </thead>\n",
       "  <tbody>\n",
       "    <tr>\n",
       "      <th>1</th>\n",
       "      <td>5</td>\n",
       "      <td>5</td>\n",
       "      <td>0.499259</td>\n",
       "      <td>0.002859</td>\n",
       "      <td>0.591398</td>\n",
       "      <td>0.004353</td>\n",
       "    </tr>\n",
       "    <tr>\n",
       "      <th>2</th>\n",
       "      <td>10</td>\n",
       "      <td>10</td>\n",
       "      <td>0.303673</td>\n",
       "      <td>0.001612</td>\n",
       "      <td>0.470866</td>\n",
       "      <td>0.003525</td>\n",
       "    </tr>\n",
       "    <tr>\n",
       "      <th>3</th>\n",
       "      <td>20</td>\n",
       "      <td>20</td>\n",
       "      <td>0.164830</td>\n",
       "      <td>0.000928</td>\n",
       "      <td>0.437215</td>\n",
       "      <td>0.003156</td>\n",
       "    </tr>\n",
       "    <tr>\n",
       "      <th>4</th>\n",
       "      <td>30</td>\n",
       "      <td>30</td>\n",
       "      <td>0.109360</td>\n",
       "      <td>0.000618</td>\n",
       "      <td>0.320199</td>\n",
       "      <td>0.002279</td>\n",
       "    </tr>\n",
       "    <tr>\n",
       "      <th>5</th>\n",
       "      <td>40</td>\n",
       "      <td>40</td>\n",
       "      <td>0.078134</td>\n",
       "      <td>0.000460</td>\n",
       "      <td>0.276861</td>\n",
       "      <td>0.002081</td>\n",
       "    </tr>\n",
       "    <tr>\n",
       "      <th>6</th>\n",
       "      <td>50</td>\n",
       "      <td>50</td>\n",
       "      <td>0.061592</td>\n",
       "      <td>0.000410</td>\n",
       "      <td>0.266989</td>\n",
       "      <td>0.001988</td>\n",
       "    </tr>\n",
       "    <tr>\n",
       "      <th>7</th>\n",
       "      <td>60</td>\n",
       "      <td>60</td>\n",
       "      <td>0.052299</td>\n",
       "      <td>0.000337</td>\n",
       "      <td>0.255418</td>\n",
       "      <td>0.001934</td>\n",
       "    </tr>\n",
       "    <tr>\n",
       "      <th>8</th>\n",
       "      <td>70</td>\n",
       "      <td>70</td>\n",
       "      <td>0.047529</td>\n",
       "      <td>0.000309</td>\n",
       "      <td>0.252523</td>\n",
       "      <td>0.001948</td>\n",
       "    </tr>\n",
       "    <tr>\n",
       "      <th>9</th>\n",
       "      <td>80</td>\n",
       "      <td>80</td>\n",
       "      <td>0.045227</td>\n",
       "      <td>0.000296</td>\n",
       "      <td>0.249124</td>\n",
       "      <td>0.001894</td>\n",
       "    </tr>\n",
       "    <tr>\n",
       "      <th>10</th>\n",
       "      <td>90</td>\n",
       "      <td>88</td>\n",
       "      <td>0.044911</td>\n",
       "      <td>0.000299</td>\n",
       "      <td>0.249943</td>\n",
       "      <td>0.001899</td>\n",
       "    </tr>\n",
       "    <tr>\n",
       "      <th>11</th>\n",
       "      <td>100</td>\n",
       "      <td>88</td>\n",
       "      <td>0.044911</td>\n",
       "      <td>0.000299</td>\n",
       "      <td>0.249936</td>\n",
       "      <td>0.001899</td>\n",
       "    </tr>\n",
       "  </tbody>\n",
       "</table>\n",
       "</div>"
      ],
      "text/plain": [
       "      m  #stocks  objVal_train  rmse_train  objVal_oos  rmse_oos\n",
       "1     5        5      0.499259    0.002859    0.591398  0.004353\n",
       "2    10       10      0.303673    0.001612    0.470866  0.003525\n",
       "3    20       20      0.164830    0.000928    0.437215  0.003156\n",
       "4    30       30      0.109360    0.000618    0.320199  0.002279\n",
       "5    40       40      0.078134    0.000460    0.276861  0.002081\n",
       "6    50       50      0.061592    0.000410    0.266989  0.001988\n",
       "7    60       60      0.052299    0.000337    0.255418  0.001934\n",
       "8    70       70      0.047529    0.000309    0.252523  0.001948\n",
       "9    80       80      0.045227    0.000296    0.249124  0.001894\n",
       "10   90       88      0.044911    0.000299    0.249943  0.001899\n",
       "11  100       88      0.044911    0.000299    0.249936  0.001899"
      ]
     },
     "execution_count": 8,
     "metadata": {},
     "output_type": "execute_result"
    }
   ],
   "source": [
    "import time\n",
    "dict_m = {}\n",
    "dict_s = {}\n",
    "dict_objVal_train = {}\n",
    "dict_rmse_train = {}\n",
    "dict_objVal_test = {}\n",
    "dict_rmse_test = {}\n",
    "returns_train_2 = pd.DataFrame({col_date_name:df_stocks_train[col_date_name], col_index_name:q})\n",
    "returns_oos_2 = pd.DataFrame({col_date_name:df_stocks_oos[col_date_name], col_index_name:q_oos})\n",
    "weights_2 = pd.DataFrame(index=df_abs_corr_matrix.index)\n",
    "k = 0\n",
    "bigM = 1\n",
    "\n",
    "#lst_ms = [5,10,20,30,40,50,60,70,80,90,100]\n",
    "lst_ms = [5] + [*range(10,n_stocks,10)] + [n_stocks] # The list depends on number of stocks\n",
    "\n",
    "for m in lst_ms:\n",
    "\n",
    "    start = time.time()\n",
    "\n",
    "    # Model\n",
    "    w2_mod = gp.Model()\n",
    "    w2_mod.ModelSense = GRB.MINIMIZE\n",
    "\n",
    "    # Decision Variables\n",
    "    w = w2_mod.addVars(lst_stocks,vtype=GRB.CONTINUOUS,ub=[1]*len(lst_stocks),name='w')\n",
    "    y = w2_mod.addVars(lst_stocks,vtype=GRB.BINARY,name='y')\n",
    "    u = w2_mod.addVars(lst_dindex,vtype=GRB.CONTINUOUS,name='u')\n",
    "\n",
    "    # Constraint\n",
    "    w2_mod.addConstr( sum(w[i] for i in lst_stocks) == 1, \"sum_w\")\n",
    "    w2_mod.addConstrs( (u[j] >=  (q[j] - sum(w[i]*r[i][j] for i in lst_stocks))  for j in lst_dindex), \"abs_value_1\" )\n",
    "    w2_mod.addConstrs( (u[j] >= -(q[j] - sum(w[i]*r[i][j] for i in lst_stocks))  for j in lst_dindex), \"abs_value_2\" )\n",
    "    w2_mod.addConstrs( (w[i] <= y[i]*bigM for i in lst_stocks), \"force_w0_y0\")\n",
    "    w2_mod.addConstr( sum(y[i] for i in lst_stocks) == m, \"m\")\n",
    "\n",
    "    # Objective Function\n",
    "    w2_mod.setObjective( sum(u[j] for j in lst_dindex) )\n",
    "\n",
    "    w2_mod.Params.OutputFlag = 0\n",
    "    w2_mod.Params.TIME_LIMIT = time_limit\n",
    "    \n",
    "    # Solve\n",
    "    w2_mod.optimize()\n",
    "    \n",
    "    # Performance\n",
    "    mod_ret = pd.Series(index=lst_dindex, dtype=float)\n",
    "    for j in lst_dindex:\n",
    "        mod_ret.loc[j] = sum(w[i].X*r[i][j] for i in lst_stocks)  \n",
    "    \n",
    "    mod_ret_oos = pd.Series(index=lst_dindex_oos, dtype=float)\n",
    "    for j in lst_dindex_oos:\n",
    "        mod_ret_oos.loc[j] = sum(w[i].X*r_oos[i][j] for i in lst_stocks)  \n",
    "    \n",
    "    # Saving returns of Portfolios\n",
    "    returns_train_2[f'm_{m}'] = mod_ret\n",
    "    returns_oos_2[f'm_{m}'] = mod_ret_oos\n",
    "\n",
    "    # Saving Weights\n",
    "    weights_2[f'm_{m}'] = np.nan\n",
    "    for i in lst_stocks:\n",
    "        weights_2[f'm_{m}'].loc[i] = w[i].X\n",
    "        \n",
    "    end = time.time()\n",
    "    \n",
    "    # Results\n",
    "    k+=1\n",
    "    dict_m[k] = m\n",
    "    dict_s[k] = sum([1 for i in lst_stocks if w[i].X>0])\n",
    "    dict_objVal_train[k] = w2_mod.objVal\n",
    "    dict_rmse_train[k] = (((q-mod_ret)**2).mean())**.5\n",
    "    dict_objVal_test[k] = sum(abs(q_oos-mod_ret_oos))\n",
    "    dict_rmse_test[k] = (((q_oos-mod_ret_oos)**2).mean())**.5\n",
    "    \n",
    "    print('  m: {} - Time: {:.2f} minutes'.format(m,(end-start)/60))\n",
    "    \n",
    "\n",
    "# Aggregated Results\n",
    "results_2 = pd.DataFrame({'m':dict_m, '#stocks':dict_s, \n",
    "                          'objVal_train':dict_objVal_train, 'rmse_train':dict_rmse_train, \n",
    "                          'objVal_oos':dict_objVal_test, 'rmse_oos':dict_rmse_test})\n",
    "\n",
    "# Saving Outputs\n",
    "results_2.to_csv('02_1_results_MIP_approach.csv', index=False)\n",
    "returns_train_2.to_csv('02_2_returns_MIP_train_portfolios.csv', index=False)\n",
    "returns_oos_2.to_csv('02_3_returns_MIP_oos_portfolios.csv', index=False)\n",
    "weights_2.to_csv('02_4_weights_MIP_approach.csv')\n",
    "results_2"
   ]
  },
  {
   "cell_type": "code",
   "execution_count": null,
   "metadata": {
    "id": "sDWz65LD2j0Y"
   },
   "outputs": [],
   "source": []
  },
  {
   "cell_type": "markdown",
   "metadata": {},
   "source": [
    "## Analysis\n",
    "2 Step Approach"
   ]
  },
  {
   "cell_type": "code",
   "execution_count": 18,
   "metadata": {},
   "outputs": [],
   "source": [
    "# Data\n",
    "results_1 = pd.read_csv('01_1_results_2steps_approach.csv')\n",
    "returns_train_1 = pd.read_csv('01_2_returns_2steps_train_portfolios.csv')\n",
    "returns_oos_1 = pd.read_csv('01_3_returns_2steps_oos_portfolios.csv')\n",
    "weights_1 = pd.read_csv('01_4_weights_2steps_approach.csv', index_col=0)"
   ]
  },
  {
   "cell_type": "code",
   "execution_count": 20,
   "metadata": {},
   "outputs": [
    {
     "data": {
      "image/png": "[encoded data removed]",
      "text/plain": [
       "<Figure size 864x360 with 2 Axes>"
      ]
     },
     "metadata": {
      "needs_background": "light"
     },
     "output_type": "display_data"
    }
   ],
   "source": [
    "import matplotlib.pyplot as plt\n",
    "\n",
    "m = 5\n",
    "\n",
    "min_d = min(returns_train_1[f'm_{m}'].min(),returns_oos_1[f'm_{m}'].min())\n",
    "max_d = max(returns_train_1[f'm_{m}'].max(),returns_oos_1[f'm_{m}'].max())\n",
    "txt1 = results_1[results_1['m']==m]['objVal_train'].values[0]\n",
    "txt2 = results_1[results_1['m']==m]['rmse_train'].values[0]\n",
    "txt3 = results_1[results_1['m']==m]['objVal_oos'].values[0]\n",
    "txt4 = results_1[results_1['m']==m]['rmse_oos'].values[0]\n",
    "\n",
    "# Plot\n",
    "fig, (ax1, ax2) = plt.subplots(1, 2, figsize=(12,5))\n",
    "fig.suptitle(f'Portfolio Vs Index Returns - m = {m}', fontsize=16)\n",
    "\n",
    "#graph for 2019 showing portfolio returns and index returns\n",
    "ax1.scatter(returns_train_1['m_5'],returns_train_1[col_index_name])\n",
    "ax1.plot([min_d, max_d], [min_d, max_d], 'r-', lw=1,dashes=[2, 2])\n",
    "ax1.text(max_d-.1, max_d-0.01, 'ObjVal (TAE) = {0:.3f}'.format(txt1), horizontalalignment='left')\n",
    "ax1.text(max_d-.1, max_d-0.03, 'RMSE = {0:.3f}'.format(txt2), horizontalalignment='left')\n",
    "ax1.set_ylabel('Index Returns')\n",
    "ax1.set_xlabel('Portfolio Returns')\n",
    "ax1.set_title('Train - 2019')\n",
    "\n",
    "#graph for 2020 showing portfolio returns and index returns\n",
    "\n",
    "ax2.scatter(returns_oos_1['m_5'],returns_oos_1[col_index_name])\n",
    "ax2.plot([min_d, max_d], [min_d, max_d], 'r-', lw=1,dashes=[2, 2])\n",
    "ax2.text(max_d-.1, max_d-0.01, 'TAE (ObjVal) = {0:.3f}'.format(txt3), horizontalalignment='left')\n",
    "ax2.text(max_d-.1, max_d-0.03, 'RMSE = {0:.3f}'.format(txt4), horizontalalignment='left')\n",
    "ax2.set_ylabel('Index Returns')\n",
    "ax2.set_xlabel('Portfolio Returns')\n",
    "ax2.set_title('Out of Sample - 2020')\n",
    "plt.show()"
   ]
  },
  {
   "cell_type": "code",
   "execution_count": 21,
   "metadata": {},
   "outputs": [
    {
     "data": {
      "image/png": "[encoded data removed]",
      "text/plain": [
       "<Figure size 720x360 with 1 Axes>"
      ]
     },
     "metadata": {
      "needs_background": "light"
     },
     "output_type": "display_data"
    }
   ],
   "source": [
    "# Objective Val - 2steps Approach:\n",
    "\n",
    "# graph comparing 2019 and 2020 Total absolute errors for different number of stocks\n",
    "plt.figure(figsize=(10,5))\n",
    "plt.plot(results_1['m'],results_1['objVal_train'], marker='p', label='train - 2019')\n",
    "plt.plot(results_1['m'],results_1['objVal_oos'], marker='p', label='out of sample - 2020')\n",
    "plt.xticks(results_1['m'].tolist())\n",
    "plt.axvspan(85, 95, color='g', alpha=0.15)\n",
    "plt.title('Total Absolute Error per # of Stocks (m)', fontsize=14)\n",
    "plt.ylabel('Total Absolute Error', fontsize=12)\n",
    "plt.xlabel('# of Stocks (m)', fontsize=12)\n",
    "plt.legend()\n",
    "plt.show()"
   ]
  },
  {
   "cell_type": "code",
   "execution_count": null,
   "metadata": {},
   "outputs": [],
   "source": []
  },
  {
   "cell_type": "markdown",
   "metadata": {},
   "source": [
    "## Analysis\n",
    "MIP Approach"
   ]
  },
  {
   "cell_type": "code",
   "execution_count": 22,
   "metadata": {},
   "outputs": [],
   "source": [
    "# Data\n",
    "results_2 = pd.read_csv('02_1_results_MIP_approach.csv')\n",
    "returns_train_2 = pd.read_csv('02_2_returns_MIP_train_portfolios.csv')\n",
    "returns_oos_2 = pd.read_csv('02_3_returns_MIP_oos_portfolios.csv')\n",
    "weights_2 = pd.read_csv('02_4_weights_MIP_approach.csv', index_col=0)"
   ]
  },
  {
   "cell_type": "code",
   "execution_count": 23,
   "metadata": {},
   "outputs": [
    {
     "data": {
      "image/png": "[encoded data removed]",
      "text/plain": [
       "<Figure size 864x360 with 2 Axes>"
      ]
     },
     "metadata": {
      "needs_background": "light"
     },
     "output_type": "display_data"
    }
   ],
   "source": [
    "import matplotlib.pyplot as plt\n",
    "\n",
    "m = 5\n",
    "\n",
    "min_d = min(returns_train_2[f'm_{m}'].min(),returns_oos_2[f'm_{m}'].min())\n",
    "max_d = max(returns_train_2[f'm_{m}'].max(),returns_oos_2[f'm_{m}'].max())\n",
    "txt1 = results_2[results_2['m']==m]['objVal_train'].values[0]\n",
    "txt2 = results_2[results_2['m']==m]['rmse_train'].values[0]\n",
    "txt3 = results_2[results_2['m']==m]['objVal_oos'].values[0]\n",
    "txt4 = results_2[results_2['m']==m]['rmse_oos'].values[0]\n",
    "\n",
    "# Plot\n",
    "fig, (ax1, ax2) = plt.subplots(1, 2, figsize=(12,5))\n",
    "fig.suptitle(f'Portfolio Vs Index Returns - m = {m}', fontsize=16)\n",
    "\n",
    "#graph for 2019 showing portfolio returns and index returns\n",
    "\n",
    "ax1.scatter(returns_train_2['m_5'],returns_train_2[col_index_name])\n",
    "ax1.plot([min_d, max_d], [min_d, max_d], 'r-', lw=1,dashes=[2, 2])\n",
    "ax1.text(max_d-.1, max_d-0.01, 'ObjVal (TAE) = {0:.3f}'.format(txt1), horizontalalignment='left')\n",
    "ax1.text(max_d-.1, max_d-0.03, 'RMSE = {0:.3f}'.format(txt2), horizontalalignment='left')\n",
    "ax1.set_ylabel('Index Returns')\n",
    "ax1.set_xlabel('Portfolio Returns')\n",
    "ax1.set_title('Train - 2019')\n",
    "\n",
    "#graph for 2020 showing portfolio returns and index returns\n",
    "\n",
    "ax2.scatter(returns_oos_2['m_5'],returns_oos_2[col_index_name])\n",
    "ax2.plot([min_d, max_d], [min_d, max_d], 'r-', lw=1,dashes=[2, 2])\n",
    "ax2.text(max_d-.1, max_d-0.01, 'TAE (ObjVal) = {0:.3f}'.format(txt3), horizontalalignment='left')\n",
    "ax2.text(max_d-.1, max_d-0.03, 'RMSE = {0:.3f}'.format(txt4), horizontalalignment='left')\n",
    "ax2.set_ylabel('Index Returns')\n",
    "ax2.set_xlabel('Portfolio Returns')\n",
    "ax2.set_title('Out of Sample - 2020')\n",
    "plt.show()"
   ]
  },
  {
   "cell_type": "code",
   "execution_count": 24,
   "metadata": {},
   "outputs": [
    {
     "data": {
      "image/png": "[encoded data removed]",
      "text/plain": [
       "<Figure size 720x360 with 1 Axes>"
      ]
     },
     "metadata": {
      "needs_background": "light"
     },
     "output_type": "display_data"
    }
   ],
   "source": [
    "# Objective Val - MIP Approach: \n",
    "\n",
    "# graph comparing 2019 and 2020 Total absolute errors for different number of stocks\n",
    "plt.figure(figsize=(10,5))\n",
    "plt.plot(results_2['m'],results_2['objVal_train'], marker='p', label='train - 2019')\n",
    "plt.plot(results_2['m'],results_2['objVal_oos'], marker='p', label='out of sample - 2020')\n",
    "plt.xticks(results_2['m'].tolist())\n",
    "plt.axvspan(75, 85, color='g', alpha=0.15)\n",
    "plt.title('Total Absolute Error per # of Stocks (m)', fontsize=14)\n",
    "plt.ylabel('Total Absolute Error', fontsize=12)\n",
    "plt.xlabel('# of Stocks (m)', fontsize=12)\n",
    "plt.legend()\n",
    "plt.show()"
   ]
  },
  {
   "cell_type": "code",
   "execution_count": null,
   "metadata": {},
   "outputs": [],
   "source": []
  },
  {
   "cell_type": "markdown",
   "metadata": {},
   "source": [
    "## Comparison First Approach Vs Second Approach"
   ]
  },
  {
   "cell_type": "code",
   "execution_count": 25,
   "metadata": {},
   "outputs": [
    {
     "data": {
      "image/png": "[encoded data removed]",
      "text/plain": [
       "<Figure size 720x360 with 1 Axes>"
      ]
     },
     "metadata": {
      "needs_background": "light"
     },
     "output_type": "display_data"
    }
   ],
   "source": [
    "# Comparison: 2-step Approach Vs MIP Approach: \n",
    "plt.figure(figsize=(10,5))\n",
    "plt.plot(results_1['m'],results_1['objVal_oos'], marker='p', label='2-step approach - 2020')\n",
    "plt.plot(results_2['m'],results_2['objVal_oos'], marker='p', label='MIP approach - 2020')\n",
    "plt.xticks(results_2['m'].tolist())\n",
    "#plt.axvspan(75, 85, color='g', alpha=0.15)\n",
    "plt.title('Comparison Total Absolute Error - Out of Sample', fontsize=14)\n",
    "plt.ylabel('Total Absolute Error', fontsize=12)\n",
    "plt.xlabel('# of Stocks (m)', fontsize=12)\n",
    "plt.legend()\n",
    "plt.show()"
   ]
  },
  {
   "cell_type": "code",
   "execution_count": null,
   "metadata": {},
   "outputs": [],
   "source": []
  },
  {
   "cell_type": "markdown",
   "metadata": {},
   "source": [
    "### Average Absolute Error per Quintiles - 2019 and 2020 (Analysis)"
   ]
  },
  {
   "cell_type": "code",
   "execution_count": 26,
   "metadata": {},
   "outputs": [],
   "source": [
    "# df_ret = returns_train_1\n",
    "\n",
    "# ret_tmp = df_ret.copy()\n",
    "# ret_tmp['d_50'] = abs(df_ret['NDX']-returns_oos_1['m_50'])\n",
    "# ret_tmp['q_50'] = pd.qcut(ret_tmp['d_50'], 5, labels=[1,2,3,4,5])\n",
    "# ret_tmp_1 = ret_tmp.groupby('q_50')['d_50'].mean()\n",
    "# #ret_tmp_1\n",
    "\n",
    "# ret_tmp = df_ret.copy()\n",
    "# ret_tmp['d_60'] = abs(df_ret['NDX']-returns_oos_1['m_60'])\n",
    "# ret_tmp['q_60'] = pd.qcut(ret_tmp['d_60'], 5, labels=[1,2,3,4,5])\n",
    "# ret_tmp_2 = ret_tmp.groupby('q_60')['d_60'].mean()\n",
    "# #ret_tmp_2\n",
    "\n",
    "# ret_tmp = df_ret.copy()\n",
    "# ret_tmp['d_70'] = abs(df_ret['NDX']-returns_oos_1['m_70'])\n",
    "# ret_tmp['q_70'] = pd.qcut(ret_tmp['d_70'], 5, labels=[1,2,3,4,5])\n",
    "# ret_tmp_3 = ret_tmp.groupby('q_70')['d_70'].mean()\n",
    "# #ret_tmp_3"
   ]
  },
  {
   "cell_type": "code",
   "execution_count": 27,
   "metadata": {},
   "outputs": [
    {
     "data": {
      "image/png": "[encoded data removed]",
      "text/plain": [
       "<Figure size 432x288 with 1 Axes>"
      ]
     },
     "metadata": {
      "needs_background": "light"
     },
     "output_type": "display_data"
    }
   ],
   "source": [
    "# plt.title('Average Absolute Error per Quintiles - 2019')\n",
    "# plt.plot(ret_tmp_1, label = 'm=50')\n",
    "# plt.plot(ret_tmp_2, label = 'm=60')\n",
    "# plt.plot(ret_tmp_3, label = 'm=70')\n",
    "# plt.ylabel('Average Absolute Error')\n",
    "# plt.xlabel('Quintiles')\n",
    "# plt.xticks([1,2,3,4,5])\n",
    "# plt.legend()\n",
    "# plt.show()"
   ]
  },
  {
   "cell_type": "code",
   "execution_count": 28,
   "metadata": {},
   "outputs": [],
   "source": [
    "# df_ret = returns_oos_1\n",
    "\n",
    "# ret_tmp = df_ret.copy()\n",
    "# ret_tmp['d_50'] = abs(df_ret['NDX']-returns_oos_1['m_50'])\n",
    "# ret_tmp['q_50'] = pd.qcut(ret_tmp['d_50'], 5, labels=[1,2,3,4,5])\n",
    "# ret_tmp_1 = ret_tmp.groupby('q_50')['d_50'].mean()\n",
    "# #ret_tmp_1\n",
    "\n",
    "# ret_tmp = df_ret.copy()\n",
    "# ret_tmp['d_60'] = abs(df_ret['NDX']-returns_oos_1['m_60'])\n",
    "# ret_tmp['q_60'] = pd.qcut(ret_tmp['d_60'], 5, labels=[1,2,3,4,5])\n",
    "# ret_tmp_2 = ret_tmp.groupby('q_60')['d_60'].mean()\n",
    "# #ret_tmp_2\n",
    "\n",
    "# ret_tmp = df_ret.copy()\n",
    "# ret_tmp['d_70'] = abs(df_ret['NDX']-returns_oos_1['m_70'])\n",
    "# ret_tmp['q_70'] = pd.qcut(ret_tmp['d_70'], 5, labels=[1,2,3,4,5])\n",
    "# ret_tmp_3 = ret_tmp.groupby('q_70')['d_70'].mean()\n",
    "# #ret_tmp_3"
   ]
  },
  {
   "cell_type": "code",
   "execution_count": 29,
   "metadata": {},
   "outputs": [
    {
     "data": {
      "image/png": "[encoded data removed]",
      "text/plain": [
       "<Figure size 432x288 with 1 Axes>"
      ]
     },
     "metadata": {
      "needs_background": "light"
     },
     "output_type": "display_data"
    }
   ],
   "source": [
    "# plt.title('Average Absolute Error per Quintiles - 2020')\n",
    "# plt.plot(ret_tmp_1, label = 'm=50')\n",
    "# plt.plot(ret_tmp_2, label = 'm=60')\n",
    "# plt.plot(ret_tmp_3, label = 'm=70')\n",
    "# plt.ylabel('Average Absolute Error')\n",
    "# plt.xlabel('Quintiles')\n",
    "# plt.xticks([1,2,3,4,5])\n",
    "# plt.legend()\n",
    "# plt.show()"
   ]
  },
  {
   "cell_type": "code",
   "execution_count": null,
   "metadata": {},
   "outputs": [],
   "source": []
  },
  {
   "cell_type": "code",
   "execution_count": null,
   "metadata": {},
   "outputs": [],
   "source": []
  }
 ],
 "metadata": {
  "colab": {
   "provenance": []
  },
  "kernelspec": {
   "display_name": "Python 3",
   "language": "python",
   "name": "python3"
  },
  "language_info": {
   "codemirror_mode": {
    "name": "ipython",
    "version": 3
   },
   "file_extension": ".py",
   "mimetype": "text/x-python",
   "name": "python",
   "nbconvert_exporter": "python",
   "pygments_lexer": "ipython3",
   "version": "3.7.6"
  }
 },
 "nbformat": 4,
 "nbformat_minor": 1
}
